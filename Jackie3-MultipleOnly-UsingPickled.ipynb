{
 "cells": [
  {
   "cell_type": "code",
   "execution_count": 1,
   "id": "397c4628",
   "metadata": {},
   "outputs": [],
   "source": [
    "import gzip\n",
    "import json\n",
    "import re\n",
    "import os\n",
    "import sys\n",
    "import numpy as np\n",
    "import pandas as pd\n",
    "import sklearn.model_selection\n",
    "import scipy\n",
    "import sklearn.metrics.pairwise as pw\n",
    "from time import time\n",
    "import matplotlib.pyplot as plt"
   ]
  },
  {
   "cell_type": "code",
   "execution_count": 2,
   "id": "fedea9cc",
   "metadata": {},
   "outputs": [],
   "source": [
    "# Specify your directory\n",
    "DIR = r'C:\\Users\\Jackie\\OneDrive - Georgia Institute of Technology\\ISYE6740 Computational Data Analytics\\Project\\Data\\Genres\\YoungAdult'"
   ]
  },
  {
   "cell_type": "code",
   "execution_count": 4,
   "id": "bfdc1024",
   "metadata": {},
   "outputs": [],
   "source": [
    "# Load pickled files\n",
    "df = pd.read_pickle('atleast500ratings50books.pkl')"
   ]
  },
  {
   "cell_type": "code",
   "execution_count": 5,
   "id": "a6af373f",
   "metadata": {},
   "outputs": [
    {
     "data": {
      "text/html": [
       "<div>\n",
       "<style scoped>\n",
       "    .dataframe tbody tr th:only-of-type {\n",
       "        vertical-align: middle;\n",
       "    }\n",
       "\n",
       "    .dataframe tbody tr th {\n",
       "        vertical-align: top;\n",
       "    }\n",
       "\n",
       "    .dataframe thead th {\n",
       "        text-align: right;\n",
       "    }\n",
       "</style>\n",
       "<table border=\"1\" class=\"dataframe\">\n",
       "  <thead>\n",
       "    <tr style=\"text-align: right;\">\n",
       "      <th></th>\n",
       "      <th>user_id</th>\n",
       "      <th>book_id</th>\n",
       "      <th>review_id</th>\n",
       "      <th>is_read</th>\n",
       "      <th>rating</th>\n",
       "      <th>review_text_incomplete</th>\n",
       "      <th>date_added</th>\n",
       "      <th>date_updated</th>\n",
       "      <th>read_at</th>\n",
       "      <th>started_at</th>\n",
       "    </tr>\n",
       "  </thead>\n",
       "  <tbody>\n",
       "    <tr>\n",
       "      <th>2641</th>\n",
       "      <td>012515e5802b2e0f42915118c90fa04b</td>\n",
       "      <td>13206828</td>\n",
       "      <td>1d5b64fe0408bb5e1824d14631ccb5ee</td>\n",
       "      <td>True</td>\n",
       "      <td>5</td>\n",
       "      <td>LET'S JUST SAY I AM SO THANKFUL I HAVE THE NEX...</td>\n",
       "      <td>Sat Sep 23 08:39:21 -0700 2017</td>\n",
       "      <td>Sat Sep 30 11:30:46 -0700 2017</td>\n",
       "      <td>Thu Sep 28 16:51:17 -0700 2017</td>\n",
       "      <td>Sun Sep 24 00:00:00 -0700 2017</td>\n",
       "    </tr>\n",
       "    <tr>\n",
       "      <th>2642</th>\n",
       "      <td>012515e5802b2e0f42915118c90fa04b</td>\n",
       "      <td>13206900</td>\n",
       "      <td>9de8dc1b8fa869233251e2a6eb783552</td>\n",
       "      <td>True</td>\n",
       "      <td>4</td>\n",
       "      <td>I can't believe it's over 😢</td>\n",
       "      <td>Sat Sep 23 08:39:03 -0700 2017</td>\n",
       "      <td>Sat Oct 07 18:02:29 -0700 2017</td>\n",
       "      <td>Sat Oct 07 00:00:00 -0700 2017</td>\n",
       "      <td>Thu Sep 28 00:00:00 -0700 2017</td>\n",
       "    </tr>\n",
       "    <tr>\n",
       "      <th>2643</th>\n",
       "      <td>012515e5802b2e0f42915118c90fa04b</td>\n",
       "      <td>13206760</td>\n",
       "      <td>1fc0c08b3224b734b51996989ce52344</td>\n",
       "      <td>True</td>\n",
       "      <td>5</td>\n",
       "      <td>I didn't know if I would enjoy the book being ...</td>\n",
       "      <td>Wed Sep 20 04:51:35 -0700 2017</td>\n",
       "      <td>Sat Sep 30 11:30:43 -0700 2017</td>\n",
       "      <td>Sun Sep 24 14:08:38 -0700 2017</td>\n",
       "      <td>Thu Sep 21 00:00:00 -0700 2017</td>\n",
       "    </tr>\n",
       "    <tr>\n",
       "      <th>2650</th>\n",
       "      <td>012515e5802b2e0f42915118c90fa04b</td>\n",
       "      <td>25785357</td>\n",
       "      <td>bd32b0bc61d3d7250abd19931bc0d328</td>\n",
       "      <td>True</td>\n",
       "      <td>4</td>\n",
       "      <td></td>\n",
       "      <td>Sat Aug 26 20:18:15 -0700 2017</td>\n",
       "      <td>Sat Aug 26 20:18:49 -0700 2017</td>\n",
       "      <td>Sat Aug 26 00:00:00 -0700 2017</td>\n",
       "      <td>Wed Aug 23 00:00:00 -0700 2017</td>\n",
       "    </tr>\n",
       "    <tr>\n",
       "      <th>2654</th>\n",
       "      <td>012515e5802b2e0f42915118c90fa04b</td>\n",
       "      <td>23174274</td>\n",
       "      <td>b8cc88b5ce926cfa7f42ff258f653b91</td>\n",
       "      <td>True</td>\n",
       "      <td>3</td>\n",
       "      <td></td>\n",
       "      <td>Mon Aug 29 07:52:11 -0700 2016</td>\n",
       "      <td>Sat Oct 21 09:13:53 -0700 2017</td>\n",
       "      <td>Sat Oct 21 09:13:53 -0700 2017</td>\n",
       "      <td>Mon Oct 16 14:39:13 -0700 2017</td>\n",
       "    </tr>\n",
       "    <tr>\n",
       "      <th>...</th>\n",
       "      <td>...</td>\n",
       "      <td>...</td>\n",
       "      <td>...</td>\n",
       "      <td>...</td>\n",
       "      <td>...</td>\n",
       "      <td>...</td>\n",
       "      <td>...</td>\n",
       "      <td>...</td>\n",
       "      <td>...</td>\n",
       "      <td>...</td>\n",
       "    </tr>\n",
       "    <tr>\n",
       "      <th>34910823</th>\n",
       "      <td>e16a5b46d4657be66169dd43be0c79e8</td>\n",
       "      <td>11387392</td>\n",
       "      <td>80a383b99ee3c7a256b61f494d6f0acb</td>\n",
       "      <td>True</td>\n",
       "      <td>3</td>\n",
       "      <td></td>\n",
       "      <td>Fri Nov 23 21:25:20 -0800 2012</td>\n",
       "      <td>Fri Mar 15 14:56:40 -0700 2013</td>\n",
       "      <td></td>\n",
       "      <td></td>\n",
       "    </tr>\n",
       "    <tr>\n",
       "      <th>34910824</th>\n",
       "      <td>e16a5b46d4657be66169dd43be0c79e8</td>\n",
       "      <td>6148028</td>\n",
       "      <td>22c09522de7da0bfbb596639ef55719a</td>\n",
       "      <td>True</td>\n",
       "      <td>4</td>\n",
       "      <td></td>\n",
       "      <td>Fri Nov 23 21:24:39 -0800 2012</td>\n",
       "      <td>Fri Nov 23 21:24:39 -0800 2012</td>\n",
       "      <td></td>\n",
       "      <td></td>\n",
       "    </tr>\n",
       "    <tr>\n",
       "      <th>34910825</th>\n",
       "      <td>e16a5b46d4657be66169dd43be0c79e8</td>\n",
       "      <td>7260188</td>\n",
       "      <td>f1f72b60aa7ab44e2ca1a93c3f2af6d9</td>\n",
       "      <td>True</td>\n",
       "      <td>4</td>\n",
       "      <td></td>\n",
       "      <td>Fri Nov 23 21:24:35 -0800 2012</td>\n",
       "      <td>Fri Nov 23 21:24:35 -0800 2012</td>\n",
       "      <td></td>\n",
       "      <td></td>\n",
       "    </tr>\n",
       "    <tr>\n",
       "      <th>34910826</th>\n",
       "      <td>e16a5b46d4657be66169dd43be0c79e8</td>\n",
       "      <td>2767052</td>\n",
       "      <td>0e4469f9999b9d448d84400bc7b92ce2</td>\n",
       "      <td>True</td>\n",
       "      <td>5</td>\n",
       "      <td></td>\n",
       "      <td>Fri Nov 23 21:24:33 -0800 2012</td>\n",
       "      <td>Fri Nov 23 21:24:33 -0800 2012</td>\n",
       "      <td></td>\n",
       "      <td></td>\n",
       "    </tr>\n",
       "    <tr>\n",
       "      <th>34910827</th>\n",
       "      <td>e16a5b46d4657be66169dd43be0c79e8</td>\n",
       "      <td>13496084</td>\n",
       "      <td>3ede96f92ef7e64eee275fa8007604e4</td>\n",
       "      <td>True</td>\n",
       "      <td>4</td>\n",
       "      <td></td>\n",
       "      <td>Fri Nov 23 21:22:42 -0800 2012</td>\n",
       "      <td>Fri Nov 30 14:11:54 -0800 2012</td>\n",
       "      <td></td>\n",
       "      <td></td>\n",
       "    </tr>\n",
       "  </tbody>\n",
       "</table>\n",
       "<p>5440863 rows × 10 columns</p>\n",
       "</div>"
      ],
      "text/plain": [
       "                                   user_id   book_id  \\\n",
       "2641      012515e5802b2e0f42915118c90fa04b  13206828   \n",
       "2642      012515e5802b2e0f42915118c90fa04b  13206900   \n",
       "2643      012515e5802b2e0f42915118c90fa04b  13206760   \n",
       "2650      012515e5802b2e0f42915118c90fa04b  25785357   \n",
       "2654      012515e5802b2e0f42915118c90fa04b  23174274   \n",
       "...                                    ...       ...   \n",
       "34910823  e16a5b46d4657be66169dd43be0c79e8  11387392   \n",
       "34910824  e16a5b46d4657be66169dd43be0c79e8   6148028   \n",
       "34910825  e16a5b46d4657be66169dd43be0c79e8   7260188   \n",
       "34910826  e16a5b46d4657be66169dd43be0c79e8   2767052   \n",
       "34910827  e16a5b46d4657be66169dd43be0c79e8  13496084   \n",
       "\n",
       "                                 review_id  is_read  rating  \\\n",
       "2641      1d5b64fe0408bb5e1824d14631ccb5ee     True       5   \n",
       "2642      9de8dc1b8fa869233251e2a6eb783552     True       4   \n",
       "2643      1fc0c08b3224b734b51996989ce52344     True       5   \n",
       "2650      bd32b0bc61d3d7250abd19931bc0d328     True       4   \n",
       "2654      b8cc88b5ce926cfa7f42ff258f653b91     True       3   \n",
       "...                                    ...      ...     ...   \n",
       "34910823  80a383b99ee3c7a256b61f494d6f0acb     True       3   \n",
       "34910824  22c09522de7da0bfbb596639ef55719a     True       4   \n",
       "34910825  f1f72b60aa7ab44e2ca1a93c3f2af6d9     True       4   \n",
       "34910826  0e4469f9999b9d448d84400bc7b92ce2     True       5   \n",
       "34910827  3ede96f92ef7e64eee275fa8007604e4     True       4   \n",
       "\n",
       "                                     review_text_incomplete  \\\n",
       "2641      LET'S JUST SAY I AM SO THANKFUL I HAVE THE NEX...   \n",
       "2642                            I can't believe it's over 😢   \n",
       "2643      I didn't know if I would enjoy the book being ...   \n",
       "2650                                                          \n",
       "2654                                                          \n",
       "...                                                     ...   \n",
       "34910823                                                      \n",
       "34910824                                                      \n",
       "34910825                                                      \n",
       "34910826                                                      \n",
       "34910827                                                      \n",
       "\n",
       "                              date_added                    date_updated  \\\n",
       "2641      Sat Sep 23 08:39:21 -0700 2017  Sat Sep 30 11:30:46 -0700 2017   \n",
       "2642      Sat Sep 23 08:39:03 -0700 2017  Sat Oct 07 18:02:29 -0700 2017   \n",
       "2643      Wed Sep 20 04:51:35 -0700 2017  Sat Sep 30 11:30:43 -0700 2017   \n",
       "2650      Sat Aug 26 20:18:15 -0700 2017  Sat Aug 26 20:18:49 -0700 2017   \n",
       "2654      Mon Aug 29 07:52:11 -0700 2016  Sat Oct 21 09:13:53 -0700 2017   \n",
       "...                                  ...                             ...   \n",
       "34910823  Fri Nov 23 21:25:20 -0800 2012  Fri Mar 15 14:56:40 -0700 2013   \n",
       "34910824  Fri Nov 23 21:24:39 -0800 2012  Fri Nov 23 21:24:39 -0800 2012   \n",
       "34910825  Fri Nov 23 21:24:35 -0800 2012  Fri Nov 23 21:24:35 -0800 2012   \n",
       "34910826  Fri Nov 23 21:24:33 -0800 2012  Fri Nov 23 21:24:33 -0800 2012   \n",
       "34910827  Fri Nov 23 21:22:42 -0800 2012  Fri Nov 30 14:11:54 -0800 2012   \n",
       "\n",
       "                                 read_at                      started_at  \n",
       "2641      Thu Sep 28 16:51:17 -0700 2017  Sun Sep 24 00:00:00 -0700 2017  \n",
       "2642      Sat Oct 07 00:00:00 -0700 2017  Thu Sep 28 00:00:00 -0700 2017  \n",
       "2643      Sun Sep 24 14:08:38 -0700 2017  Thu Sep 21 00:00:00 -0700 2017  \n",
       "2650      Sat Aug 26 00:00:00 -0700 2017  Wed Aug 23 00:00:00 -0700 2017  \n",
       "2654      Sat Oct 21 09:13:53 -0700 2017  Mon Oct 16 14:39:13 -0700 2017  \n",
       "...                                  ...                             ...  \n",
       "34910823                                                                  \n",
       "34910824                                                                  \n",
       "34910825                                                                  \n",
       "34910826                                                                  \n",
       "34910827                                                                  \n",
       "\n",
       "[5440863 rows x 10 columns]"
      ]
     },
     "execution_count": 5,
     "metadata": {},
     "output_type": "execute_result"
    }
   ],
   "source": [
    "df"
   ]
  },
  {
   "cell_type": "code",
   "execution_count": 6,
   "id": "b4ff3dd7",
   "metadata": {},
   "outputs": [
    {
     "data": {
      "text/plain": [
       "2767052     46342\n",
       "41865       40894\n",
       "6148028     39578\n",
       "7260188     38465\n",
       "256683      37238\n",
       "            ...  \n",
       "14762463      116\n",
       "7776692       107\n",
       "18626858      105\n",
       "6596839        93\n",
       "1242729        45\n",
       "Name: book_id, Length: 1949, dtype: int64"
      ]
     },
     "execution_count": 6,
     "metadata": {},
     "output_type": "execute_result"
    }
   ],
   "source": [
    "df['book_id'].value_counts()"
   ]
  },
  {
   "cell_type": "code",
   "execution_count": 7,
   "id": "df2f85b9",
   "metadata": {},
   "outputs": [
    {
     "data": {
      "text/plain": [
       "(array([1.677e+03, 1.690e+02, 4.800e+01, 2.600e+01, 1.100e+01, 5.000e+00,\n",
       "        7.000e+00, 1.000e+00, 4.000e+00, 1.000e+00]),\n",
       " array([4.50000e+01, 4.67470e+03, 9.30440e+03, 1.39341e+04, 1.85638e+04,\n",
       "        2.31935e+04, 2.78232e+04, 3.24529e+04, 3.70826e+04, 4.17123e+04,\n",
       "        4.63420e+04]),\n",
       " <BarContainer object of 10 artists>)"
      ]
     },
     "execution_count": 7,
     "metadata": {},
     "output_type": "execute_result"
    },
    {
     "data": {
      "image/png": "[encoded data removed]",
      "text/plain": [
       "<Figure size 432x288 with 1 Axes>"
      ]
     },
     "metadata": {
      "needs_background": "light"
     },
     "output_type": "display_data"
    }
   ],
   "source": [
    "plt.hist(df['book_id'].value_counts())"
   ]
  },
  {
   "cell_type": "code",
   "execution_count": 8,
   "id": "7deaac97",
   "metadata": {},
   "outputs": [
    {
     "data": {
      "text/plain": [
       "(array([0., 0., 0., 0., 0., 2.]),\n",
       " array([  1,   2,   3,   4,   5,  10, 100]),\n",
       " <BarContainer object of 6 artists>)"
      ]
     },
     "execution_count": 8,
     "metadata": {},
     "output_type": "execute_result"
    },
    {
     "data": {
      "image/png": "[encoded data removed]",
      "text/plain": [
       "<Figure size 432x288 with 1 Axes>"
      ]
     },
     "metadata": {
      "needs_background": "light"
     },
     "output_type": "display_data"
    }
   ],
   "source": [
    "plt.hist(df['book_id'].value_counts(), bins=[1,2,3,4,5,10,100])"
   ]
  },
  {
   "cell_type": "code",
   "execution_count": 9,
   "id": "485b2c98",
   "metadata": {},
   "outputs": [],
   "source": [
    "# The Young Adult genre has the highest interaction / book ratio: 34,919,254 interactions and 93,398 books\n",
    "#interactions = load_data(os.path.join(DIR, 'goodreads_interactions_young_adult.json.gz'))"
   ]
  },
  {
   "cell_type": "code",
   "execution_count": 10,
   "id": "3a0ba628",
   "metadata": {},
   "outputs": [
    {
     "data": {
      "image/png": "[encoded data removed]",
      "text/plain": [
       "<Figure size 432x288 with 1 Axes>"
      ]
     },
     "metadata": {
      "needs_background": "light"
     },
     "output_type": "display_data"
    }
   ],
   "source": [
    "plt.hist(df['rating'], bins=[1,2,3,4,5])\n",
    "plt.show()"
   ]
  },
  {
   "cell_type": "code",
   "execution_count": 11,
   "id": "78ea03e0",
   "metadata": {},
   "outputs": [
    {
     "data": {
      "text/plain": [
       "3.9592542580101724"
      ]
     },
     "execution_count": 11,
     "metadata": {},
     "output_type": "execute_result"
    }
   ],
   "source": [
    "# Calculate average rating\n",
    "avg_rating = np.mean(df['rating'])\n",
    "avg_rating"
   ]
  },
  {
   "cell_type": "code",
   "execution_count": 12,
   "id": "c2856f3d",
   "metadata": {},
   "outputs": [],
   "source": [
    "# Define user-book rating matrix\n",
    "mat = df.pivot(index='user_id', columns='book_id', values='rating')\n",
    "mat.replace(0, np.nan, inplace=True)"
   ]
  },
  {
   "cell_type": "code",
   "execution_count": 13,
   "id": "2ab94a38",
   "metadata": {},
   "outputs": [],
   "source": [
    "# Breaking it down still gets the same error\n",
    "# mat1 = df.set_index(['user_id', 'book_id'])\n",
    "# mat2 = mat1['rating']\n",
    "# mat3 = mat2.unstack('book_id')"
   ]
  },
  {
   "cell_type": "code",
   "execution_count": 14,
   "id": "c9e34fac",
   "metadata": {},
   "outputs": [
    {
     "data": {
      "text/html": [
       "<div>\n",
       "<style scoped>\n",
       "    .dataframe tbody tr th:only-of-type {\n",
       "        vertical-align: middle;\n",
       "    }\n",
       "\n",
       "    .dataframe tbody tr th {\n",
       "        vertical-align: top;\n",
       "    }\n",
       "\n",
       "    .dataframe thead th {\n",
       "        text-align: right;\n",
       "    }\n",
       "</style>\n",
       "<table border=\"1\" class=\"dataframe\">\n",
       "  <thead>\n",
       "    <tr style=\"text-align: right;\">\n",
       "      <th>book_id</th>\n",
       "      <th>10025007</th>\n",
       "      <th>10025305</th>\n",
       "      <th>10048874</th>\n",
       "      <th>10118172</th>\n",
       "      <th>10165727</th>\n",
       "      <th>10165761</th>\n",
       "      <th>10174795</th>\n",
       "      <th>10188580</th>\n",
       "      <th>101914</th>\n",
       "      <th>10193062</th>\n",
       "      <th>...</th>\n",
       "      <th>9917938</th>\n",
       "      <th>9917945</th>\n",
       "      <th>9917998</th>\n",
       "      <th>9918083</th>\n",
       "      <th>9918128</th>\n",
       "      <th>99561</th>\n",
       "      <th>9961796</th>\n",
       "      <th>9972838</th>\n",
       "      <th>9972882</th>\n",
       "      <th>9975679</th>\n",
       "    </tr>\n",
       "    <tr>\n",
       "      <th>user_id</th>\n",
       "      <th></th>\n",
       "      <th></th>\n",
       "      <th></th>\n",
       "      <th></th>\n",
       "      <th></th>\n",
       "      <th></th>\n",
       "      <th></th>\n",
       "      <th></th>\n",
       "      <th></th>\n",
       "      <th></th>\n",
       "      <th></th>\n",
       "      <th></th>\n",
       "      <th></th>\n",
       "      <th></th>\n",
       "      <th></th>\n",
       "      <th></th>\n",
       "      <th></th>\n",
       "      <th></th>\n",
       "      <th></th>\n",
       "      <th></th>\n",
       "      <th></th>\n",
       "    </tr>\n",
       "  </thead>\n",
       "  <tbody>\n",
       "    <tr>\n",
       "      <th>000192962b87d560f00b06fdcbd71681</th>\n",
       "      <td>NaN</td>\n",
       "      <td>NaN</td>\n",
       "      <td>NaN</td>\n",
       "      <td>NaN</td>\n",
       "      <td>NaN</td>\n",
       "      <td>NaN</td>\n",
       "      <td>NaN</td>\n",
       "      <td>NaN</td>\n",
       "      <td>NaN</td>\n",
       "      <td>NaN</td>\n",
       "      <td>...</td>\n",
       "      <td>NaN</td>\n",
       "      <td>NaN</td>\n",
       "      <td>NaN</td>\n",
       "      <td>NaN</td>\n",
       "      <td>NaN</td>\n",
       "      <td>4.0</td>\n",
       "      <td>NaN</td>\n",
       "      <td>NaN</td>\n",
       "      <td>NaN</td>\n",
       "      <td>NaN</td>\n",
       "    </tr>\n",
       "    <tr>\n",
       "      <th>000387b0e3d77b6dcc36a66d5cc27347</th>\n",
       "      <td>NaN</td>\n",
       "      <td>4.0</td>\n",
       "      <td>NaN</td>\n",
       "      <td>NaN</td>\n",
       "      <td>NaN</td>\n",
       "      <td>NaN</td>\n",
       "      <td>NaN</td>\n",
       "      <td>NaN</td>\n",
       "      <td>NaN</td>\n",
       "      <td>NaN</td>\n",
       "      <td>...</td>\n",
       "      <td>5.0</td>\n",
       "      <td>3.0</td>\n",
       "      <td>NaN</td>\n",
       "      <td>NaN</td>\n",
       "      <td>NaN</td>\n",
       "      <td>5.0</td>\n",
       "      <td>NaN</td>\n",
       "      <td>NaN</td>\n",
       "      <td>NaN</td>\n",
       "      <td>NaN</td>\n",
       "    </tr>\n",
       "    <tr>\n",
       "      <th>0007f8dd09337afd986d765569cf0110</th>\n",
       "      <td>NaN</td>\n",
       "      <td>NaN</td>\n",
       "      <td>NaN</td>\n",
       "      <td>NaN</td>\n",
       "      <td>NaN</td>\n",
       "      <td>NaN</td>\n",
       "      <td>NaN</td>\n",
       "      <td>NaN</td>\n",
       "      <td>NaN</td>\n",
       "      <td>NaN</td>\n",
       "      <td>...</td>\n",
       "      <td>NaN</td>\n",
       "      <td>NaN</td>\n",
       "      <td>NaN</td>\n",
       "      <td>NaN</td>\n",
       "      <td>NaN</td>\n",
       "      <td>NaN</td>\n",
       "      <td>5.0</td>\n",
       "      <td>NaN</td>\n",
       "      <td>NaN</td>\n",
       "      <td>NaN</td>\n",
       "    </tr>\n",
       "    <tr>\n",
       "      <th>000883382802f2d95a3dd545bb953882</th>\n",
       "      <td>NaN</td>\n",
       "      <td>5.0</td>\n",
       "      <td>NaN</td>\n",
       "      <td>NaN</td>\n",
       "      <td>NaN</td>\n",
       "      <td>NaN</td>\n",
       "      <td>NaN</td>\n",
       "      <td>NaN</td>\n",
       "      <td>NaN</td>\n",
       "      <td>NaN</td>\n",
       "      <td>...</td>\n",
       "      <td>NaN</td>\n",
       "      <td>NaN</td>\n",
       "      <td>NaN</td>\n",
       "      <td>NaN</td>\n",
       "      <td>NaN</td>\n",
       "      <td>NaN</td>\n",
       "      <td>NaN</td>\n",
       "      <td>NaN</td>\n",
       "      <td>NaN</td>\n",
       "      <td>NaN</td>\n",
       "    </tr>\n",
       "    <tr>\n",
       "      <th>000891e40dc9b9a6726caff9232be979</th>\n",
       "      <td>NaN</td>\n",
       "      <td>NaN</td>\n",
       "      <td>NaN</td>\n",
       "      <td>NaN</td>\n",
       "      <td>NaN</td>\n",
       "      <td>NaN</td>\n",
       "      <td>NaN</td>\n",
       "      <td>NaN</td>\n",
       "      <td>NaN</td>\n",
       "      <td>NaN</td>\n",
       "      <td>...</td>\n",
       "      <td>NaN</td>\n",
       "      <td>NaN</td>\n",
       "      <td>NaN</td>\n",
       "      <td>NaN</td>\n",
       "      <td>NaN</td>\n",
       "      <td>5.0</td>\n",
       "      <td>5.0</td>\n",
       "      <td>NaN</td>\n",
       "      <td>NaN</td>\n",
       "      <td>NaN</td>\n",
       "    </tr>\n",
       "    <tr>\n",
       "      <th>...</th>\n",
       "      <td>...</td>\n",
       "      <td>...</td>\n",
       "      <td>...</td>\n",
       "      <td>...</td>\n",
       "      <td>...</td>\n",
       "      <td>...</td>\n",
       "      <td>...</td>\n",
       "      <td>...</td>\n",
       "      <td>...</td>\n",
       "      <td>...</td>\n",
       "      <td>...</td>\n",
       "      <td>...</td>\n",
       "      <td>...</td>\n",
       "      <td>...</td>\n",
       "      <td>...</td>\n",
       "      <td>...</td>\n",
       "      <td>...</td>\n",
       "      <td>...</td>\n",
       "      <td>...</td>\n",
       "      <td>...</td>\n",
       "      <td>...</td>\n",
       "    </tr>\n",
       "    <tr>\n",
       "      <th>fffbeab06c4060af4387a8922bf017cc</th>\n",
       "      <td>NaN</td>\n",
       "      <td>NaN</td>\n",
       "      <td>NaN</td>\n",
       "      <td>NaN</td>\n",
       "      <td>NaN</td>\n",
       "      <td>NaN</td>\n",
       "      <td>NaN</td>\n",
       "      <td>NaN</td>\n",
       "      <td>NaN</td>\n",
       "      <td>NaN</td>\n",
       "      <td>...</td>\n",
       "      <td>NaN</td>\n",
       "      <td>2.0</td>\n",
       "      <td>NaN</td>\n",
       "      <td>NaN</td>\n",
       "      <td>NaN</td>\n",
       "      <td>NaN</td>\n",
       "      <td>NaN</td>\n",
       "      <td>NaN</td>\n",
       "      <td>NaN</td>\n",
       "      <td>NaN</td>\n",
       "    </tr>\n",
       "    <tr>\n",
       "      <th>fffcca008c7770bc559e43b2edf24a6d</th>\n",
       "      <td>NaN</td>\n",
       "      <td>5.0</td>\n",
       "      <td>NaN</td>\n",
       "      <td>NaN</td>\n",
       "      <td>NaN</td>\n",
       "      <td>NaN</td>\n",
       "      <td>NaN</td>\n",
       "      <td>NaN</td>\n",
       "      <td>NaN</td>\n",
       "      <td>NaN</td>\n",
       "      <td>...</td>\n",
       "      <td>NaN</td>\n",
       "      <td>NaN</td>\n",
       "      <td>NaN</td>\n",
       "      <td>NaN</td>\n",
       "      <td>NaN</td>\n",
       "      <td>3.0</td>\n",
       "      <td>NaN</td>\n",
       "      <td>NaN</td>\n",
       "      <td>NaN</td>\n",
       "      <td>NaN</td>\n",
       "    </tr>\n",
       "    <tr>\n",
       "      <th>fffce7dae5ac5e8fb6288d81658ececc</th>\n",
       "      <td>NaN</td>\n",
       "      <td>NaN</td>\n",
       "      <td>NaN</td>\n",
       "      <td>NaN</td>\n",
       "      <td>NaN</td>\n",
       "      <td>NaN</td>\n",
       "      <td>NaN</td>\n",
       "      <td>NaN</td>\n",
       "      <td>NaN</td>\n",
       "      <td>NaN</td>\n",
       "      <td>...</td>\n",
       "      <td>NaN</td>\n",
       "      <td>NaN</td>\n",
       "      <td>NaN</td>\n",
       "      <td>NaN</td>\n",
       "      <td>NaN</td>\n",
       "      <td>NaN</td>\n",
       "      <td>5.0</td>\n",
       "      <td>NaN</td>\n",
       "      <td>NaN</td>\n",
       "      <td>NaN</td>\n",
       "    </tr>\n",
       "    <tr>\n",
       "      <th>fffcf1fb175cb17786e1c2f83ffe8b8f</th>\n",
       "      <td>NaN</td>\n",
       "      <td>4.0</td>\n",
       "      <td>NaN</td>\n",
       "      <td>NaN</td>\n",
       "      <td>NaN</td>\n",
       "      <td>NaN</td>\n",
       "      <td>NaN</td>\n",
       "      <td>NaN</td>\n",
       "      <td>NaN</td>\n",
       "      <td>NaN</td>\n",
       "      <td>...</td>\n",
       "      <td>NaN</td>\n",
       "      <td>NaN</td>\n",
       "      <td>NaN</td>\n",
       "      <td>NaN</td>\n",
       "      <td>NaN</td>\n",
       "      <td>NaN</td>\n",
       "      <td>NaN</td>\n",
       "      <td>NaN</td>\n",
       "      <td>NaN</td>\n",
       "      <td>NaN</td>\n",
       "    </tr>\n",
       "    <tr>\n",
       "      <th>ffff7cafdaf5196383cb2efca08fb6fe</th>\n",
       "      <td>NaN</td>\n",
       "      <td>5.0</td>\n",
       "      <td>NaN</td>\n",
       "      <td>NaN</td>\n",
       "      <td>NaN</td>\n",
       "      <td>NaN</td>\n",
       "      <td>NaN</td>\n",
       "      <td>NaN</td>\n",
       "      <td>NaN</td>\n",
       "      <td>NaN</td>\n",
       "      <td>...</td>\n",
       "      <td>NaN</td>\n",
       "      <td>NaN</td>\n",
       "      <td>NaN</td>\n",
       "      <td>NaN</td>\n",
       "      <td>NaN</td>\n",
       "      <td>NaN</td>\n",
       "      <td>NaN</td>\n",
       "      <td>NaN</td>\n",
       "      <td>NaN</td>\n",
       "      <td>NaN</td>\n",
       "    </tr>\n",
       "  </tbody>\n",
       "</table>\n",
       "<p>55964 rows × 1949 columns</p>\n",
       "</div>"
      ],
      "text/plain": [
       "book_id                           10025007  10025305  10048874  10118172  \\\n",
       "user_id                                                                    \n",
       "000192962b87d560f00b06fdcbd71681       NaN       NaN       NaN       NaN   \n",
       "000387b0e3d77b6dcc36a66d5cc27347       NaN       4.0       NaN       NaN   \n",
       "0007f8dd09337afd986d765569cf0110       NaN       NaN       NaN       NaN   \n",
       "000883382802f2d95a3dd545bb953882       NaN       5.0       NaN       NaN   \n",
       "000891e40dc9b9a6726caff9232be979       NaN       NaN       NaN       NaN   \n",
       "...                                    ...       ...       ...       ...   \n",
       "fffbeab06c4060af4387a8922bf017cc       NaN       NaN       NaN       NaN   \n",
       "fffcca008c7770bc559e43b2edf24a6d       NaN       5.0       NaN       NaN   \n",
       "fffce7dae5ac5e8fb6288d81658ececc       NaN       NaN       NaN       NaN   \n",
       "fffcf1fb175cb17786e1c2f83ffe8b8f       NaN       4.0       NaN       NaN   \n",
       "ffff7cafdaf5196383cb2efca08fb6fe       NaN       5.0       NaN       NaN   \n",
       "\n",
       "book_id                           10165727  10165761  10174795  10188580  \\\n",
       "user_id                                                                    \n",
       "000192962b87d560f00b06fdcbd71681       NaN       NaN       NaN       NaN   \n",
       "000387b0e3d77b6dcc36a66d5cc27347       NaN       NaN       NaN       NaN   \n",
       "0007f8dd09337afd986d765569cf0110       NaN       NaN       NaN       NaN   \n",
       "000883382802f2d95a3dd545bb953882       NaN       NaN       NaN       NaN   \n",
       "000891e40dc9b9a6726caff9232be979       NaN       NaN       NaN       NaN   \n",
       "...                                    ...       ...       ...       ...   \n",
       "fffbeab06c4060af4387a8922bf017cc       NaN       NaN       NaN       NaN   \n",
       "fffcca008c7770bc559e43b2edf24a6d       NaN       NaN       NaN       NaN   \n",
       "fffce7dae5ac5e8fb6288d81658ececc       NaN       NaN       NaN       NaN   \n",
       "fffcf1fb175cb17786e1c2f83ffe8b8f       NaN       NaN       NaN       NaN   \n",
       "ffff7cafdaf5196383cb2efca08fb6fe       NaN       NaN       NaN       NaN   \n",
       "\n",
       "book_id                           101914  10193062  ...  9917938  9917945  \\\n",
       "user_id                                             ...                     \n",
       "000192962b87d560f00b06fdcbd71681     NaN       NaN  ...      NaN      NaN   \n",
       "000387b0e3d77b6dcc36a66d5cc27347     NaN       NaN  ...      5.0      3.0   \n",
       "0007f8dd09337afd986d765569cf0110     NaN       NaN  ...      NaN      NaN   \n",
       "000883382802f2d95a3dd545bb953882     NaN       NaN  ...      NaN      NaN   \n",
       "000891e40dc9b9a6726caff9232be979     NaN       NaN  ...      NaN      NaN   \n",
       "...                                  ...       ...  ...      ...      ...   \n",
       "fffbeab06c4060af4387a8922bf017cc     NaN       NaN  ...      NaN      2.0   \n",
       "fffcca008c7770bc559e43b2edf24a6d     NaN       NaN  ...      NaN      NaN   \n",
       "fffce7dae5ac5e8fb6288d81658ececc     NaN       NaN  ...      NaN      NaN   \n",
       "fffcf1fb175cb17786e1c2f83ffe8b8f     NaN       NaN  ...      NaN      NaN   \n",
       "ffff7cafdaf5196383cb2efca08fb6fe     NaN       NaN  ...      NaN      NaN   \n",
       "\n",
       "book_id                           9917998  9918083  9918128  99561  9961796  \\\n",
       "user_id                                                                       \n",
       "000192962b87d560f00b06fdcbd71681      NaN      NaN      NaN    4.0      NaN   \n",
       "000387b0e3d77b6dcc36a66d5cc27347      NaN      NaN      NaN    5.0      NaN   \n",
       "0007f8dd09337afd986d765569cf0110      NaN      NaN      NaN    NaN      5.0   \n",
       "000883382802f2d95a3dd545bb953882      NaN      NaN      NaN    NaN      NaN   \n",
       "000891e40dc9b9a6726caff9232be979      NaN      NaN      NaN    5.0      5.0   \n",
       "...                                   ...      ...      ...    ...      ...   \n",
       "fffbeab06c4060af4387a8922bf017cc      NaN      NaN      NaN    NaN      NaN   \n",
       "fffcca008c7770bc559e43b2edf24a6d      NaN      NaN      NaN    3.0      NaN   \n",
       "fffce7dae5ac5e8fb6288d81658ececc      NaN      NaN      NaN    NaN      5.0   \n",
       "fffcf1fb175cb17786e1c2f83ffe8b8f      NaN      NaN      NaN    NaN      NaN   \n",
       "ffff7cafdaf5196383cb2efca08fb6fe      NaN      NaN      NaN    NaN      NaN   \n",
       "\n",
       "book_id                           9972838  9972882  9975679  \n",
       "user_id                                                      \n",
       "000192962b87d560f00b06fdcbd71681      NaN      NaN      NaN  \n",
       "000387b0e3d77b6dcc36a66d5cc27347      NaN      NaN      NaN  \n",
       "0007f8dd09337afd986d765569cf0110      NaN      NaN      NaN  \n",
       "000883382802f2d95a3dd545bb953882      NaN      NaN      NaN  \n",
       "000891e40dc9b9a6726caff9232be979      NaN      NaN      NaN  \n",
       "...                                   ...      ...      ...  \n",
       "fffbeab06c4060af4387a8922bf017cc      NaN      NaN      NaN  \n",
       "fffcca008c7770bc559e43b2edf24a6d      NaN      NaN      NaN  \n",
       "fffce7dae5ac5e8fb6288d81658ececc      NaN      NaN      NaN  \n",
       "fffcf1fb175cb17786e1c2f83ffe8b8f      NaN      NaN      NaN  \n",
       "ffff7cafdaf5196383cb2efca08fb6fe      NaN      NaN      NaN  \n",
       "\n",
       "[55964 rows x 1949 columns]"
      ]
     },
     "execution_count": 14,
     "metadata": {},
     "output_type": "execute_result"
    }
   ],
   "source": [
    "mat"
   ]
  },
  {
   "cell_type": "code",
   "execution_count": 15,
   "id": "eb80569c",
   "metadata": {},
   "outputs": [
    {
     "data": {
      "image/png": "[encoded data removed]",
      "text/plain": [
       "<Figure size 432x288 with 1 Axes>"
      ]
     },
     "metadata": {
      "needs_background": "light"
     },
     "output_type": "display_data"
    }
   ],
   "source": [
    "plt.hist(mat.count())\n",
    "plt.show()"
   ]
  },
  {
   "cell_type": "code",
   "execution_count": 16,
   "id": "9c9ec1d2",
   "metadata": {},
   "outputs": [
    {
     "data": {
      "text/plain": [
       "46342"
      ]
     },
     "execution_count": 16,
     "metadata": {},
     "output_type": "execute_result"
    }
   ],
   "source": [
    "np.max(mat.count())"
   ]
  },
  {
   "cell_type": "code",
   "execution_count": 17,
   "id": "6f2c966c",
   "metadata": {},
   "outputs": [
    {
     "data": {
      "text/plain": [
       "((4896776, 10), (544087, 10))"
      ]
     },
     "execution_count": 17,
     "metadata": {},
     "output_type": "execute_result"
    }
   ],
   "source": [
    "# Train/test split\n",
    "train, test = sklearn.model_selection.train_test_split(df, test_size=0.1, random_state=1111)\n",
    "train.shape, test.shape"
   ]
  },
  {
   "cell_type": "code",
   "execution_count": 18,
   "id": "bd8fe6fc",
   "metadata": {},
   "outputs": [],
   "source": [
    "# Set all test values to nan\n",
    "mat_trainonly = mat\n",
    "zipped_test = np.c_[test['user_id'], test['book_id'], test['rating']]\n",
    "test_mask = np.full(mat.shape, False)\n",
    "for i in range(len(zipped_test)):\n",
    "    row_idx = mat_trainonly.index.get_loc(zipped_test[i][0])\n",
    "    col_idx = mat_trainonly.columns.get_loc(zipped_test[i][1])\n",
    "    test_mask[row_idx, col_idx] = True\n",
    "test_actuals = np.array(mat)[test_mask] # Save test actuals\n",
    "mat_trainonly[test_mask] = np.nan"
   ]
  },
  {
   "cell_type": "code",
   "execution_count": 19,
   "id": "afe1f7a7",
   "metadata": {},
   "outputs": [
    {
     "data": {
      "text/plain": [
       "nan"
      ]
     },
     "execution_count": 19,
     "metadata": {},
     "output_type": "execute_result"
    }
   ],
   "source": [
    "mat_trainonly.at[zipped_test[0][0], zipped_test[0][1]]"
   ]
  },
  {
   "cell_type": "code",
   "execution_count": 20,
   "id": "b7be0a1b",
   "metadata": {},
   "outputs": [
    {
     "data": {
      "text/plain": [
       "0.955105860584201"
      ]
     },
     "execution_count": 20,
     "metadata": {},
     "output_type": "execute_result"
    }
   ],
   "source": [
    "# Calculate sparsity of data\n",
    "not_null = mat_trainonly.count().sum()\n",
    "sparsity = 1 - not_null / (mat.shape[0] * mat_trainonly.shape[1])\n",
    "sparsity"
   ]
  },
  {
   "cell_type": "code",
   "execution_count": 21,
   "id": "752bc837",
   "metadata": {},
   "outputs": [
    {
     "data": {
      "text/plain": [
       "book_id\n",
       "2767052     41720\n",
       "41865       36939\n",
       "6148028     35641\n",
       "7260188     34663\n",
       "256683      33513\n",
       "            ...  \n",
       "14762463      107\n",
       "7776692       100\n",
       "18626858      100\n",
       "6596839        82\n",
       "1242729        37\n",
       "Length: 1949, dtype: int64"
      ]
     },
     "execution_count": 21,
     "metadata": {},
     "output_type": "execute_result"
    }
   ],
   "source": [
    "mat_trainonly.count().sort_values(ascending=False)"
   ]
  },
  {
   "cell_type": "code",
   "execution_count": 22,
   "id": "34309974",
   "metadata": {},
   "outputs": [],
   "source": [
    "# Calculate average rating for each book over users\n",
    "avg_book_rating = np.nanmean(mat_trainonly, axis=0) # column avg r_j\n",
    "# For empty columns, fill with avg rating\n",
    "np.nan_to_num(avg_book_rating, copy=False, nan=avg_rating)\n",
    "\n",
    "# Fill missing value with the appropriate average for that book\n",
    "filled = np.where(np.isnan(mat_trainonly), avg_book_rating, mat_trainonly)"
   ]
  },
  {
   "cell_type": "code",
   "execution_count": 23,
   "id": "86df05d7",
   "metadata": {},
   "outputs": [],
   "source": [
    "# Remove from each user (row) the mean over all books\n",
    "avg_user_rating = np.average(filled, axis=1) # row avg r_i\n",
    "avg_user_rating_col_vec = avg_user_rating.reshape(len(avg_user_rating),1)\n",
    "normalized = filled - avg_user_rating_col_vec"
   ]
  },
  {
   "cell_type": "code",
   "execution_count": 24,
   "id": "67cc7a0d",
   "metadata": {},
   "outputs": [
    {
     "data": {
      "text/plain": [
       "array([[-0.07022531,  0.61177979, -0.06332044, ..., -0.49859838,\n",
       "        -0.40473205, -0.04079204],\n",
       "       [-0.0362534 ,  0.14656869, -0.02934853, ..., -0.46462647,\n",
       "        -0.37076014, -0.00682014],\n",
       "       [-0.09028168,  0.59172341, -0.08337681, ..., -0.51865475,\n",
       "        -0.42478842, -0.06084842],\n",
       "       ...,\n",
       "       [-0.06884702,  0.61315807, -0.06194215, ..., -0.4972201 ,\n",
       "        -0.40335376, -0.03941376],\n",
       "       [-0.0616276 ,  0.12119449, -0.05472273, ..., -0.49000067,\n",
       "        -0.39613434, -0.03219434],\n",
       "       [-0.07195063,  0.61005446, -0.06504576, ..., -0.50032371,\n",
       "        -0.40645737, -0.04251737]])"
      ]
     },
     "execution_count": 24,
     "metadata": {},
     "output_type": "execute_result"
    }
   ],
   "source": [
    "normalized"
   ]
  },
  {
   "cell_type": "code",
   "execution_count": 25,
   "id": "9ee9260e",
   "metadata": {},
   "outputs": [
    {
     "data": {
      "text/plain": [
       "(55964, 1949)"
      ]
     },
     "execution_count": 25,
     "metadata": {},
     "output_type": "execute_result"
    }
   ],
   "source": [
    "normalized.shape"
   ]
  },
  {
   "cell_type": "code",
   "execution_count": 26,
   "id": "8b22a781",
   "metadata": {},
   "outputs": [],
   "source": [
    "# Perform SVD, decide on a rank k, and calculate a reduced rating matrix to remove noise\n",
    "# Can use sparse matrix algorithms because of special structure\n",
    "# How to choose k: if top few values are big and the rest are small, take the big values. So chose k=11\n",
    "U, S, VT = scipy.sparse.linalg.svds(normalized, k=6) # CHANGE BACK TO k=11"
   ]
  },
  {
   "cell_type": "code",
   "execution_count": 27,
   "id": "45ef5596",
   "metadata": {},
   "outputs": [],
   "source": [
    "#U, S, VT = np.linalg.svd(normalized) #k=10\n",
    "\n",
    "# U = U[:, :9]\n",
    "# S = S[:9]\n",
    "# VT = VT[:9, :]"
   ]
  },
  {
   "cell_type": "code",
   "execution_count": 28,
   "id": "0b8bfa64",
   "metadata": {},
   "outputs": [
    {
     "data": {
      "text/plain": [
       "array([ 197.11094996,  206.02246783,  235.884627  ,  288.90619312,\n",
       "        426.87582176, 3100.82739549])"
      ]
     },
     "execution_count": 28,
     "metadata": {},
     "output_type": "execute_result"
    }
   ],
   "source": [
    "S"
   ]
  },
  {
   "cell_type": "code",
   "execution_count": 29,
   "id": "abd30e6f",
   "metadata": {},
   "outputs": [
    {
     "data": {
      "text/plain": [
       "((55964, 6), (6,), (6, 1949))"
      ]
     },
     "execution_count": 29,
     "metadata": {},
     "output_type": "execute_result"
    }
   ],
   "source": [
    "U.shape, S.shape, VT.shape"
   ]
  },
  {
   "cell_type": "code",
   "execution_count": 30,
   "id": "1ff324eb",
   "metadata": {},
   "outputs": [],
   "source": [
    "reduced_rating = U @ np.diag(S) @ VT"
   ]
  },
  {
   "cell_type": "code",
   "execution_count": 31,
   "id": "1f7b17b4",
   "metadata": {},
   "outputs": [
    {
     "data": {
      "text/plain": [
       "array([[-0.06375013,  0.63695487, -0.05966438, ..., -0.49593893,\n",
       "        -0.40232736, -0.03561533],\n",
       "       [-0.06330713,  0.59561203, -0.05858645, ..., -0.51451268,\n",
       "        -0.41004404, -0.03819888],\n",
       "       [-0.0879846 ,  0.62221055, -0.07390579, ..., -0.51213455,\n",
       "        -0.41935211, -0.04417875],\n",
       "       ...,\n",
       "       [-0.06499185,  0.37801491, -0.05764105, ..., -0.50804553,\n",
       "        -0.40583802, -0.03837744],\n",
       "       [-0.06843728,  0.57969268, -0.05756482, ..., -0.47986264,\n",
       "        -0.39482071, -0.03595433],\n",
       "       [-0.08411582,  0.88109445, -0.07447446, ..., -0.51381137,\n",
       "        -0.42639264, -0.04173111]])"
      ]
     },
     "execution_count": 31,
     "metadata": {},
     "output_type": "execute_result"
    }
   ],
   "source": [
    "reduced_rating # SHOULD THIS BE >=1? Maybe not, because it's already been reduced"
   ]
  },
  {
   "cell_type": "code",
   "execution_count": 32,
   "id": "c463fc3c",
   "metadata": {},
   "outputs": [
    {
     "data": {
      "text/plain": [
       "(55964, 1949)"
      ]
     },
     "execution_count": 32,
     "metadata": {},
     "output_type": "execute_result"
    }
   ],
   "source": [
    "reduced_rating.shape"
   ]
  },
  {
   "cell_type": "code",
   "execution_count": 33,
   "id": "67a4fd6b",
   "metadata": {},
   "outputs": [],
   "source": [
    "# Calculate matrix product for dimensionality-reduced rating matrix\n",
    "sqrtS = np.diag(np.sqrt(S))\n",
    "meta_on_users = U @ np.transpose(sqrtS)\n",
    "meta_on_items = sqrtS @ VT"
   ]
  },
  {
   "cell_type": "code",
   "execution_count": 34,
   "id": "2306e73c",
   "metadata": {},
   "outputs": [
    {
     "data": {
      "text/plain": [
       "array([[-0.02029993, -0.83960888,  0.01242481, ..., -0.06379012,\n",
       "         0.0448467 , -0.00947241],\n",
       "       [-0.02450386, -1.45251749, -0.03678856, ..., -0.05269281,\n",
       "        -0.07278831,  0.007491  ],\n",
       "       [-0.10436373,  0.35629587, -0.03372403, ...,  0.13061514,\n",
       "         0.01977485,  0.0584226 ],\n",
       "       [-0.05735262,  1.26338982, -0.05279932, ..., -0.04960085,\n",
       "         0.03970588, -0.04015086],\n",
       "       [-0.11333262,  0.95613812, -0.09449757, ..., -0.16667095,\n",
       "        -0.08131211, -0.08496637],\n",
       "       [ 0.29325263, -2.61871547,  0.26370736, ...,  2.1120926 ,\n",
       "         1.71378214,  0.16766577]])"
      ]
     },
     "execution_count": 34,
     "metadata": {},
     "output_type": "execute_result"
    }
   ],
   "source": [
    "meta_on_items"
   ]
  },
  {
   "cell_type": "code",
   "execution_count": 35,
   "id": "e56771a1",
   "metadata": {},
   "outputs": [],
   "source": [
    "num_books = reduced_rating.shape[1]\n",
    "t1 = time()\n",
    "similarities = pw.cosine_similarity(meta_on_items.T, meta_on_items.T)\n",
    "t2 = time()"
   ]
  },
  {
   "cell_type": "code",
   "execution_count": 36,
   "id": "4624735f",
   "metadata": {},
   "outputs": [
    {
     "data": {
      "text/plain": [
       "((1949, 1949), 0.013539791107177734)"
      ]
     },
     "execution_count": 36,
     "metadata": {},
     "output_type": "execute_result"
    }
   ],
   "source": [
    "similarities.shape, t2-t1"
   ]
  },
  {
   "cell_type": "code",
   "execution_count": 37,
   "id": "4503ef5e",
   "metadata": {},
   "outputs": [],
   "source": [
    "# # TODO: try optimizing\n",
    "# # Calculate prediction of rating by user i of book j, by avging over the ratings of all books by the same user, each weighted according to its similarity to book j\n",
    "# num_users = reduced_rating.shape[0]\n",
    "# predictions = np.zeros((num_users, num_books))\n",
    "\n",
    "# # Isolate the set of items which appear to be the most similar to the active item. Vozalis suggests 10 items is best.\n",
    "# most_similar_idx = np.argsort(similarities, axis=1)[:,-10:]\n",
    "# for a in range(num_users):\n",
    "#     for j in range(num_books):\n",
    "#         numerator = 0\n",
    "#         denominator = 0\n",
    "#         # check that similarities are non-negative\n",
    "#         for k in most_similar_idx[j,:]:\n",
    "#             sim = similarities[j,k]\n",
    "#             if sim < 0:\n",
    "#                 break\n",
    "#             numerator += sim * (reduced_rating[a,k] + avg_user_rating[a])\n",
    "#             denominator += sim\n",
    "#         predictions[a,j] = numerator/denominator"
   ]
  },
  {
   "cell_type": "code",
   "execution_count": 38,
   "id": "d6a428ed",
   "metadata": {},
   "outputs": [
    {
     "name": "stdout",
     "output_type": "stream",
     "text": [
      "5.186373949050903 (55964, 1949) 1.3163800654997984 5.501049560510334\n"
     ]
    },
    {
     "data": {
      "text/plain": [
       "array([[3.81011945, 4.37270623, 3.79488256, ..., 3.38491386, 3.45548021,\n",
       "        3.8257031 ],\n",
       "       [3.7761022 , 4.28553617, 3.75989031, ..., 3.33229487, 3.41091968,\n",
       "        3.78858979],\n",
       "       [3.81365192, 4.39772294, 3.8020693 , ..., 3.38837321, 3.46072494,\n",
       "        3.83460368],\n",
       "       ...,\n",
       "       [3.81015607, 4.12258765, 3.79593128, ..., 3.37071932, 3.44896766,\n",
       "        3.82266504],\n",
       "       [3.80284402, 4.31015864, 3.79295422, ..., 3.39207376, 3.45665655,\n",
       "        3.82125989],\n",
       "       [3.79539664, 4.61967066, 3.78220149, ..., 3.36888637, 3.43560671,\n",
       "        3.81799593]])"
      ]
     },
     "execution_count": 38,
     "metadata": {},
     "output_type": "execute_result"
    }
   ],
   "source": [
    "## Select/Rearrange the solumns of arr to match the indices (given by idx)\n",
    "def select_cols(arr, idx):\n",
    "    rows = np.indices(idx.shape)[0]\n",
    "    return arr[rows, idx]\n",
    "\n",
    "## Set the select columns of arr specified by idx to the corresponding values in vals\n",
    "def set_select_cols(arr, vals, idx):\n",
    "    selected_vals = select_cols(vals, idx)\n",
    "    rows = np.indices(idx.shape)[0]\n",
    "    arr[rows, idx] = selected_vals\n",
    "    \n",
    "\n",
    "# Calculate prediction of rating by user i of book j, by avging over the ratings of all books by the same user, each weighted according to its similarity to book j\n",
    "num_users = reduced_rating.shape[0]\n",
    "predictions = np.zeros((num_users, num_books))\n",
    "\n",
    "# Isolate the set of items which appear to be the most similar to the active item. Vozalis suggests 10 items is best.\n",
    "t1 = time()\n",
    "\n",
    "adjusted_rating = reduced_rating + avg_user_rating[:,np.newaxis]\n",
    "\n",
    "most_similar_idx = np.argsort(similarities, axis=1)[:,:-11:-1]\n",
    "nonneg_sims = np.where(similarities > 0, similarities, 0)\n",
    "selected_sims = np.zeros(nonneg_sims.shape)\n",
    "set_select_cols(selected_sims, nonneg_sims, most_similar_idx)\n",
    "\n",
    "numerator = adjusted_rating @ selected_sims.T\n",
    "denominator = np.sum(selected_sims, axis=1)\n",
    "predictions = np.divide(numerator, denominator)\n",
    "\n",
    "t2 = time()\n",
    "\n",
    "print(t2 - t1, predictions.shape, np.min(predictions), np.max(predictions))\n",
    "predictions"
   ]
  },
  {
   "cell_type": "code",
   "execution_count": 39,
   "id": "43a3a419",
   "metadata": {},
   "outputs": [],
   "source": [
    "# Define error function\n",
    "def rmse(predictions, actuals):\n",
    "    return np.sqrt(((predictions - actuals) ** 2).mean())"
   ]
  },
  {
   "cell_type": "code",
   "execution_count": 40,
   "id": "a98d4253",
   "metadata": {},
   "outputs": [
    {
     "data": {
      "text/plain": [
       "0.9017928789154106"
      ]
     },
     "execution_count": 40,
     "metadata": {},
     "output_type": "execute_result"
    }
   ],
   "source": [
    "# Calculate training error\n",
    "training_mask = np.array(mat_trainonly.notna())\n",
    "train_predictions = predictions[training_mask]\n",
    "train_actuals = np.array(mat_trainonly)[training_mask]\n",
    "train_rmse = rmse(train_predictions, train_actuals)\n",
    "train_rmse"
   ]
  },
  {
   "cell_type": "code",
   "execution_count": 41,
   "id": "5d0af8dd",
   "metadata": {},
   "outputs": [
    {
     "data": {
      "text/plain": [
       "(array([3.8705314 , 4.10921929, 4.15750083, ..., 4.28969739, 3.63721753,\n",
       "        3.67024378]),\n",
       " array([3., 4., 5., ..., 5., 3., 3.]))"
      ]
     },
     "execution_count": 41,
     "metadata": {},
     "output_type": "execute_result"
    }
   ],
   "source": [
    "train_predictions, train_actuals"
   ]
  },
  {
   "cell_type": "code",
   "execution_count": 42,
   "id": "6dba6635",
   "metadata": {},
   "outputs": [
    {
     "data": {
      "text/plain": [
       "0.9145350083745388"
      ]
     },
     "execution_count": 42,
     "metadata": {},
     "output_type": "execute_result"
    }
   ],
   "source": [
    "# Calculate test error\n",
    "#zipped_test = np.c_[test['user_id'], test['book_id'], test['rating']]\n",
    "test_predictions = predictions[test_mask]\n",
    "test_rmse = rmse(test_predictions, test_actuals)\n",
    "test_rmse"
   ]
  },
  {
   "cell_type": "code",
   "execution_count": 43,
   "id": "b19cc386",
   "metadata": {},
   "outputs": [
    {
     "data": {
      "text/plain": [
       "(array([2.87910627, 4.15277419, 4.06934331, 3.91008686, 4.13087439,\n",
       "        3.8032719 , 3.6878946 , 3.88998835, 4.2850793 , 4.35351137]),\n",
       " array([1., 4., 5., 4., 4., 4., 4., 5., 5., 5.]))"
      ]
     },
     "execution_count": 43,
     "metadata": {},
     "output_type": "execute_result"
    }
   ],
   "source": [
    "test_predictions[:10], test_actuals[:10]"
   ]
  },
  {
   "cell_type": "code",
   "execution_count": 44,
   "id": "53998f69",
   "metadata": {},
   "outputs": [
    {
     "data": {
      "text/plain": [
       "(1.0022646680937237, 1.001751619387869)"
      ]
     },
     "execution_count": 44,
     "metadata": {},
     "output_type": "execute_result"
    }
   ],
   "source": [
    "# Calculate error if just rated everything the avg rating across all books and users\n",
    "avg_train = np.full(train_actuals.shape, avg_rating)\n",
    "avg_train_rmse = rmse(avg_train, train_actuals)\n",
    "avg_test = np.full(test_actuals.shape, avg_rating)\n",
    "avg_test_rmse = rmse(avg_test, test_actuals)\n",
    "avg_train_rmse, avg_test_rmse"
   ]
  },
  {
   "cell_type": "code",
   "execution_count": 45,
   "id": "ca93873f",
   "metadata": {},
   "outputs": [
    {
     "data": {
      "text/html": [
       "<div>\n",
       "<style scoped>\n",
       "    .dataframe tbody tr th:only-of-type {\n",
       "        vertical-align: middle;\n",
       "    }\n",
       "\n",
       "    .dataframe tbody tr th {\n",
       "        vertical-align: top;\n",
       "    }\n",
       "\n",
       "    .dataframe thead th {\n",
       "        text-align: right;\n",
       "    }\n",
       "</style>\n",
       "<table border=\"1\" class=\"dataframe\">\n",
       "  <thead>\n",
       "    <tr style=\"text-align: right;\">\n",
       "      <th>book_id</th>\n",
       "      <th>10025007</th>\n",
       "      <th>10025305</th>\n",
       "      <th>10048874</th>\n",
       "      <th>10118172</th>\n",
       "      <th>10165727</th>\n",
       "      <th>10165761</th>\n",
       "      <th>10174795</th>\n",
       "      <th>10188580</th>\n",
       "      <th>101914</th>\n",
       "      <th>10193062</th>\n",
       "      <th>...</th>\n",
       "      <th>9917938</th>\n",
       "      <th>9917945</th>\n",
       "      <th>9917998</th>\n",
       "      <th>9918083</th>\n",
       "      <th>9918128</th>\n",
       "      <th>99561</th>\n",
       "      <th>9961796</th>\n",
       "      <th>9972838</th>\n",
       "      <th>9972882</th>\n",
       "      <th>9975679</th>\n",
       "    </tr>\n",
       "    <tr>\n",
       "      <th>user_id</th>\n",
       "      <th></th>\n",
       "      <th></th>\n",
       "      <th></th>\n",
       "      <th></th>\n",
       "      <th></th>\n",
       "      <th></th>\n",
       "      <th></th>\n",
       "      <th></th>\n",
       "      <th></th>\n",
       "      <th></th>\n",
       "      <th></th>\n",
       "      <th></th>\n",
       "      <th></th>\n",
       "      <th></th>\n",
       "      <th></th>\n",
       "      <th></th>\n",
       "      <th></th>\n",
       "      <th></th>\n",
       "      <th></th>\n",
       "      <th></th>\n",
       "      <th></th>\n",
       "    </tr>\n",
       "  </thead>\n",
       "  <tbody>\n",
       "    <tr>\n",
       "      <th>000192962b87d560f00b06fdcbd71681</th>\n",
       "      <td>3.817178</td>\n",
       "      <td>4.499183</td>\n",
       "      <td>3.824083</td>\n",
       "      <td>3.814786</td>\n",
       "      <td>4.493987</td>\n",
       "      <td>4.582965</td>\n",
       "      <td>3.427642</td>\n",
       "      <td>3.937107</td>\n",
       "      <td>3.924779</td>\n",
       "      <td>4.071099</td>\n",
       "      <td>...</td>\n",
       "      <td>3.932305</td>\n",
       "      <td>4.192308</td>\n",
       "      <td>4.267959</td>\n",
       "      <td>4.28265</td>\n",
       "      <td>4.002677</td>\n",
       "      <td>4.025652</td>\n",
       "      <td>4.095889</td>\n",
       "      <td>3.388805</td>\n",
       "      <td>3.482671</td>\n",
       "      <td>3.846611</td>\n",
       "    </tr>\n",
       "    <tr>\n",
       "      <th>000387b0e3d77b6dcc36a66d5cc27347</th>\n",
       "      <td>3.817178</td>\n",
       "      <td>4.499183</td>\n",
       "      <td>3.824083</td>\n",
       "      <td>3.814786</td>\n",
       "      <td>4.493987</td>\n",
       "      <td>4.582965</td>\n",
       "      <td>3.427642</td>\n",
       "      <td>3.937107</td>\n",
       "      <td>3.924779</td>\n",
       "      <td>4.071099</td>\n",
       "      <td>...</td>\n",
       "      <td>3.932305</td>\n",
       "      <td>4.192308</td>\n",
       "      <td>4.267959</td>\n",
       "      <td>4.28265</td>\n",
       "      <td>4.002677</td>\n",
       "      <td>4.025652</td>\n",
       "      <td>4.095889</td>\n",
       "      <td>3.388805</td>\n",
       "      <td>3.482671</td>\n",
       "      <td>3.846611</td>\n",
       "    </tr>\n",
       "    <tr>\n",
       "      <th>0007f8dd09337afd986d765569cf0110</th>\n",
       "      <td>3.817178</td>\n",
       "      <td>4.499183</td>\n",
       "      <td>3.824083</td>\n",
       "      <td>3.814786</td>\n",
       "      <td>4.493987</td>\n",
       "      <td>4.582965</td>\n",
       "      <td>3.427642</td>\n",
       "      <td>3.937107</td>\n",
       "      <td>3.924779</td>\n",
       "      <td>4.071099</td>\n",
       "      <td>...</td>\n",
       "      <td>3.932305</td>\n",
       "      <td>4.192308</td>\n",
       "      <td>4.267959</td>\n",
       "      <td>4.28265</td>\n",
       "      <td>4.002677</td>\n",
       "      <td>4.025652</td>\n",
       "      <td>4.095889</td>\n",
       "      <td>3.388805</td>\n",
       "      <td>3.482671</td>\n",
       "      <td>3.846611</td>\n",
       "    </tr>\n",
       "    <tr>\n",
       "      <th>000883382802f2d95a3dd545bb953882</th>\n",
       "      <td>3.817178</td>\n",
       "      <td>4.499183</td>\n",
       "      <td>3.824083</td>\n",
       "      <td>3.814786</td>\n",
       "      <td>4.493987</td>\n",
       "      <td>4.582965</td>\n",
       "      <td>3.427642</td>\n",
       "      <td>3.937107</td>\n",
       "      <td>3.924779</td>\n",
       "      <td>4.071099</td>\n",
       "      <td>...</td>\n",
       "      <td>3.932305</td>\n",
       "      <td>4.192308</td>\n",
       "      <td>4.267959</td>\n",
       "      <td>4.28265</td>\n",
       "      <td>4.002677</td>\n",
       "      <td>4.025652</td>\n",
       "      <td>4.095889</td>\n",
       "      <td>3.388805</td>\n",
       "      <td>3.482671</td>\n",
       "      <td>3.846611</td>\n",
       "    </tr>\n",
       "    <tr>\n",
       "      <th>000891e40dc9b9a6726caff9232be979</th>\n",
       "      <td>3.817178</td>\n",
       "      <td>4.499183</td>\n",
       "      <td>3.824083</td>\n",
       "      <td>3.814786</td>\n",
       "      <td>4.493987</td>\n",
       "      <td>4.582965</td>\n",
       "      <td>3.427642</td>\n",
       "      <td>3.937107</td>\n",
       "      <td>3.924779</td>\n",
       "      <td>4.071099</td>\n",
       "      <td>...</td>\n",
       "      <td>3.932305</td>\n",
       "      <td>4.192308</td>\n",
       "      <td>4.267959</td>\n",
       "      <td>4.28265</td>\n",
       "      <td>4.002677</td>\n",
       "      <td>4.025652</td>\n",
       "      <td>4.095889</td>\n",
       "      <td>3.388805</td>\n",
       "      <td>3.482671</td>\n",
       "      <td>3.846611</td>\n",
       "    </tr>\n",
       "    <tr>\n",
       "      <th>...</th>\n",
       "      <td>...</td>\n",
       "      <td>...</td>\n",
       "      <td>...</td>\n",
       "      <td>...</td>\n",
       "      <td>...</td>\n",
       "      <td>...</td>\n",
       "      <td>...</td>\n",
       "      <td>...</td>\n",
       "      <td>...</td>\n",
       "      <td>...</td>\n",
       "      <td>...</td>\n",
       "      <td>...</td>\n",
       "      <td>...</td>\n",
       "      <td>...</td>\n",
       "      <td>...</td>\n",
       "      <td>...</td>\n",
       "      <td>...</td>\n",
       "      <td>...</td>\n",
       "      <td>...</td>\n",
       "      <td>...</td>\n",
       "      <td>...</td>\n",
       "    </tr>\n",
       "    <tr>\n",
       "      <th>fffbeab06c4060af4387a8922bf017cc</th>\n",
       "      <td>3.817178</td>\n",
       "      <td>4.499183</td>\n",
       "      <td>3.824083</td>\n",
       "      <td>3.814786</td>\n",
       "      <td>4.493987</td>\n",
       "      <td>4.582965</td>\n",
       "      <td>3.427642</td>\n",
       "      <td>3.937107</td>\n",
       "      <td>3.924779</td>\n",
       "      <td>4.071099</td>\n",
       "      <td>...</td>\n",
       "      <td>3.932305</td>\n",
       "      <td>4.192308</td>\n",
       "      <td>4.267959</td>\n",
       "      <td>4.28265</td>\n",
       "      <td>4.002677</td>\n",
       "      <td>4.025652</td>\n",
       "      <td>4.095889</td>\n",
       "      <td>3.388805</td>\n",
       "      <td>3.482671</td>\n",
       "      <td>3.846611</td>\n",
       "    </tr>\n",
       "    <tr>\n",
       "      <th>fffcca008c7770bc559e43b2edf24a6d</th>\n",
       "      <td>3.817178</td>\n",
       "      <td>4.499183</td>\n",
       "      <td>3.824083</td>\n",
       "      <td>3.814786</td>\n",
       "      <td>4.493987</td>\n",
       "      <td>4.582965</td>\n",
       "      <td>3.427642</td>\n",
       "      <td>3.937107</td>\n",
       "      <td>3.924779</td>\n",
       "      <td>4.071099</td>\n",
       "      <td>...</td>\n",
       "      <td>3.932305</td>\n",
       "      <td>4.192308</td>\n",
       "      <td>4.267959</td>\n",
       "      <td>4.28265</td>\n",
       "      <td>4.002677</td>\n",
       "      <td>4.025652</td>\n",
       "      <td>4.095889</td>\n",
       "      <td>3.388805</td>\n",
       "      <td>3.482671</td>\n",
       "      <td>3.846611</td>\n",
       "    </tr>\n",
       "    <tr>\n",
       "      <th>fffce7dae5ac5e8fb6288d81658ececc</th>\n",
       "      <td>3.817178</td>\n",
       "      <td>4.499183</td>\n",
       "      <td>3.824083</td>\n",
       "      <td>3.814786</td>\n",
       "      <td>4.493987</td>\n",
       "      <td>4.582965</td>\n",
       "      <td>3.427642</td>\n",
       "      <td>3.937107</td>\n",
       "      <td>3.924779</td>\n",
       "      <td>4.071099</td>\n",
       "      <td>...</td>\n",
       "      <td>3.932305</td>\n",
       "      <td>4.192308</td>\n",
       "      <td>4.267959</td>\n",
       "      <td>4.28265</td>\n",
       "      <td>4.002677</td>\n",
       "      <td>4.025652</td>\n",
       "      <td>4.095889</td>\n",
       "      <td>3.388805</td>\n",
       "      <td>3.482671</td>\n",
       "      <td>3.846611</td>\n",
       "    </tr>\n",
       "    <tr>\n",
       "      <th>fffcf1fb175cb17786e1c2f83ffe8b8f</th>\n",
       "      <td>3.817178</td>\n",
       "      <td>4.499183</td>\n",
       "      <td>3.824083</td>\n",
       "      <td>3.814786</td>\n",
       "      <td>4.493987</td>\n",
       "      <td>4.582965</td>\n",
       "      <td>3.427642</td>\n",
       "      <td>3.937107</td>\n",
       "      <td>3.924779</td>\n",
       "      <td>4.071099</td>\n",
       "      <td>...</td>\n",
       "      <td>3.932305</td>\n",
       "      <td>4.192308</td>\n",
       "      <td>4.267959</td>\n",
       "      <td>4.28265</td>\n",
       "      <td>4.002677</td>\n",
       "      <td>4.025652</td>\n",
       "      <td>4.095889</td>\n",
       "      <td>3.388805</td>\n",
       "      <td>3.482671</td>\n",
       "      <td>3.846611</td>\n",
       "    </tr>\n",
       "    <tr>\n",
       "      <th>ffff7cafdaf5196383cb2efca08fb6fe</th>\n",
       "      <td>3.817178</td>\n",
       "      <td>4.499183</td>\n",
       "      <td>3.824083</td>\n",
       "      <td>3.814786</td>\n",
       "      <td>4.493987</td>\n",
       "      <td>4.582965</td>\n",
       "      <td>3.427642</td>\n",
       "      <td>3.937107</td>\n",
       "      <td>3.924779</td>\n",
       "      <td>4.071099</td>\n",
       "      <td>...</td>\n",
       "      <td>3.932305</td>\n",
       "      <td>4.192308</td>\n",
       "      <td>4.267959</td>\n",
       "      <td>4.28265</td>\n",
       "      <td>4.002677</td>\n",
       "      <td>4.025652</td>\n",
       "      <td>4.095889</td>\n",
       "      <td>3.388805</td>\n",
       "      <td>3.482671</td>\n",
       "      <td>3.846611</td>\n",
       "    </tr>\n",
       "  </tbody>\n",
       "</table>\n",
       "<p>55964 rows × 1949 columns</p>\n",
       "</div>"
      ],
      "text/plain": [
       "book_id                           10025007  10025305  10048874  10118172  \\\n",
       "user_id                                                                    \n",
       "000192962b87d560f00b06fdcbd71681  3.817178  4.499183  3.824083  3.814786   \n",
       "000387b0e3d77b6dcc36a66d5cc27347  3.817178  4.499183  3.824083  3.814786   \n",
       "0007f8dd09337afd986d765569cf0110  3.817178  4.499183  3.824083  3.814786   \n",
       "000883382802f2d95a3dd545bb953882  3.817178  4.499183  3.824083  3.814786   \n",
       "000891e40dc9b9a6726caff9232be979  3.817178  4.499183  3.824083  3.814786   \n",
       "...                                    ...       ...       ...       ...   \n",
       "fffbeab06c4060af4387a8922bf017cc  3.817178  4.499183  3.824083  3.814786   \n",
       "fffcca008c7770bc559e43b2edf24a6d  3.817178  4.499183  3.824083  3.814786   \n",
       "fffce7dae5ac5e8fb6288d81658ececc  3.817178  4.499183  3.824083  3.814786   \n",
       "fffcf1fb175cb17786e1c2f83ffe8b8f  3.817178  4.499183  3.824083  3.814786   \n",
       "ffff7cafdaf5196383cb2efca08fb6fe  3.817178  4.499183  3.824083  3.814786   \n",
       "\n",
       "book_id                           10165727  10165761  10174795  10188580  \\\n",
       "user_id                                                                    \n",
       "000192962b87d560f00b06fdcbd71681  4.493987  4.582965  3.427642  3.937107   \n",
       "000387b0e3d77b6dcc36a66d5cc27347  4.493987  4.582965  3.427642  3.937107   \n",
       "0007f8dd09337afd986d765569cf0110  4.493987  4.582965  3.427642  3.937107   \n",
       "000883382802f2d95a3dd545bb953882  4.493987  4.582965  3.427642  3.937107   \n",
       "000891e40dc9b9a6726caff9232be979  4.493987  4.582965  3.427642  3.937107   \n",
       "...                                    ...       ...       ...       ...   \n",
       "fffbeab06c4060af4387a8922bf017cc  4.493987  4.582965  3.427642  3.937107   \n",
       "fffcca008c7770bc559e43b2edf24a6d  4.493987  4.582965  3.427642  3.937107   \n",
       "fffce7dae5ac5e8fb6288d81658ececc  4.493987  4.582965  3.427642  3.937107   \n",
       "fffcf1fb175cb17786e1c2f83ffe8b8f  4.493987  4.582965  3.427642  3.937107   \n",
       "ffff7cafdaf5196383cb2efca08fb6fe  4.493987  4.582965  3.427642  3.937107   \n",
       "\n",
       "book_id                             101914  10193062  ...   9917938   9917945  \\\n",
       "user_id                                               ...                       \n",
       "000192962b87d560f00b06fdcbd71681  3.924779  4.071099  ...  3.932305  4.192308   \n",
       "000387b0e3d77b6dcc36a66d5cc27347  3.924779  4.071099  ...  3.932305  4.192308   \n",
       "0007f8dd09337afd986d765569cf0110  3.924779  4.071099  ...  3.932305  4.192308   \n",
       "000883382802f2d95a3dd545bb953882  3.924779  4.071099  ...  3.932305  4.192308   \n",
       "000891e40dc9b9a6726caff9232be979  3.924779  4.071099  ...  3.932305  4.192308   \n",
       "...                                    ...       ...  ...       ...       ...   \n",
       "fffbeab06c4060af4387a8922bf017cc  3.924779  4.071099  ...  3.932305  4.192308   \n",
       "fffcca008c7770bc559e43b2edf24a6d  3.924779  4.071099  ...  3.932305  4.192308   \n",
       "fffce7dae5ac5e8fb6288d81658ececc  3.924779  4.071099  ...  3.932305  4.192308   \n",
       "fffcf1fb175cb17786e1c2f83ffe8b8f  3.924779  4.071099  ...  3.932305  4.192308   \n",
       "ffff7cafdaf5196383cb2efca08fb6fe  3.924779  4.071099  ...  3.932305  4.192308   \n",
       "\n",
       "book_id                            9917998  9918083   9918128     99561  \\\n",
       "user_id                                                                   \n",
       "000192962b87d560f00b06fdcbd71681  4.267959  4.28265  4.002677  4.025652   \n",
       "000387b0e3d77b6dcc36a66d5cc27347  4.267959  4.28265  4.002677  4.025652   \n",
       "0007f8dd09337afd986d765569cf0110  4.267959  4.28265  4.002677  4.025652   \n",
       "000883382802f2d95a3dd545bb953882  4.267959  4.28265  4.002677  4.025652   \n",
       "000891e40dc9b9a6726caff9232be979  4.267959  4.28265  4.002677  4.025652   \n",
       "...                                    ...      ...       ...       ...   \n",
       "fffbeab06c4060af4387a8922bf017cc  4.267959  4.28265  4.002677  4.025652   \n",
       "fffcca008c7770bc559e43b2edf24a6d  4.267959  4.28265  4.002677  4.025652   \n",
       "fffce7dae5ac5e8fb6288d81658ececc  4.267959  4.28265  4.002677  4.025652   \n",
       "fffcf1fb175cb17786e1c2f83ffe8b8f  4.267959  4.28265  4.002677  4.025652   \n",
       "ffff7cafdaf5196383cb2efca08fb6fe  4.267959  4.28265  4.002677  4.025652   \n",
       "\n",
       "book_id                            9961796   9972838   9972882   9975679  \n",
       "user_id                                                                   \n",
       "000192962b87d560f00b06fdcbd71681  4.095889  3.388805  3.482671  3.846611  \n",
       "000387b0e3d77b6dcc36a66d5cc27347  4.095889  3.388805  3.482671  3.846611  \n",
       "0007f8dd09337afd986d765569cf0110  4.095889  3.388805  3.482671  3.846611  \n",
       "000883382802f2d95a3dd545bb953882  4.095889  3.388805  3.482671  3.846611  \n",
       "000891e40dc9b9a6726caff9232be979  4.095889  3.388805  3.482671  3.846611  \n",
       "...                                    ...       ...       ...       ...  \n",
       "fffbeab06c4060af4387a8922bf017cc  4.095889  3.388805  3.482671  3.846611  \n",
       "fffcca008c7770bc559e43b2edf24a6d  4.095889  3.388805  3.482671  3.846611  \n",
       "fffce7dae5ac5e8fb6288d81658ececc  4.095889  3.388805  3.482671  3.846611  \n",
       "fffcf1fb175cb17786e1c2f83ffe8b8f  4.095889  3.388805  3.482671  3.846611  \n",
       "ffff7cafdaf5196383cb2efca08fb6fe  4.095889  3.388805  3.482671  3.846611  \n",
       "\n",
       "[55964 rows x 1949 columns]"
      ]
     },
     "execution_count": 45,
     "metadata": {},
     "output_type": "execute_result"
    }
   ],
   "source": [
    "avg_book_rating_row = avg_book_rating.reshape((1, mat_trainonly.shape[1]))\n",
    "mat_bookavg = pd.DataFrame(np.repeat(avg_book_rating_row, mat_trainonly.shape[0], axis=0), index=mat_trainonly.index, columns=mat_trainonly.columns)\n",
    "mat_bookavg"
   ]
  },
  {
   "cell_type": "code",
   "execution_count": 46,
   "id": "2c92634b",
   "metadata": {},
   "outputs": [
    {
     "data": {
      "text/plain": [
       "(0.9541063883618909, 0.9543001512881961)"
      ]
     },
     "execution_count": 46,
     "metadata": {},
     "output_type": "execute_result"
    }
   ],
   "source": [
    "# BEST COMPARISON\n",
    "# Calculate error if just rated everything the avg rating per book across all users\n",
    "book_avg_train = np.array(mat_bookavg)[training_mask]\n",
    "book_avg_train_rmse = rmse(book_avg_train, train_actuals)\n",
    "book_avg_test = np.array(mat_bookavg)[test_mask]\n",
    "book_avg_test_rmse = rmse(book_avg_test, test_actuals)\n",
    "book_avg_train_rmse, book_avg_test_rmse"
   ]
  },
  {
   "cell_type": "code",
   "execution_count": null,
   "id": "55c92ced",
   "metadata": {},
   "outputs": [],
   "source": []
  }
 ],
 "metadata": {
  "kernelspec": {
   "display_name": "Python 3",
   "language": "python",
   "name": "python3"
  },
  "language_info": {
   "codemirror_mode": {
    "name": "ipython",
    "version": 3
   },
   "file_extension": ".py",
   "mimetype": "text/x-python",
   "name": "python",
   "nbconvert_exporter": "python",
   "pygments_lexer": "ipython3",
   "version": "3.8.8"
  }
 },
 "nbformat": 4,
 "nbformat_minor": 5
}
