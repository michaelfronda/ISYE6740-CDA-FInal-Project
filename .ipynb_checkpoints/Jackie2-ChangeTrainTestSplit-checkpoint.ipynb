{
 "cells": [
  {
   "cell_type": "code",
   "execution_count": 1,
   "id": "397c4628",
   "metadata": {},
   "outputs": [],
   "source": [
    "import gzip\n",
    "import json\n",
    "import re\n",
    "import os\n",
    "import sys\n",
    "import numpy as np\n",
    "import pandas as pd\n",
    "import sklearn.model_selection\n",
    "import scipy\n",
    "import sklearn.metrics.pairwise as pw\n",
    "from time import time\n",
    "import matplotlib.pyplot as plt"
   ]
  },
  {
   "cell_type": "code",
   "execution_count": 2,
   "id": "fedea9cc",
   "metadata": {},
   "outputs": [],
   "source": [
    "# Specify your directory\n",
    "DIR = r'C:\\Users\\Jackie\\OneDrive - Georgia Institute of Technology\\ISYE6740 Computational Data Analytics\\Project\\Data\\Genres\\YoungAdult'"
   ]
  },
  {
   "cell_type": "code",
   "execution_count": 3,
   "id": "a7e290f8",
   "metadata": {},
   "outputs": [],
   "source": [
    "def load_data(file_name):\n",
    "    count = 0\n",
    "    data = []\n",
    "    with gzip.open(file_name) as fin:\n",
    "        for l in fin:\n",
    "            d = json.loads(l)\n",
    "            count += 1\n",
    "            data.append(d)\n",
    "    return data"
   ]
  },
  {
   "cell_type": "code",
   "execution_count": 4,
   "id": "485b2c98",
   "metadata": {},
   "outputs": [],
   "source": [
    "# The Young Adult genre has the highest interaction / book ratio: 34,919,254 interactions and 93,398 books\n",
    "#interactions = load_data(os.path.join(DIR, 'goodreads_interactions_young_adult.json.gz'))"
   ]
  },
  {
   "cell_type": "code",
   "execution_count": 5,
   "id": "bc57ee77",
   "metadata": {},
   "outputs": [],
   "source": [
    "def load_data(file_name, head = 10000): # should be 1000000\n",
    "    count = 0\n",
    "    data = []\n",
    "    with gzip.open(file_name) as fin:\n",
    "        for l in fin:\n",
    "            d = json.loads(l)\n",
    "            count += 1\n",
    "            data.append(d)\n",
    "            \n",
    "            # break if reaches the \"head\"th line\n",
    "            if (head is not None) and (count > head):\n",
    "                break\n",
    "    return data"
   ]
  },
  {
   "cell_type": "code",
   "execution_count": 6,
   "id": "83e80cfd",
   "metadata": {},
   "outputs": [],
   "source": [
    "interactions_sample = load_data(os.path.join(DIR, 'goodreads_interactions_young_adult.json.gz'))"
   ]
  },
  {
   "cell_type": "code",
   "execution_count": 7,
   "id": "9ae76aff",
   "metadata": {},
   "outputs": [
    {
     "name": "stdout",
     "output_type": "stream",
     "text": [
      " == sample record (interaction) ==\n"
     ]
    },
    {
     "data": {
      "text/plain": [
       "{'user_id': 'c7b9a63678911865302a204f45d6cc2d',\n",
       " 'book_id': '14114189',\n",
       " 'review_id': 'e7f6ed3bcd3c9e49d603da715df280be',\n",
       " 'is_read': False,\n",
       " 'rating': 0,\n",
       " 'review_text_incomplete': '',\n",
       " 'date_added': 'Sun Jun 02 06:11:32 -0700 2013',\n",
       " 'date_updated': 'Sun Jun 02 06:11:32 -0700 2013',\n",
       " 'read_at': '',\n",
       " 'started_at': ''}"
      ]
     },
     "metadata": {},
     "output_type": "display_data"
    }
   ],
   "source": [
    "print(' == sample record (interaction) ==')\n",
    "display(np.random.choice(interactions_sample))"
   ]
  },
  {
   "cell_type": "code",
   "execution_count": 8,
   "id": "c0cc5678",
   "metadata": {},
   "outputs": [],
   "source": [
    "df = pd.json_normalize(interactions_sample)"
   ]
  },
  {
   "cell_type": "code",
   "execution_count": 9,
   "id": "9d21e60f",
   "metadata": {},
   "outputs": [],
   "source": [
    "# Filter to books that the user has read\n",
    "is_read = np.logical_and(df['is_read'] == True, df['rating'] != 0) # a book can be read but still have a rating of 0\n",
    "is_read_df = df[is_read]"
   ]
  },
  {
   "cell_type": "code",
   "execution_count": 10,
   "id": "5f19e9ee",
   "metadata": {},
   "outputs": [
    {
     "data": {
      "text/html": [
       "<div>\n",
       "<style scoped>\n",
       "    .dataframe tbody tr th:only-of-type {\n",
       "        vertical-align: middle;\n",
       "    }\n",
       "\n",
       "    .dataframe tbody tr th {\n",
       "        vertical-align: top;\n",
       "    }\n",
       "\n",
       "    .dataframe thead th {\n",
       "        text-align: right;\n",
       "    }\n",
       "</style>\n",
       "<table border=\"1\" class=\"dataframe\">\n",
       "  <thead>\n",
       "    <tr style=\"text-align: right;\">\n",
       "      <th></th>\n",
       "      <th>user_id</th>\n",
       "      <th>book_id</th>\n",
       "      <th>review_id</th>\n",
       "      <th>is_read</th>\n",
       "      <th>rating</th>\n",
       "      <th>review_text_incomplete</th>\n",
       "      <th>date_added</th>\n",
       "      <th>date_updated</th>\n",
       "      <th>read_at</th>\n",
       "      <th>started_at</th>\n",
       "    </tr>\n",
       "  </thead>\n",
       "  <tbody>\n",
       "    <tr>\n",
       "      <th>3</th>\n",
       "      <td>8842281e1d1347389f2ab93d60773d4d</td>\n",
       "      <td>8684868</td>\n",
       "      <td>d29b8238762d70b7c2b67941bc81fbe0</td>\n",
       "      <td>True</td>\n",
       "      <td>3</td>\n",
       "      <td></td>\n",
       "      <td>Tue Dec 17 13:42:25 -0800 2013</td>\n",
       "      <td>Tue Dec 17 13:47:26 -0800 2013</td>\n",
       "      <td>Sun Dec 15 00:00:00 -0800 2013</td>\n",
       "      <td>Sat Dec 14 00:00:00 -0800 2013</td>\n",
       "    </tr>\n",
       "    <tr>\n",
       "      <th>4</th>\n",
       "      <td>8842281e1d1347389f2ab93d60773d4d</td>\n",
       "      <td>8423493</td>\n",
       "      <td>357c8c178fd0e06cff5c025649231672</td>\n",
       "      <td>True</td>\n",
       "      <td>2</td>\n",
       "      <td></td>\n",
       "      <td>Sun Dec 08 01:26:12 -0800 2013</td>\n",
       "      <td>Tue Dec 27 05:37:48 -0800 2016</td>\n",
       "      <td>Tue Dec 10 00:00:00 -0800 2013</td>\n",
       "      <td></td>\n",
       "    </tr>\n",
       "    <tr>\n",
       "      <th>5</th>\n",
       "      <td>8842281e1d1347389f2ab93d60773d4d</td>\n",
       "      <td>87976</td>\n",
       "      <td>e6306259819c47f278e78d32a1b73ddf</td>\n",
       "      <td>True</td>\n",
       "      <td>5</td>\n",
       "      <td></td>\n",
       "      <td>Wed Oct 17 17:49:11 -0700 2012</td>\n",
       "      <td>Wed Oct 17 17:49:11 -0700 2012</td>\n",
       "      <td></td>\n",
       "      <td></td>\n",
       "    </tr>\n",
       "    <tr>\n",
       "      <th>6</th>\n",
       "      <td>8842281e1d1347389f2ab93d60773d4d</td>\n",
       "      <td>18116</td>\n",
       "      <td>8aa100c7b681e9fedbe2c6bd2c25696a</td>\n",
       "      <td>True</td>\n",
       "      <td>5</td>\n",
       "      <td></td>\n",
       "      <td>Fri Apr 29 13:14:05 -0700 2011</td>\n",
       "      <td>Fri Apr 29 13:14:05 -0700 2011</td>\n",
       "      <td></td>\n",
       "      <td></td>\n",
       "    </tr>\n",
       "    <tr>\n",
       "      <th>7</th>\n",
       "      <td>8842281e1d1347389f2ab93d60773d4d</td>\n",
       "      <td>2767052</td>\n",
       "      <td>248c011811e945eca861b5c31a549291</td>\n",
       "      <td>True</td>\n",
       "      <td>5</td>\n",
       "      <td>I cracked and finally picked this up. Very enj...</td>\n",
       "      <td>Wed Jan 13 13:38:25 -0800 2010</td>\n",
       "      <td>Wed Mar 22 11:46:36 -0700 2017</td>\n",
       "      <td>Sun Mar 25 00:00:00 -0700 2012</td>\n",
       "      <td>Fri Mar 23 00:00:00 -0700 2012</td>\n",
       "    </tr>\n",
       "    <tr>\n",
       "      <th>...</th>\n",
       "      <td>...</td>\n",
       "      <td>...</td>\n",
       "      <td>...</td>\n",
       "      <td>...</td>\n",
       "      <td>...</td>\n",
       "      <td>...</td>\n",
       "      <td>...</td>\n",
       "      <td>...</td>\n",
       "      <td>...</td>\n",
       "      <td>...</td>\n",
       "    </tr>\n",
       "    <tr>\n",
       "      <th>9996</th>\n",
       "      <td>4a44f603cc3df339acc48590044a2db0</td>\n",
       "      <td>17261628</td>\n",
       "      <td>2310bbf77a0d72234e4739a3adf7194d</td>\n",
       "      <td>True</td>\n",
       "      <td>3</td>\n",
       "      <td></td>\n",
       "      <td>Sat Jan 24 21:56:03 -0800 2015</td>\n",
       "      <td>Sat Dec 19 17:16:14 -0800 2015</td>\n",
       "      <td>Sun Jan 25 17:01:54 -0800 2015</td>\n",
       "      <td>Sat Jan 24 21:56:03 -0800 2015</td>\n",
       "    </tr>\n",
       "    <tr>\n",
       "      <th>9997</th>\n",
       "      <td>4a44f603cc3df339acc48590044a2db0</td>\n",
       "      <td>18190208</td>\n",
       "      <td>c1c267254139f66d2b7d26d27a423c1d</td>\n",
       "      <td>True</td>\n",
       "      <td>4</td>\n",
       "      <td>See full review for The Witch Hunter at: &lt;a ta...</td>\n",
       "      <td>Thu Jan 15 09:52:14 -0800 2015</td>\n",
       "      <td>Sat Jul 18 09:16:21 -0700 2015</td>\n",
       "      <td>Fri Jul 10 00:00:00 -0700 2015</td>\n",
       "      <td>Fri Jul 10 00:00:00 -0700 2015</td>\n",
       "    </tr>\n",
       "    <tr>\n",
       "      <th>9998</th>\n",
       "      <td>4a44f603cc3df339acc48590044a2db0</td>\n",
       "      <td>22308716</td>\n",
       "      <td>0c71f23060e6513f28cad1496b6a7e61</td>\n",
       "      <td>True</td>\n",
       "      <td>5</td>\n",
       "      <td>See full review for Red Queen at: &lt;a target=\"_...</td>\n",
       "      <td>Thu Jan 15 09:51:38 -0800 2015</td>\n",
       "      <td>Sat Dec 19 17:20:26 -0800 2015</td>\n",
       "      <td>Tue Mar 03 00:00:00 -0800 2015</td>\n",
       "      <td>Thu Feb 26 00:00:00 -0800 2015</td>\n",
       "    </tr>\n",
       "    <tr>\n",
       "      <th>9999</th>\n",
       "      <td>4a44f603cc3df339acc48590044a2db0</td>\n",
       "      <td>18967205</td>\n",
       "      <td>911a06b2f968713818e78544434a330e</td>\n",
       "      <td>True</td>\n",
       "      <td>4</td>\n",
       "      <td>See full review for Hellhole at: &lt;a target=\"_b...</td>\n",
       "      <td>Thu Jan 15 09:50:59 -0800 2015</td>\n",
       "      <td>Sat Feb 28 15:58:19 -0800 2015</td>\n",
       "      <td>Fri Feb 27 00:00:00 -0800 2015</td>\n",
       "      <td>Fri Feb 27 00:00:00 -0800 2015</td>\n",
       "    </tr>\n",
       "    <tr>\n",
       "      <th>10000</th>\n",
       "      <td>4a44f603cc3df339acc48590044a2db0</td>\n",
       "      <td>20958632</td>\n",
       "      <td>f33ea3632b8777470d307e61871ab483</td>\n",
       "      <td>True</td>\n",
       "      <td>5</td>\n",
       "      <td>See full review for The Darkest Part of the Fo...</td>\n",
       "      <td>Thu Jan 15 09:50:19 -0800 2015</td>\n",
       "      <td>Thu Feb 19 10:40:23 -0800 2015</td>\n",
       "      <td>Fri Feb 13 00:00:00 -0800 2015</td>\n",
       "      <td>Fri Feb 13 00:00:00 -0800 2015</td>\n",
       "    </tr>\n",
       "  </tbody>\n",
       "</table>\n",
       "<p>3608 rows × 10 columns</p>\n",
       "</div>"
      ],
      "text/plain": [
       "                                user_id   book_id  \\\n",
       "3      8842281e1d1347389f2ab93d60773d4d   8684868   \n",
       "4      8842281e1d1347389f2ab93d60773d4d   8423493   \n",
       "5      8842281e1d1347389f2ab93d60773d4d     87976   \n",
       "6      8842281e1d1347389f2ab93d60773d4d     18116   \n",
       "7      8842281e1d1347389f2ab93d60773d4d   2767052   \n",
       "...                                 ...       ...   \n",
       "9996   4a44f603cc3df339acc48590044a2db0  17261628   \n",
       "9997   4a44f603cc3df339acc48590044a2db0  18190208   \n",
       "9998   4a44f603cc3df339acc48590044a2db0  22308716   \n",
       "9999   4a44f603cc3df339acc48590044a2db0  18967205   \n",
       "10000  4a44f603cc3df339acc48590044a2db0  20958632   \n",
       "\n",
       "                              review_id  is_read  rating  \\\n",
       "3      d29b8238762d70b7c2b67941bc81fbe0     True       3   \n",
       "4      357c8c178fd0e06cff5c025649231672     True       2   \n",
       "5      e6306259819c47f278e78d32a1b73ddf     True       5   \n",
       "6      8aa100c7b681e9fedbe2c6bd2c25696a     True       5   \n",
       "7      248c011811e945eca861b5c31a549291     True       5   \n",
       "...                                 ...      ...     ...   \n",
       "9996   2310bbf77a0d72234e4739a3adf7194d     True       3   \n",
       "9997   c1c267254139f66d2b7d26d27a423c1d     True       4   \n",
       "9998   0c71f23060e6513f28cad1496b6a7e61     True       5   \n",
       "9999   911a06b2f968713818e78544434a330e     True       4   \n",
       "10000  f33ea3632b8777470d307e61871ab483     True       5   \n",
       "\n",
       "                                  review_text_incomplete  \\\n",
       "3                                                          \n",
       "4                                                          \n",
       "5                                                          \n",
       "6                                                          \n",
       "7      I cracked and finally picked this up. Very enj...   \n",
       "...                                                  ...   \n",
       "9996                                                       \n",
       "9997   See full review for The Witch Hunter at: <a ta...   \n",
       "9998   See full review for Red Queen at: <a target=\"_...   \n",
       "9999   See full review for Hellhole at: <a target=\"_b...   \n",
       "10000  See full review for The Darkest Part of the Fo...   \n",
       "\n",
       "                           date_added                    date_updated  \\\n",
       "3      Tue Dec 17 13:42:25 -0800 2013  Tue Dec 17 13:47:26 -0800 2013   \n",
       "4      Sun Dec 08 01:26:12 -0800 2013  Tue Dec 27 05:37:48 -0800 2016   \n",
       "5      Wed Oct 17 17:49:11 -0700 2012  Wed Oct 17 17:49:11 -0700 2012   \n",
       "6      Fri Apr 29 13:14:05 -0700 2011  Fri Apr 29 13:14:05 -0700 2011   \n",
       "7      Wed Jan 13 13:38:25 -0800 2010  Wed Mar 22 11:46:36 -0700 2017   \n",
       "...                               ...                             ...   \n",
       "9996   Sat Jan 24 21:56:03 -0800 2015  Sat Dec 19 17:16:14 -0800 2015   \n",
       "9997   Thu Jan 15 09:52:14 -0800 2015  Sat Jul 18 09:16:21 -0700 2015   \n",
       "9998   Thu Jan 15 09:51:38 -0800 2015  Sat Dec 19 17:20:26 -0800 2015   \n",
       "9999   Thu Jan 15 09:50:59 -0800 2015  Sat Feb 28 15:58:19 -0800 2015   \n",
       "10000  Thu Jan 15 09:50:19 -0800 2015  Thu Feb 19 10:40:23 -0800 2015   \n",
       "\n",
       "                              read_at                      started_at  \n",
       "3      Sun Dec 15 00:00:00 -0800 2013  Sat Dec 14 00:00:00 -0800 2013  \n",
       "4      Tue Dec 10 00:00:00 -0800 2013                                  \n",
       "5                                                                      \n",
       "6                                                                      \n",
       "7      Sun Mar 25 00:00:00 -0700 2012  Fri Mar 23 00:00:00 -0700 2012  \n",
       "...                               ...                             ...  \n",
       "9996   Sun Jan 25 17:01:54 -0800 2015  Sat Jan 24 21:56:03 -0800 2015  \n",
       "9997   Fri Jul 10 00:00:00 -0700 2015  Fri Jul 10 00:00:00 -0700 2015  \n",
       "9998   Tue Mar 03 00:00:00 -0800 2015  Thu Feb 26 00:00:00 -0800 2015  \n",
       "9999   Fri Feb 27 00:00:00 -0800 2015  Fri Feb 27 00:00:00 -0800 2015  \n",
       "10000  Fri Feb 13 00:00:00 -0800 2015  Fri Feb 13 00:00:00 -0800 2015  \n",
       "\n",
       "[3608 rows x 10 columns]"
      ]
     },
     "execution_count": 10,
     "metadata": {},
     "output_type": "execute_result"
    }
   ],
   "source": [
    "is_read_df"
   ]
  },
  {
   "cell_type": "code",
   "execution_count": 11,
   "id": "72c24efd",
   "metadata": {},
   "outputs": [
    {
     "data": {
      "image/png": "[encoded data removed]",
      "text/plain": [
       "<Figure size 432x288 with 1 Axes>"
      ]
     },
     "metadata": {
      "needs_background": "light"
     },
     "output_type": "display_data"
    }
   ],
   "source": [
    "plt.hist(is_read_df['rating'], bins=[1,2,3,4,5])\n",
    "plt.show()"
   ]
  },
  {
   "cell_type": "code",
   "execution_count": 12,
   "id": "353ab99a",
   "metadata": {},
   "outputs": [
    {
     "data": {
      "text/plain": [
       "3.8719512195121952"
      ]
     },
     "execution_count": 12,
     "metadata": {},
     "output_type": "execute_result"
    }
   ],
   "source": [
    "# Calculate average rating\n",
    "avg_rating = np.mean(is_read_df['rating'])\n",
    "avg_rating"
   ]
  },
  {
   "cell_type": "code",
   "execution_count": 13,
   "id": "c2856f3d",
   "metadata": {},
   "outputs": [],
   "source": [
    "# Define user-book rating matrix\n",
    "mat = pd.pivot(is_read_df, index='user_id', columns='book_id', values='rating')\n",
    "mat.replace(0, np.nan, inplace=True)"
   ]
  },
  {
   "cell_type": "code",
   "execution_count": 14,
   "id": "c9e34fac",
   "metadata": {},
   "outputs": [
    {
     "data": {
      "text/html": [
       "<div>\n",
       "<style scoped>\n",
       "    .dataframe tbody tr th:only-of-type {\n",
       "        vertical-align: middle;\n",
       "    }\n",
       "\n",
       "    .dataframe tbody tr th {\n",
       "        vertical-align: top;\n",
       "    }\n",
       "\n",
       "    .dataframe thead th {\n",
       "        text-align: right;\n",
       "    }\n",
       "</style>\n",
       "<table border=\"1\" class=\"dataframe\">\n",
       "  <thead>\n",
       "    <tr style=\"text-align: right;\">\n",
       "      <th>book_id</th>\n",
       "      <th>10001793</th>\n",
       "      <th>10004138</th>\n",
       "      <th>10025007</th>\n",
       "      <th>10025305</th>\n",
       "      <th>1003318</th>\n",
       "      <th>1008231</th>\n",
       "      <th>10118172</th>\n",
       "      <th>10151730</th>\n",
       "      <th>10165727</th>\n",
       "      <th>10165761</th>\n",
       "      <th>...</th>\n",
       "      <th>9917938</th>\n",
       "      <th>9917945</th>\n",
       "      <th>9918053</th>\n",
       "      <th>9918133</th>\n",
       "      <th>9939115</th>\n",
       "      <th>9947386</th>\n",
       "      <th>99561</th>\n",
       "      <th>9961796</th>\n",
       "      <th>9972882</th>\n",
       "      <th>9975679</th>\n",
       "    </tr>\n",
       "    <tr>\n",
       "      <th>user_id</th>\n",
       "      <th></th>\n",
       "      <th></th>\n",
       "      <th></th>\n",
       "      <th></th>\n",
       "      <th></th>\n",
       "      <th></th>\n",
       "      <th></th>\n",
       "      <th></th>\n",
       "      <th></th>\n",
       "      <th></th>\n",
       "      <th></th>\n",
       "      <th></th>\n",
       "      <th></th>\n",
       "      <th></th>\n",
       "      <th></th>\n",
       "      <th></th>\n",
       "      <th></th>\n",
       "      <th></th>\n",
       "      <th></th>\n",
       "      <th></th>\n",
       "      <th></th>\n",
       "    </tr>\n",
       "  </thead>\n",
       "  <tbody>\n",
       "    <tr>\n",
       "      <th>012515e5802b2e0f42915118c90fa04b</th>\n",
       "      <td>NaN</td>\n",
       "      <td>NaN</td>\n",
       "      <td>NaN</td>\n",
       "      <td>NaN</td>\n",
       "      <td>NaN</td>\n",
       "      <td>NaN</td>\n",
       "      <td>NaN</td>\n",
       "      <td>NaN</td>\n",
       "      <td>NaN</td>\n",
       "      <td>NaN</td>\n",
       "      <td>...</td>\n",
       "      <td>NaN</td>\n",
       "      <td>NaN</td>\n",
       "      <td>NaN</td>\n",
       "      <td>NaN</td>\n",
       "      <td>NaN</td>\n",
       "      <td>NaN</td>\n",
       "      <td>3.0</td>\n",
       "      <td>NaN</td>\n",
       "      <td>NaN</td>\n",
       "      <td>NaN</td>\n",
       "    </tr>\n",
       "    <tr>\n",
       "      <th>012aa353140af13109d00ca36cdc0637</th>\n",
       "      <td>NaN</td>\n",
       "      <td>NaN</td>\n",
       "      <td>NaN</td>\n",
       "      <td>NaN</td>\n",
       "      <td>NaN</td>\n",
       "      <td>NaN</td>\n",
       "      <td>NaN</td>\n",
       "      <td>NaN</td>\n",
       "      <td>NaN</td>\n",
       "      <td>NaN</td>\n",
       "      <td>...</td>\n",
       "      <td>NaN</td>\n",
       "      <td>NaN</td>\n",
       "      <td>NaN</td>\n",
       "      <td>NaN</td>\n",
       "      <td>NaN</td>\n",
       "      <td>NaN</td>\n",
       "      <td>NaN</td>\n",
       "      <td>NaN</td>\n",
       "      <td>NaN</td>\n",
       "      <td>NaN</td>\n",
       "    </tr>\n",
       "    <tr>\n",
       "      <th>01d02898170634e6e7232650ebbf2e43</th>\n",
       "      <td>NaN</td>\n",
       "      <td>NaN</td>\n",
       "      <td>NaN</td>\n",
       "      <td>NaN</td>\n",
       "      <td>NaN</td>\n",
       "      <td>NaN</td>\n",
       "      <td>NaN</td>\n",
       "      <td>NaN</td>\n",
       "      <td>NaN</td>\n",
       "      <td>NaN</td>\n",
       "      <td>...</td>\n",
       "      <td>NaN</td>\n",
       "      <td>NaN</td>\n",
       "      <td>NaN</td>\n",
       "      <td>NaN</td>\n",
       "      <td>NaN</td>\n",
       "      <td>NaN</td>\n",
       "      <td>NaN</td>\n",
       "      <td>NaN</td>\n",
       "      <td>NaN</td>\n",
       "      <td>NaN</td>\n",
       "    </tr>\n",
       "    <tr>\n",
       "      <th>01ec1a320ffded6b2dd47833f2c8e4fb</th>\n",
       "      <td>NaN</td>\n",
       "      <td>NaN</td>\n",
       "      <td>NaN</td>\n",
       "      <td>NaN</td>\n",
       "      <td>NaN</td>\n",
       "      <td>NaN</td>\n",
       "      <td>NaN</td>\n",
       "      <td>NaN</td>\n",
       "      <td>NaN</td>\n",
       "      <td>NaN</td>\n",
       "      <td>...</td>\n",
       "      <td>NaN</td>\n",
       "      <td>NaN</td>\n",
       "      <td>NaN</td>\n",
       "      <td>NaN</td>\n",
       "      <td>NaN</td>\n",
       "      <td>NaN</td>\n",
       "      <td>NaN</td>\n",
       "      <td>NaN</td>\n",
       "      <td>NaN</td>\n",
       "      <td>NaN</td>\n",
       "    </tr>\n",
       "    <tr>\n",
       "      <th>040b31603912dc03f19e0b76d58c3660</th>\n",
       "      <td>NaN</td>\n",
       "      <td>NaN</td>\n",
       "      <td>NaN</td>\n",
       "      <td>NaN</td>\n",
       "      <td>NaN</td>\n",
       "      <td>NaN</td>\n",
       "      <td>NaN</td>\n",
       "      <td>NaN</td>\n",
       "      <td>NaN</td>\n",
       "      <td>NaN</td>\n",
       "      <td>...</td>\n",
       "      <td>NaN</td>\n",
       "      <td>NaN</td>\n",
       "      <td>NaN</td>\n",
       "      <td>NaN</td>\n",
       "      <td>NaN</td>\n",
       "      <td>NaN</td>\n",
       "      <td>NaN</td>\n",
       "      <td>NaN</td>\n",
       "      <td>NaN</td>\n",
       "      <td>NaN</td>\n",
       "    </tr>\n",
       "    <tr>\n",
       "      <th>...</th>\n",
       "      <td>...</td>\n",
       "      <td>...</td>\n",
       "      <td>...</td>\n",
       "      <td>...</td>\n",
       "      <td>...</td>\n",
       "      <td>...</td>\n",
       "      <td>...</td>\n",
       "      <td>...</td>\n",
       "      <td>...</td>\n",
       "      <td>...</td>\n",
       "      <td>...</td>\n",
       "      <td>...</td>\n",
       "      <td>...</td>\n",
       "      <td>...</td>\n",
       "      <td>...</td>\n",
       "      <td>...</td>\n",
       "      <td>...</td>\n",
       "      <td>...</td>\n",
       "      <td>...</td>\n",
       "      <td>...</td>\n",
       "      <td>...</td>\n",
       "    </tr>\n",
       "    <tr>\n",
       "      <th>f4d16ea4ac59af59d257631398af39f4</th>\n",
       "      <td>NaN</td>\n",
       "      <td>NaN</td>\n",
       "      <td>NaN</td>\n",
       "      <td>5.0</td>\n",
       "      <td>NaN</td>\n",
       "      <td>NaN</td>\n",
       "      <td>NaN</td>\n",
       "      <td>NaN</td>\n",
       "      <td>NaN</td>\n",
       "      <td>NaN</td>\n",
       "      <td>...</td>\n",
       "      <td>NaN</td>\n",
       "      <td>NaN</td>\n",
       "      <td>NaN</td>\n",
       "      <td>2.0</td>\n",
       "      <td>NaN</td>\n",
       "      <td>NaN</td>\n",
       "      <td>NaN</td>\n",
       "      <td>NaN</td>\n",
       "      <td>NaN</td>\n",
       "      <td>NaN</td>\n",
       "    </tr>\n",
       "    <tr>\n",
       "      <th>f88032f4ad97b46654fe59ce3387cf5d</th>\n",
       "      <td>NaN</td>\n",
       "      <td>NaN</td>\n",
       "      <td>NaN</td>\n",
       "      <td>NaN</td>\n",
       "      <td>NaN</td>\n",
       "      <td>NaN</td>\n",
       "      <td>NaN</td>\n",
       "      <td>NaN</td>\n",
       "      <td>NaN</td>\n",
       "      <td>NaN</td>\n",
       "      <td>...</td>\n",
       "      <td>NaN</td>\n",
       "      <td>NaN</td>\n",
       "      <td>NaN</td>\n",
       "      <td>NaN</td>\n",
       "      <td>NaN</td>\n",
       "      <td>NaN</td>\n",
       "      <td>NaN</td>\n",
       "      <td>NaN</td>\n",
       "      <td>NaN</td>\n",
       "      <td>NaN</td>\n",
       "    </tr>\n",
       "    <tr>\n",
       "      <th>f8a89075dc6de14857561522e729f82c</th>\n",
       "      <td>3.0</td>\n",
       "      <td>5.0</td>\n",
       "      <td>NaN</td>\n",
       "      <td>NaN</td>\n",
       "      <td>NaN</td>\n",
       "      <td>NaN</td>\n",
       "      <td>NaN</td>\n",
       "      <td>NaN</td>\n",
       "      <td>NaN</td>\n",
       "      <td>NaN</td>\n",
       "      <td>...</td>\n",
       "      <td>NaN</td>\n",
       "      <td>NaN</td>\n",
       "      <td>NaN</td>\n",
       "      <td>NaN</td>\n",
       "      <td>NaN</td>\n",
       "      <td>NaN</td>\n",
       "      <td>NaN</td>\n",
       "      <td>NaN</td>\n",
       "      <td>NaN</td>\n",
       "      <td>NaN</td>\n",
       "    </tr>\n",
       "    <tr>\n",
       "      <th>faa322d2624b0e7eb3064e39dac4af9c</th>\n",
       "      <td>NaN</td>\n",
       "      <td>NaN</td>\n",
       "      <td>NaN</td>\n",
       "      <td>NaN</td>\n",
       "      <td>NaN</td>\n",
       "      <td>NaN</td>\n",
       "      <td>NaN</td>\n",
       "      <td>NaN</td>\n",
       "      <td>NaN</td>\n",
       "      <td>NaN</td>\n",
       "      <td>...</td>\n",
       "      <td>NaN</td>\n",
       "      <td>NaN</td>\n",
       "      <td>NaN</td>\n",
       "      <td>NaN</td>\n",
       "      <td>NaN</td>\n",
       "      <td>NaN</td>\n",
       "      <td>NaN</td>\n",
       "      <td>NaN</td>\n",
       "      <td>NaN</td>\n",
       "      <td>NaN</td>\n",
       "    </tr>\n",
       "    <tr>\n",
       "      <th>fd379cf294fc1937e41f3f7df3c9eabe</th>\n",
       "      <td>NaN</td>\n",
       "      <td>NaN</td>\n",
       "      <td>NaN</td>\n",
       "      <td>NaN</td>\n",
       "      <td>NaN</td>\n",
       "      <td>NaN</td>\n",
       "      <td>NaN</td>\n",
       "      <td>NaN</td>\n",
       "      <td>NaN</td>\n",
       "      <td>NaN</td>\n",
       "      <td>...</td>\n",
       "      <td>NaN</td>\n",
       "      <td>NaN</td>\n",
       "      <td>NaN</td>\n",
       "      <td>NaN</td>\n",
       "      <td>NaN</td>\n",
       "      <td>NaN</td>\n",
       "      <td>NaN</td>\n",
       "      <td>NaN</td>\n",
       "      <td>NaN</td>\n",
       "      <td>NaN</td>\n",
       "    </tr>\n",
       "  </tbody>\n",
       "</table>\n",
       "<p>124 rows × 2102 columns</p>\n",
       "</div>"
      ],
      "text/plain": [
       "book_id                           10001793  10004138  10025007  10025305  \\\n",
       "user_id                                                                    \n",
       "012515e5802b2e0f42915118c90fa04b       NaN       NaN       NaN       NaN   \n",
       "012aa353140af13109d00ca36cdc0637       NaN       NaN       NaN       NaN   \n",
       "01d02898170634e6e7232650ebbf2e43       NaN       NaN       NaN       NaN   \n",
       "01ec1a320ffded6b2dd47833f2c8e4fb       NaN       NaN       NaN       NaN   \n",
       "040b31603912dc03f19e0b76d58c3660       NaN       NaN       NaN       NaN   \n",
       "...                                    ...       ...       ...       ...   \n",
       "f4d16ea4ac59af59d257631398af39f4       NaN       NaN       NaN       5.0   \n",
       "f88032f4ad97b46654fe59ce3387cf5d       NaN       NaN       NaN       NaN   \n",
       "f8a89075dc6de14857561522e729f82c       3.0       5.0       NaN       NaN   \n",
       "faa322d2624b0e7eb3064e39dac4af9c       NaN       NaN       NaN       NaN   \n",
       "fd379cf294fc1937e41f3f7df3c9eabe       NaN       NaN       NaN       NaN   \n",
       "\n",
       "book_id                           1003318  1008231  10118172  10151730  \\\n",
       "user_id                                                                  \n",
       "012515e5802b2e0f42915118c90fa04b      NaN      NaN       NaN       NaN   \n",
       "012aa353140af13109d00ca36cdc0637      NaN      NaN       NaN       NaN   \n",
       "01d02898170634e6e7232650ebbf2e43      NaN      NaN       NaN       NaN   \n",
       "01ec1a320ffded6b2dd47833f2c8e4fb      NaN      NaN       NaN       NaN   \n",
       "040b31603912dc03f19e0b76d58c3660      NaN      NaN       NaN       NaN   \n",
       "...                                   ...      ...       ...       ...   \n",
       "f4d16ea4ac59af59d257631398af39f4      NaN      NaN       NaN       NaN   \n",
       "f88032f4ad97b46654fe59ce3387cf5d      NaN      NaN       NaN       NaN   \n",
       "f8a89075dc6de14857561522e729f82c      NaN      NaN       NaN       NaN   \n",
       "faa322d2624b0e7eb3064e39dac4af9c      NaN      NaN       NaN       NaN   \n",
       "fd379cf294fc1937e41f3f7df3c9eabe      NaN      NaN       NaN       NaN   \n",
       "\n",
       "book_id                           10165727  10165761  ...  9917938  9917945  \\\n",
       "user_id                                               ...                     \n",
       "012515e5802b2e0f42915118c90fa04b       NaN       NaN  ...      NaN      NaN   \n",
       "012aa353140af13109d00ca36cdc0637       NaN       NaN  ...      NaN      NaN   \n",
       "01d02898170634e6e7232650ebbf2e43       NaN       NaN  ...      NaN      NaN   \n",
       "01ec1a320ffded6b2dd47833f2c8e4fb       NaN       NaN  ...      NaN      NaN   \n",
       "040b31603912dc03f19e0b76d58c3660       NaN       NaN  ...      NaN      NaN   \n",
       "...                                    ...       ...  ...      ...      ...   \n",
       "f4d16ea4ac59af59d257631398af39f4       NaN       NaN  ...      NaN      NaN   \n",
       "f88032f4ad97b46654fe59ce3387cf5d       NaN       NaN  ...      NaN      NaN   \n",
       "f8a89075dc6de14857561522e729f82c       NaN       NaN  ...      NaN      NaN   \n",
       "faa322d2624b0e7eb3064e39dac4af9c       NaN       NaN  ...      NaN      NaN   \n",
       "fd379cf294fc1937e41f3f7df3c9eabe       NaN       NaN  ...      NaN      NaN   \n",
       "\n",
       "book_id                           9918053  9918133  9939115  9947386  99561  \\\n",
       "user_id                                                                       \n",
       "012515e5802b2e0f42915118c90fa04b      NaN      NaN      NaN      NaN    3.0   \n",
       "012aa353140af13109d00ca36cdc0637      NaN      NaN      NaN      NaN    NaN   \n",
       "01d02898170634e6e7232650ebbf2e43      NaN      NaN      NaN      NaN    NaN   \n",
       "01ec1a320ffded6b2dd47833f2c8e4fb      NaN      NaN      NaN      NaN    NaN   \n",
       "040b31603912dc03f19e0b76d58c3660      NaN      NaN      NaN      NaN    NaN   \n",
       "...                                   ...      ...      ...      ...    ...   \n",
       "f4d16ea4ac59af59d257631398af39f4      NaN      2.0      NaN      NaN    NaN   \n",
       "f88032f4ad97b46654fe59ce3387cf5d      NaN      NaN      NaN      NaN    NaN   \n",
       "f8a89075dc6de14857561522e729f82c      NaN      NaN      NaN      NaN    NaN   \n",
       "faa322d2624b0e7eb3064e39dac4af9c      NaN      NaN      NaN      NaN    NaN   \n",
       "fd379cf294fc1937e41f3f7df3c9eabe      NaN      NaN      NaN      NaN    NaN   \n",
       "\n",
       "book_id                           9961796  9972882  9975679  \n",
       "user_id                                                      \n",
       "012515e5802b2e0f42915118c90fa04b      NaN      NaN      NaN  \n",
       "012aa353140af13109d00ca36cdc0637      NaN      NaN      NaN  \n",
       "01d02898170634e6e7232650ebbf2e43      NaN      NaN      NaN  \n",
       "01ec1a320ffded6b2dd47833f2c8e4fb      NaN      NaN      NaN  \n",
       "040b31603912dc03f19e0b76d58c3660      NaN      NaN      NaN  \n",
       "...                                   ...      ...      ...  \n",
       "f4d16ea4ac59af59d257631398af39f4      NaN      NaN      NaN  \n",
       "f88032f4ad97b46654fe59ce3387cf5d      NaN      NaN      NaN  \n",
       "f8a89075dc6de14857561522e729f82c      NaN      NaN      NaN  \n",
       "faa322d2624b0e7eb3064e39dac4af9c      NaN      NaN      NaN  \n",
       "fd379cf294fc1937e41f3f7df3c9eabe      NaN      NaN      NaN  \n",
       "\n",
       "[124 rows x 2102 columns]"
      ]
     },
     "execution_count": 14,
     "metadata": {},
     "output_type": "execute_result"
    }
   ],
   "source": [
    "mat"
   ]
  },
  {
   "cell_type": "code",
   "execution_count": 15,
   "id": "fbf5a2cd",
   "metadata": {},
   "outputs": [
    {
     "data": {
      "image/png": "[encoded data removed]",
      "text/plain": [
       "<Figure size 432x288 with 1 Axes>"
      ]
     },
     "metadata": {
      "needs_background": "light"
     },
     "output_type": "display_data"
    }
   ],
   "source": [
    "plt.hist(mat.count(), bins=[1,2,3,4,5,6,7,8,9,10])\n",
    "plt.title(\"Books with 10 or fewer reviews\")\n",
    "plt.show()"
   ]
  },
  {
   "cell_type": "code",
   "execution_count": 16,
   "id": "a4b45677",
   "metadata": {},
   "outputs": [
    {
     "data": {
      "text/plain": [
       "70"
      ]
     },
     "execution_count": 16,
     "metadata": {},
     "output_type": "execute_result"
    }
   ],
   "source": [
    "np.max(mat.count())"
   ]
  },
  {
   "cell_type": "code",
   "execution_count": 17,
   "id": "2e12bd82",
   "metadata": {},
   "outputs": [
    {
     "data": {
      "text/plain": [
       "(1985, 10)"
      ]
     },
     "execution_count": 17,
     "metadata": {},
     "output_type": "execute_result"
    }
   ],
   "source": [
    "# Exclude books with only 1 review from test set\n",
    "is_read_and_multiple_df = is_read_df\n",
    "for b_id in mat.columns:\n",
    "    if mat[b_id].count() == 1:\n",
    "        is_read_and_multiple_df = is_read_and_multiple_df[is_read_and_multiple_df['book_id'] != b_id]\n",
    "is_read_and_multiple_df.shape"
   ]
  },
  {
   "cell_type": "code",
   "execution_count": 18,
   "id": "3127e260",
   "metadata": {},
   "outputs": [
    {
     "data": {
      "text/plain": [
       "(3608, 10)"
      ]
     },
     "execution_count": 18,
     "metadata": {},
     "output_type": "execute_result"
    }
   ],
   "source": [
    "is_read_df.shape"
   ]
  },
  {
   "cell_type": "code",
   "execution_count": 19,
   "id": "bff925f6",
   "metadata": {},
   "outputs": [
    {
     "data": {
      "text/plain": [
       "Index(['10001793', '10004138', '1003318', '1008231', '10118172', '10151730',\n",
       "       '10165727', '10165761', '10192794', '10193062',\n",
       "       ...\n",
       "       '9893331', '9897164', '9915707', '9917945', '9918053', '9918133',\n",
       "       '9939115', '9947386', '9972882', '9975679'],\n",
       "      dtype='object', name='book_id', length=1623)"
      ]
     },
     "execution_count": 19,
     "metadata": {},
     "output_type": "execute_result"
    }
   ],
   "source": [
    "mat.count()[mat.count()==1].index"
   ]
  },
  {
   "cell_type": "code",
   "execution_count": 20,
   "id": "63d87b59",
   "metadata": {},
   "outputs": [
    {
     "data": {
      "text/plain": [
       "Index(['10025007', '10025305', '10194157', '10194514', '10345927', '10429045',\n",
       "       '104378', '104379', '10445208', '10482783',\n",
       "       ...\n",
       "       '9680403', '9680718', '9681214', '9761771', '9794437', '9833184',\n",
       "       '9888775', '9917938', '99561', '9961796'],\n",
       "      dtype='object', name='book_id', length=479)"
      ]
     },
     "execution_count": 20,
     "metadata": {},
     "output_type": "execute_result"
    }
   ],
   "source": [
    "mat.count()[mat.count()!=1].index"
   ]
  },
  {
   "cell_type": "code",
   "execution_count": 21,
   "id": "35d899dd",
   "metadata": {},
   "outputs": [
    {
     "data": {
      "text/plain": [
       "((3238, 10), (370, 10))"
      ]
     },
     "execution_count": 21,
     "metadata": {},
     "output_type": "execute_result"
    }
   ],
   "source": [
    "# Train/test split with all rows of count 1 in train\n",
    "train_bid, test_bid = sklearn.model_selection.train_test_split(mat.count()[mat.count()!=1].index, test_size=0.2, random_state=1111)\n",
    "train_bid = train_bid.union(mat.count()[mat.count()==1].index)\n",
    "train_filter = is_read_df['book_id'].isin(train_bid)\n",
    "train = is_read_df.loc[train_filter]\n",
    "test = is_read_df.loc[~train_filter]\n",
    "train.shape, test.shape"
   ]
  },
  {
   "cell_type": "code",
   "execution_count": 22,
   "id": "6f2c966c",
   "metadata": {},
   "outputs": [],
   "source": [
    "# # Train/test split with some rows of count 1 in test\n",
    "# train, test = sklearn.model_selection.train_test_split(is_read_df, test_size=0.1, random_state=1111)\n",
    "# train.shape, test.shape"
   ]
  },
  {
   "cell_type": "code",
   "execution_count": 23,
   "id": "bd8fe6fc",
   "metadata": {},
   "outputs": [],
   "source": [
    "# Set all test values to nan\n",
    "mat_trainonly = mat\n",
    "zipped_test = np.c_[test['user_id'], test['book_id'], test['rating']]\n",
    "test_mask = np.full(mat.shape, False)\n",
    "for i in range(len(zipped_test)):\n",
    "    row_idx = mat_trainonly.index.get_loc(zipped_test[i][0])\n",
    "    col_idx = mat_trainonly.columns.get_loc(zipped_test[i][1])\n",
    "    test_mask[row_idx, col_idx] = True\n",
    "test_actuals = np.array(mat)[test_mask] # Save test actuals\n",
    "mat_trainonly[test_mask] = np.nan"
   ]
  },
  {
   "cell_type": "code",
   "execution_count": 24,
   "id": "afe1f7a7",
   "metadata": {},
   "outputs": [
    {
     "data": {
      "text/plain": [
       "nan"
      ]
     },
     "execution_count": 24,
     "metadata": {},
     "output_type": "execute_result"
    }
   ],
   "source": [
    "mat_trainonly.at[zipped_test[0][0], zipped_test[0][1]]"
   ]
  },
  {
   "cell_type": "code",
   "execution_count": 25,
   "id": "b7be0a1b",
   "metadata": {},
   "outputs": [
    {
     "data": {
      "text/plain": [
       "0.987577115496762"
      ]
     },
     "execution_count": 25,
     "metadata": {},
     "output_type": "execute_result"
    }
   ],
   "source": [
    "# Calculate sparsity of data\n",
    "not_null = mat_trainonly.count().sum()\n",
    "sparsity = 1 - not_null / (mat.shape[0] * mat_trainonly.shape[1])\n",
    "sparsity"
   ]
  },
  {
   "cell_type": "code",
   "execution_count": 26,
   "id": "752bc837",
   "metadata": {},
   "outputs": [
    {
     "data": {
      "text/plain": [
       "book_id\n",
       "2767052     70\n",
       "6148028     52\n",
       "7260188     50\n",
       "41865       43\n",
       "11870085    37\n",
       "            ..\n",
       "12893742     0\n",
       "28686840     0\n",
       "22440677     0\n",
       "11235712     0\n",
       "15835685     0\n",
       "Length: 2102, dtype: int64"
      ]
     },
     "execution_count": 26,
     "metadata": {},
     "output_type": "execute_result"
    }
   ],
   "source": [
    "mat_trainonly.count().sort_values(ascending=False)"
   ]
  },
  {
   "cell_type": "code",
   "execution_count": 27,
   "id": "2064ede4",
   "metadata": {},
   "outputs": [
    {
     "data": {
      "text/plain": [
       "96"
      ]
     },
     "execution_count": 27,
     "metadata": {},
     "output_type": "execute_result"
    }
   ],
   "source": [
    "# Number of books with 0 ratings outside of what was in the test set\n",
    "(mat_trainonly.count()==0).sum()"
   ]
  },
  {
   "cell_type": "code",
   "execution_count": 28,
   "id": "34309974",
   "metadata": {},
   "outputs": [
    {
     "name": "stderr",
     "output_type": "stream",
     "text": [
      "<ipython-input-28-21e45cf23dd6>:2: RuntimeWarning: Mean of empty slice\n",
      "  avg_book_rating = np.nanmean(mat_trainonly, axis=0) # column avg r_j\n"
     ]
    }
   ],
   "source": [
    "# Calculate average rating for each book over users\n",
    "avg_book_rating = np.nanmean(mat_trainonly, axis=0) # column avg r_j\n",
    "# For empty columns, fill with avg rating\n",
    "np.nan_to_num(avg_book_rating, copy=False, nan=avg_rating)\n",
    "\n",
    "# Fill missing value with the appropriate average for that book\n",
    "filled = np.where(np.isnan(mat_trainonly), avg_book_rating, mat_trainonly)"
   ]
  },
  {
   "cell_type": "code",
   "execution_count": 29,
   "id": "86df05d7",
   "metadata": {},
   "outputs": [],
   "source": [
    "# Remove from each user (row) the mean over all books\n",
    "avg_user_rating = np.average(filled, axis=1) # row avg r_i\n",
    "avg_user_rating_col_vec = avg_user_rating.reshape(len(avg_user_rating),1)\n",
    "normalized = filled - avg_user_rating_col_vec"
   ]
  },
  {
   "cell_type": "code",
   "execution_count": 30,
   "id": "67cc7a0d",
   "metadata": {},
   "outputs": [
    {
     "data": {
      "text/plain": [
       "array([[-0.84199116,  1.15800884,  0.15800884, ...,  0.15800884,\n",
       "        -2.84199116,  0.15800884],\n",
       "       [-0.84388477,  1.15611523,  0.15611523, ...,  0.15611523,\n",
       "        -2.84388477,  0.15611523],\n",
       "       [-0.84579339,  1.15420661,  0.15420661, ...,  0.15420661,\n",
       "        -2.84579339,  0.15420661],\n",
       "       ...,\n",
       "       [-0.84594722,  1.15405278,  0.15405278, ...,  0.15405278,\n",
       "        -2.84594722,  0.15405278],\n",
       "       [-0.84318963,  1.15681037,  0.15681037, ...,  0.15681037,\n",
       "        -2.84318963,  0.15681037],\n",
       "       [-0.84742518,  1.15257482,  0.15257482, ...,  0.15257482,\n",
       "        -2.84742518,  0.15257482]])"
      ]
     },
     "execution_count": 30,
     "metadata": {},
     "output_type": "execute_result"
    }
   ],
   "source": [
    "normalized"
   ]
  },
  {
   "cell_type": "code",
   "execution_count": 31,
   "id": "9ee9260e",
   "metadata": {},
   "outputs": [
    {
     "data": {
      "text/plain": [
       "(124, 2102)"
      ]
     },
     "execution_count": 31,
     "metadata": {},
     "output_type": "execute_result"
    }
   ],
   "source": [
    "normalized.shape"
   ]
  },
  {
   "cell_type": "code",
   "execution_count": 32,
   "id": "8b22a781",
   "metadata": {},
   "outputs": [],
   "source": [
    "# Perform SVD, decide on a rank k, and calculate a reduced rating matrix to remove noise\n",
    "# Can use sparse matrix algorithms because of special structure\n",
    "# How to choose k: if top few values are big and the rest are small, take the big values. So chose k=11\n",
    "U, S, VT = scipy.sparse.linalg.svds(normalized, k=6) # CHANGE BACK TO k=11"
   ]
  },
  {
   "cell_type": "code",
   "execution_count": 33,
   "id": "45ef5596",
   "metadata": {},
   "outputs": [],
   "source": [
    "#U, S, VT = np.linalg.svd(normalized) #k=10\n",
    "\n",
    "# U = U[:, :9]\n",
    "# S = S[:9]\n",
    "# VT = VT[:9, :]"
   ]
  },
  {
   "cell_type": "code",
   "execution_count": 34,
   "id": "0b8bfa64",
   "metadata": {},
   "outputs": [
    {
     "data": {
      "text/plain": [
       "array([  7.60582978,   8.57633663,  10.02955956,  10.61539865,\n",
       "        12.00096701, 465.97626208])"
      ]
     },
     "execution_count": 34,
     "metadata": {},
     "output_type": "execute_result"
    }
   ],
   "source": [
    "S"
   ]
  },
  {
   "cell_type": "code",
   "execution_count": 35,
   "id": "abd30e6f",
   "metadata": {},
   "outputs": [
    {
     "data": {
      "text/plain": [
       "((124, 6), (6,), (6, 2102))"
      ]
     },
     "execution_count": 35,
     "metadata": {},
     "output_type": "execute_result"
    }
   ],
   "source": [
    "U.shape, S.shape, VT.shape"
   ]
  },
  {
   "cell_type": "code",
   "execution_count": 36,
   "id": "1ff324eb",
   "metadata": {},
   "outputs": [],
   "source": [
    "reduced_rating = U @ np.diag(S) @ VT"
   ]
  },
  {
   "cell_type": "code",
   "execution_count": 37,
   "id": "1f7b17b4",
   "metadata": {},
   "outputs": [
    {
     "data": {
      "text/plain": [
       "array([[-0.84557107,  1.15288988,  0.1536594 , ...,  0.24355606,\n",
       "        -2.84403202,  0.1536594 ],\n",
       "       [-0.84552865,  1.15628087,  0.15537611, ...,  0.16370058,\n",
       "        -2.84733818,  0.15537611],\n",
       "       [-0.84591764,  1.15334516,  0.15371376, ...,  0.2014205 ,\n",
       "        -2.84518044,  0.15371376],\n",
       "       ...,\n",
       "       [-0.84599865,  1.15471268,  0.15435702, ...,  0.17410969,\n",
       "        -2.84670998,  0.15435702],\n",
       "       [-0.8439105 ,  1.15520435,  0.15564693, ...,  0.15602517,\n",
       "        -2.84302535,  0.15564693],\n",
       "       [-0.84663405,  1.15469255,  0.15402925, ...,  0.14864642,\n",
       "        -2.84796066,  0.15402925]])"
      ]
     },
     "execution_count": 37,
     "metadata": {},
     "output_type": "execute_result"
    }
   ],
   "source": [
    "reduced_rating # SHOULD THIS BE >=1? Maybe not, because it's already been reduced"
   ]
  },
  {
   "cell_type": "code",
   "execution_count": 38,
   "id": "c463fc3c",
   "metadata": {},
   "outputs": [
    {
     "data": {
      "text/plain": [
       "(124, 2102)"
      ]
     },
     "execution_count": 38,
     "metadata": {},
     "output_type": "execute_result"
    }
   ],
   "source": [
    "reduced_rating.shape"
   ]
  },
  {
   "cell_type": "code",
   "execution_count": 39,
   "id": "67a4fd6b",
   "metadata": {},
   "outputs": [],
   "source": [
    "# Calculate matrix product for dimensionality-reduced rating matrix\n",
    "sqrtS = np.diag(np.sqrt(S))\n",
    "meta_on_users = U @ np.transpose(sqrtS)\n",
    "meta_on_items = sqrtS @ VT"
   ]
  },
  {
   "cell_type": "code",
   "execution_count": 40,
   "id": "2306e73c",
   "metadata": {},
   "outputs": [
    {
     "data": {
      "text/plain": [
       "array([[ 2.87251362e-03,  9.95980109e-04,  1.93424687e-03, ...,\n",
       "         8.75835848e-02,  4.74904714e-03,  1.93424687e-03],\n",
       "       [ 4.13064892e-03,  3.34374964e-03,  3.73719928e-03, ...,\n",
       "        -1.82017897e-02,  4.91754820e-03,  3.73719928e-03],\n",
       "       [-9.05928270e-04, -1.57092465e-03, -1.23842646e-03, ...,\n",
       "        -1.21329636e-01, -2.40931894e-04, -1.23842646e-03],\n",
       "       [-1.14309121e-02, -6.10015764e-03, -8.76553489e-03, ...,\n",
       "         4.52367100e-02, -1.67616666e-02, -8.76553489e-03],\n",
       "       [ 6.98170736e-03,  1.02649687e-02,  8.62333803e-03, ...,\n",
       "        -6.98075875e-02,  3.69844602e-03,  8.62333803e-03],\n",
       "       [-4.35509407e-01,  5.96202725e-01,  8.03466590e-02, ...,\n",
       "         8.03645523e-02, -1.46722154e+00,  8.03466590e-02]])"
      ]
     },
     "execution_count": 40,
     "metadata": {},
     "output_type": "execute_result"
    }
   ],
   "source": [
    "meta_on_items"
   ]
  },
  {
   "cell_type": "code",
   "execution_count": 41,
   "id": "4751c964",
   "metadata": {},
   "outputs": [],
   "source": [
    "# # Calculate similarity of 2 books j and f based on the reduced rating matrix\n",
    "# # Similarity is the correlation of 2 movies based on average over users\n",
    "# def similarity(j, f, matrix):\n",
    "#     j_col = matrix[:, j]\n",
    "#     f_col = matrix[:, f]\n",
    "#     numerator = np.sum(np.multiply(j_col, f_col))\n",
    "#     denominator = np.sqrt(np.multiply(np.sum(np.square(j_col)), np.sum(np.square(f_col))))\n",
    "#     return numerator / denominator"
   ]
  },
  {
   "cell_type": "code",
   "execution_count": 42,
   "id": "187fd785",
   "metadata": {},
   "outputs": [],
   "source": [
    "# num_books = reduced_rating.shape[1]\n",
    "# t1 = time()\n",
    "# similarities = np.zeros((num_books, num_books))\n",
    "# # TODO: is there a faster way to do this?\n",
    "# for i in range(num_books):\n",
    "#     for j in range(num_books):\n",
    "#         similarities[i, j] = similarity(i, j, meta_on_items)\n",
    "# t2 = time()"
   ]
  },
  {
   "cell_type": "code",
   "execution_count": 43,
   "id": "3ec459b7",
   "metadata": {},
   "outputs": [],
   "source": [
    "# t2-t1"
   ]
  },
  {
   "cell_type": "code",
   "execution_count": 44,
   "id": "4fdb9ea9",
   "metadata": {},
   "outputs": [],
   "source": [
    "# num_books = reduced_rating.shape[1]\n",
    "# t1 = time()\n",
    "# col_prods = meta_on_items.T.dot(meta_on_items)\n",
    "\n",
    "# similarities2 = np.zeros((num_books, num_books))\n",
    "# # TODO: is there a faster way to do this?\n",
    "# for i in range(num_books):\n",
    "#     for j in range(i, num_books):\n",
    "#         similarities2[i, j] = col_prods[i, j] / np.sqrt(col_prods[i, i] * col_prods[j, j])\n",
    "#         similarities2[j, i] = similarities2[i, j]\n",
    "# t2 = time()"
   ]
  },
  {
   "cell_type": "code",
   "execution_count": 45,
   "id": "e0a782b1",
   "metadata": {},
   "outputs": [],
   "source": [
    "# similarities.shape, t2-t1, np.allclose(similarities, similarities2)"
   ]
  },
  {
   "cell_type": "code",
   "execution_count": 46,
   "id": "e56771a1",
   "metadata": {},
   "outputs": [],
   "source": [
    "num_books = reduced_rating.shape[1]\n",
    "t1 = time()\n",
    "similarities = pw.cosine_similarity(meta_on_items.T, meta_on_items.T)\n",
    "t2 = time()"
   ]
  },
  {
   "cell_type": "code",
   "execution_count": 47,
   "id": "4624735f",
   "metadata": {},
   "outputs": [
    {
     "data": {
      "text/plain": [
       "((2102, 2102), 0.01512908935546875)"
      ]
     },
     "execution_count": 47,
     "metadata": {},
     "output_type": "execute_result"
    }
   ],
   "source": [
    "similarities.shape, t2-t1"
   ]
  },
  {
   "cell_type": "code",
   "execution_count": 48,
   "id": "45ecea6a",
   "metadata": {},
   "outputs": [],
   "source": [
    "# # Without reducing dimensionality\n",
    "# num_books = reduced_rating.shape[1]\n",
    "# t1 = time()\n",
    "# similarities = pw.cosine_similarity(reduced_rating.T, reduced_rating.T)\n",
    "# t2 = time()\n",
    "# similarities.shape, t2-t1"
   ]
  },
  {
   "cell_type": "code",
   "execution_count": 49,
   "id": "4503ef5e",
   "metadata": {},
   "outputs": [],
   "source": [
    "# # TODO: try optimizing\n",
    "# # Calculate prediction of rating by user i of book j, by avging over the ratings of all books by the same user, each weighted according to its similarity to book j\n",
    "# num_users = reduced_rating.shape[0]\n",
    "# predictions = np.zeros((num_users, num_books))\n",
    "\n",
    "# # Isolate the set of items which appear to be the most similar to the active item. Vozalis suggests 10 items is best.\n",
    "# most_similar_idx = np.argsort(similarities, axis=1)[:,-10:]\n",
    "# for a in range(num_users):\n",
    "#     for j in range(num_books):\n",
    "#         numerator = 0\n",
    "#         denominator = 0\n",
    "#         # check that similarities are non-negative\n",
    "#         for k in most_similar_idx[j,:]:\n",
    "#             sim = similarities[j,k]\n",
    "#             if sim < 0:\n",
    "#                 break\n",
    "#             numerator += sim * (reduced_rating[a,k] + avg_user_rating[a])\n",
    "#             denominator += sim\n",
    "#         predictions[a,j] = numerator/denominator"
   ]
  },
  {
   "cell_type": "code",
   "execution_count": 50,
   "id": "404ce51a",
   "metadata": {},
   "outputs": [
    {
     "data": {
      "text/plain": [
       "3.769423723220825"
      ]
     },
     "execution_count": 50,
     "metadata": {},
     "output_type": "execute_result"
    }
   ],
   "source": [
    "def rearrange_cols(arr, idx):\n",
    "    rows = np.indices(idx.shape)[0]\n",
    "    return arr[rows, idx]\n",
    "\n",
    "# Calculate prediction of rating by user i of book j, by avging over the ratings of all books by the same user, each weighted according to its similarity to book j\n",
    "num_users = reduced_rating.shape[0]\n",
    "predictions = np.zeros((num_users, num_books))\n",
    "\n",
    "# Isolate the set of items which appear to be the most similar to the active item. Vozalis suggests 10 items is best.\n",
    "t1 = time()\n",
    "most_similar_idx = np.argsort(similarities, axis=1)[:,:-11:-1]\n",
    "adjusted_rating = reduced_rating + avg_user_rating[:,np.newaxis]\n",
    "nonneg_sims = np.where(similarities > 0, similarities, 0)\n",
    "sorted_sims = rearrange_cols(nonneg_sims, most_similar_idx)\n",
    "denominator = np.sum(sorted_sims, axis=1)\n",
    "for a in range(num_users):\n",
    "    for j in range(num_books):\n",
    "        numerator = 0\n",
    "        for k in most_similar_idx[j,:]:\n",
    "            numerator += nonneg_sims[j,k] * adjusted_rating[a,k]\n",
    "        predictions[a,j] = numerator/denominator[j]\n",
    "t2 = time()\n",
    "t2-t1"
   ]
  },
  {
   "cell_type": "code",
   "execution_count": 51,
   "id": "c4928039",
   "metadata": {},
   "outputs": [
    {
     "name": "stdout",
     "output_type": "stream",
     "text": [
      "0.9882686433393353 5.007403007593695\n"
     ]
    },
    {
     "data": {
      "text/plain": [
       "array([[2.99642009, 4.99488103, 3.99565056, ..., 4.31031756, 0.99795914,\n",
       "        3.99565056],\n",
       "       [2.99835612, 5.00016564, 3.99926088, ..., 4.11186157, 0.9965466 ,\n",
       "        3.99926088],\n",
       "       [2.99987574, 4.99913854, 3.99950714, ..., 4.19986937, 1.00061294,\n",
       "        3.99950714],\n",
       "       ...,\n",
       "       [2.99994857, 5.0006599 , 4.00030424, ..., 4.14105693, 0.99923724,\n",
       "        4.00030424],\n",
       "       [2.99927913, 4.99839398, 3.99883656, ..., 4.09051671, 1.00016428,\n",
       "        3.99883656],\n",
       "       [3.00079113, 5.00211773, 4.00145443, ..., 4.10219562, 0.99946452,\n",
       "        4.00145443]])"
      ]
     },
     "execution_count": 51,
     "metadata": {},
     "output_type": "execute_result"
    }
   ],
   "source": [
    "print(np.min(predictions), np.max(predictions))\n",
    "predictions"
   ]
  },
  {
   "cell_type": "code",
   "execution_count": 52,
   "id": "7690a4d4",
   "metadata": {},
   "outputs": [
    {
     "data": {
      "text/plain": [
       "(124, 2102)"
      ]
     },
     "execution_count": 52,
     "metadata": {},
     "output_type": "execute_result"
    }
   ],
   "source": [
    "np.shape(predictions)"
   ]
  },
  {
   "cell_type": "code",
   "execution_count": 53,
   "id": "0bd6da5b",
   "metadata": {},
   "outputs": [],
   "source": [
    "# Define error function\n",
    "def rmse(predictions, actuals):\n",
    "    return np.sqrt(((predictions - actuals) ** 2).mean())"
   ]
  },
  {
   "cell_type": "code",
   "execution_count": 54,
   "id": "0c12823b",
   "metadata": {},
   "outputs": [
    {
     "data": {
      "text/plain": [
       "0.5268809584559666"
      ]
     },
     "execution_count": 54,
     "metadata": {},
     "output_type": "execute_result"
    }
   ],
   "source": [
    "# Calculate training error\n",
    "training_mask = np.array(mat_trainonly.notna())\n",
    "train_predictions = predictions[training_mask]\n",
    "train_actuals = np.array(mat_trainonly)[training_mask]\n",
    "train_rmse = rmse(train_predictions, train_actuals)\n",
    "train_rmse"
   ]
  },
  {
   "cell_type": "code",
   "execution_count": 55,
   "id": "b3164281",
   "metadata": {},
   "outputs": [
    {
     "data": {
      "text/plain": [
       "(array([2.99642009, 3.99565056, 4.53466269, ..., 3.5018855 , 4.49704695,\n",
       "        5.00211773]),\n",
       " array([3., 4., 5., ..., 5., 5., 5.]))"
      ]
     },
     "execution_count": 55,
     "metadata": {},
     "output_type": "execute_result"
    }
   ],
   "source": [
    "train_predictions, train_actuals"
   ]
  },
  {
   "cell_type": "code",
   "execution_count": 56,
   "id": "6dba6635",
   "metadata": {},
   "outputs": [
    {
     "data": {
      "text/plain": [
       "1.0240892908135444"
      ]
     },
     "execution_count": 56,
     "metadata": {},
     "output_type": "execute_result"
    }
   ],
   "source": [
    "# Calculate test error\n",
    "#zipped_test = np.c_[test['user_id'], test['book_id'], test['rating']]\n",
    "test_predictions = predictions[test_mask]\n",
    "test_rmse = rmse(test_predictions, test_actuals)\n",
    "test_rmse"
   ]
  },
  {
   "cell_type": "code",
   "execution_count": 57,
   "id": "0e46ae96",
   "metadata": {},
   "outputs": [
    {
     "data": {
      "text/plain": [
       "(array([3.86770032, 3.86770032, 3.86770032, 3.86770032, 3.86770032,\n",
       "        3.86770032, 3.86770032, 3.86770032, 3.86770032, 3.86770032]),\n",
       " array([5., 5., 5., 4., 5., 5., 5., 4., 3., 5.]))"
      ]
     },
     "execution_count": 57,
     "metadata": {},
     "output_type": "execute_result"
    }
   ],
   "source": [
    "test_predictions[:10], test_actuals[:10]"
   ]
  },
  {
   "cell_type": "code",
   "execution_count": 58,
   "id": "34f7aab1",
   "metadata": {},
   "outputs": [
    {
     "data": {
      "text/plain": [
       "(1.009635724540125, 1.0242200356130466)"
      ]
     },
     "execution_count": 58,
     "metadata": {},
     "output_type": "execute_result"
    }
   ],
   "source": [
    "# Calculate error if just rated everything the avg rating\n",
    "avg_train = np.full(train_actuals.shape, avg_rating)\n",
    "avg_train_rmse = rmse(avg_train, train_actuals)\n",
    "avg_test = np.full(test_actuals.shape, avg_rating)\n",
    "avg_test_rmse = rmse(avg_test, test_actuals)\n",
    "avg_train_rmse, avg_test_rmse"
   ]
  },
  {
   "cell_type": "markdown",
   "id": "2b485a45",
   "metadata": {},
   "source": [
    "# Debugging"
   ]
  },
  {
   "cell_type": "code",
   "execution_count": 59,
   "id": "72411437",
   "metadata": {},
   "outputs": [
    {
     "data": {
      "text/plain": [
       "array([[ 744,  833, 1790, ..., 1536,  742, 1790],\n",
       "       [ 474,  268, 1768, ..., 1360,  991, 1768],\n",
       "       [ 475,  764, 1969, ...,  322, 1159, 1969],\n",
       "       ...,\n",
       "       [1002,  131, 1326, ..., 1682,  826, 1326],\n",
       "       [ 957, 1712, 1335, ...,  838, 1819, 1335],\n",
       "       [   0,  147, 2101, ..., 2099, 1055, 2101]], dtype=int64)"
      ]
     },
     "execution_count": 59,
     "metadata": {},
     "output_type": "execute_result"
    }
   ],
   "source": [
    "np.argsort(similarities, axis=0)"
   ]
  },
  {
   "cell_type": "code",
   "execution_count": 60,
   "id": "b3773305",
   "metadata": {},
   "outputs": [
    {
     "data": {
      "text/plain": [
       "array([[4, 2],\n",
       "       [3, 4]], dtype=int64)"
      ]
     },
     "execution_count": 60,
     "metadata": {},
     "output_type": "execute_result"
    }
   ],
   "source": [
    "testing = np.array([[1,5,8,3,7],[1,2,3,4,5]])\n",
    "sorted_testing = np.argsort(testing, axis=1)\n",
    "sorted_testing[:,-2:]"
   ]
  },
  {
   "cell_type": "code",
   "execution_count": 61,
   "id": "9f8d9149",
   "metadata": {},
   "outputs": [
    {
     "data": {
      "text/plain": [
       "(False, False)"
      ]
     },
     "execution_count": 61,
     "metadata": {},
     "output_type": "execute_result"
    }
   ],
   "source": [
    "np.all(predictions < 5), np.all(predictions > 1)"
   ]
  },
  {
   "cell_type": "code",
   "execution_count": 62,
   "id": "023e9db4",
   "metadata": {},
   "outputs": [
    {
     "data": {
      "text/plain": [
       "(True, False)"
      ]
     },
     "execution_count": 62,
     "metadata": {},
     "output_type": "execute_result"
    }
   ],
   "source": [
    "np.all(reduced_rating < 5), np.all(reduced_rating > 1)"
   ]
  },
  {
   "cell_type": "code",
   "execution_count": 63,
   "id": "53fc2cad",
   "metadata": {},
   "outputs": [
    {
     "data": {
      "text/plain": [
       "array([[-0.84557107,  1.15288988,  0.1536594 , ...,  0.24355606,\n",
       "        -2.84403202,  0.1536594 ],\n",
       "       [-0.84552865,  1.15628087,  0.15537611, ...,  0.16370058,\n",
       "        -2.84733818,  0.15537611],\n",
       "       [-0.84591764,  1.15334516,  0.15371376, ...,  0.2014205 ,\n",
       "        -2.84518044,  0.15371376],\n",
       "       ...,\n",
       "       [-0.84599865,  1.15471268,  0.15435702, ...,  0.17410969,\n",
       "        -2.84670998,  0.15435702],\n",
       "       [-0.8439105 ,  1.15520435,  0.15564693, ...,  0.15602517,\n",
       "        -2.84302535,  0.15564693],\n",
       "       [-0.84663405,  1.15469255,  0.15402925, ...,  0.14864642,\n",
       "        -2.84796066,  0.15402925]])"
      ]
     },
     "execution_count": 63,
     "metadata": {},
     "output_type": "execute_result"
    }
   ],
   "source": [
    "reduced_rating"
   ]
  },
  {
   "cell_type": "code",
   "execution_count": 64,
   "id": "1b0c55b6",
   "metadata": {},
   "outputs": [
    {
     "data": {
      "text/plain": [
       "array([3.84199116, 3.84388477, 3.84579339, 3.84476649, 3.84416229,\n",
       "       3.84298556, 3.85759209, 3.84785946, 3.84132351, 3.84456826,\n",
       "       3.84535163, 3.84237107, 3.84457984, 3.84447336, 3.84424682,\n",
       "       3.83781142, 3.84566607, 3.84064955, 3.84642891, 3.84424682,\n",
       "       3.84258765, 3.84497015, 3.84531198, 3.84456826, 3.83995069,\n",
       "       3.8441411 , 3.84484576, 3.84531198, 3.84260292, 3.84267355,\n",
       "       3.84416229, 3.84498082, 3.84442086, 3.83443143, 3.84400895,\n",
       "       3.84352693, 3.84424682, 3.84805272, 3.83679609, 3.84225934,\n",
       "       3.84608979, 3.84317641, 3.84424682, 3.83001775, 3.84493173,\n",
       "       3.84091593, 3.84386135, 3.84283547, 3.85030684, 3.84424682,\n",
       "       3.85231323, 3.84374318, 3.84556307, 3.84407055, 3.84568547,\n",
       "       3.84392406, 3.84221101, 3.84202043, 3.84047581, 3.851267  ,\n",
       "       3.84440015, 3.84362836, 3.84617697, 3.84518617, 3.84424682,\n",
       "       3.84502914, 3.84575332, 3.8416221 , 3.84992042, 3.84550239,\n",
       "       3.84918132, 3.84455153, 3.84116374, 3.84392966, 3.84484149,\n",
       "       3.84491163, 3.84378694, 3.8404175 , 3.82183334, 3.84435569,\n",
       "       3.84210076, 3.84246977, 3.84379828, 3.84347716, 3.84424821,\n",
       "       3.84436575, 3.84424682, 3.84510426, 3.84488851, 3.83445712,\n",
       "       3.84424053, 3.84899805, 3.8442542 , 3.84461771, 3.84433888,\n",
       "       3.84085595, 3.84433891, 3.84571977, 3.84219503, 3.84317641,\n",
       "       3.84424682, 3.8437967 , 3.84463802, 3.84490128, 3.8452194 ,\n",
       "       3.84392966, 3.84424682, 3.84477013, 3.84408824, 3.86532753,\n",
       "       3.84545631, 3.84541689, 3.84685056, 3.84444504, 3.85097399,\n",
       "       3.84424682, 3.8451812 , 3.84424682, 3.84436821, 3.84965868,\n",
       "       3.8451983 , 3.84594722, 3.84318963, 3.84742518])"
      ]
     },
     "execution_count": 64,
     "metadata": {},
     "output_type": "execute_result"
    }
   ],
   "source": [
    "avg_user_rating"
   ]
  }
 ],
 "metadata": {
  "kernelspec": {
   "display_name": "Python 3",
   "language": "python",
   "name": "python3"
  },
  "language_info": {
   "codemirror_mode": {
    "name": "ipython",
    "version": 3
   },
   "file_extension": ".py",
   "mimetype": "text/x-python",
   "name": "python",
   "nbconvert_exporter": "python",
   "pygments_lexer": "ipython3",
   "version": "3.8.8"
  }
 },
 "nbformat": 4,
 "nbformat_minor": 5
}
