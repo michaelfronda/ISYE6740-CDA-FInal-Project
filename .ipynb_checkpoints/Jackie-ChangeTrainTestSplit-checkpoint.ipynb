{
 "cells": [
  {
   "cell_type": "code",
   "execution_count": 1,
   "id": "397c4628",
   "metadata": {},
   "outputs": [],
   "source": [
    "import gzip\n",
    "import json\n",
    "import re\n",
    "import os\n",
    "import sys\n",
    "import numpy as np\n",
    "import pandas as pd\n",
    "import sklearn.model_selection\n",
    "import scipy\n",
    "import sklearn.metrics.pairwise as pw\n",
    "from time import time"
   ]
  },
  {
   "cell_type": "code",
   "execution_count": 2,
   "id": "fedea9cc",
   "metadata": {},
   "outputs": [],
   "source": [
    "# Specify your directory\n",
    "DIR = r'C:\\Users\\Jackie\\OneDrive - Georgia Institute of Technology\\ISYE6740 Computational Data Analytics\\Project\\Data\\Genres\\YoungAdult'"
   ]
  },
  {
   "cell_type": "code",
   "execution_count": 3,
   "id": "a7e290f8",
   "metadata": {},
   "outputs": [],
   "source": [
    "def load_data(file_name):\n",
    "    count = 0\n",
    "    data = []\n",
    "    with gzip.open(file_name) as fin:\n",
    "        for l in fin:\n",
    "            d = json.loads(l)\n",
    "            count += 1\n",
    "            data.append(d)\n",
    "    return data"
   ]
  },
  {
   "cell_type": "code",
   "execution_count": 4,
   "id": "485b2c98",
   "metadata": {},
   "outputs": [],
   "source": [
    "# The Young Adult genre has the highest interaction / book ratio: 34,919,254 interactions and 93,398 books\n",
    "#interactions = load_data(os.path.join(DIR, 'goodreads_interactions_young_adult.json.gz'))"
   ]
  },
  {
   "cell_type": "code",
   "execution_count": 5,
   "id": "bc57ee77",
   "metadata": {},
   "outputs": [],
   "source": [
    "def load_data(file_name, head = 10000): # should be 1000000\n",
    "    count = 0\n",
    "    data = []\n",
    "    with gzip.open(file_name) as fin:\n",
    "        for l in fin:\n",
    "            d = json.loads(l)\n",
    "            count += 1\n",
    "            data.append(d)\n",
    "            \n",
    "            # break if reaches the \"head\"th line\n",
    "            if (head is not None) and (count > head):\n",
    "                break\n",
    "    return data"
   ]
  },
  {
   "cell_type": "code",
   "execution_count": 6,
   "id": "83e80cfd",
   "metadata": {},
   "outputs": [],
   "source": [
    "interactions_sample = load_data(os.path.join(DIR, 'goodreads_interactions_young_adult.json.gz'))"
   ]
  },
  {
   "cell_type": "code",
   "execution_count": 7,
   "id": "9ae76aff",
   "metadata": {},
   "outputs": [
    {
     "name": "stdout",
     "output_type": "stream",
     "text": [
      " == sample record (interaction) ==\n"
     ]
    },
    {
     "data": {
      "text/plain": [
       "{'user_id': '012515e5802b2e0f42915118c90fa04b',\n",
       " 'book_id': '7198988',\n",
       " 'review_id': '2a2f9ea76a4c752d7d7a16be0ff296e1',\n",
       " 'is_read': True,\n",
       " 'rating': 2,\n",
       " 'review_text_incomplete': '',\n",
       " 'date_added': 'Mon Jun 04 19:50:10 -0700 2012',\n",
       " 'date_updated': 'Sun Aug 03 12:05:22 -0700 2014',\n",
       " 'read_at': '',\n",
       " 'started_at': ''}"
      ]
     },
     "metadata": {},
     "output_type": "display_data"
    }
   ],
   "source": [
    "print(' == sample record (interaction) ==')\n",
    "display(np.random.choice(interactions_sample))"
   ]
  },
  {
   "cell_type": "code",
   "execution_count": 8,
   "id": "c0cc5678",
   "metadata": {},
   "outputs": [],
   "source": [
    "df = pd.json_normalize(interactions_sample)"
   ]
  },
  {
   "cell_type": "code",
   "execution_count": 9,
   "id": "9d21e60f",
   "metadata": {},
   "outputs": [],
   "source": [
    "# Filter to books that the user has read\n",
    "is_read = np.logical_and(df['is_read'] == True, df['rating'] != 0) # a book can be read but still have a rating of 0\n",
    "is_read_df = df[is_read]"
   ]
  },
  {
   "cell_type": "code",
   "execution_count": 10,
   "id": "5f19e9ee",
   "metadata": {},
   "outputs": [
    {
     "data": {
      "text/html": [
       "<div>\n",
       "<style scoped>\n",
       "    .dataframe tbody tr th:only-of-type {\n",
       "        vertical-align: middle;\n",
       "    }\n",
       "\n",
       "    .dataframe tbody tr th {\n",
       "        vertical-align: top;\n",
       "    }\n",
       "\n",
       "    .dataframe thead th {\n",
       "        text-align: right;\n",
       "    }\n",
       "</style>\n",
       "<table border=\"1\" class=\"dataframe\">\n",
       "  <thead>\n",
       "    <tr style=\"text-align: right;\">\n",
       "      <th></th>\n",
       "      <th>user_id</th>\n",
       "      <th>book_id</th>\n",
       "      <th>review_id</th>\n",
       "      <th>is_read</th>\n",
       "      <th>rating</th>\n",
       "      <th>review_text_incomplete</th>\n",
       "      <th>date_added</th>\n",
       "      <th>date_updated</th>\n",
       "      <th>read_at</th>\n",
       "      <th>started_at</th>\n",
       "    </tr>\n",
       "  </thead>\n",
       "  <tbody>\n",
       "    <tr>\n",
       "      <th>3</th>\n",
       "      <td>8842281e1d1347389f2ab93d60773d4d</td>\n",
       "      <td>8684868</td>\n",
       "      <td>d29b8238762d70b7c2b67941bc81fbe0</td>\n",
       "      <td>True</td>\n",
       "      <td>3</td>\n",
       "      <td></td>\n",
       "      <td>Tue Dec 17 13:42:25 -0800 2013</td>\n",
       "      <td>Tue Dec 17 13:47:26 -0800 2013</td>\n",
       "      <td>Sun Dec 15 00:00:00 -0800 2013</td>\n",
       "      <td>Sat Dec 14 00:00:00 -0800 2013</td>\n",
       "    </tr>\n",
       "    <tr>\n",
       "      <th>4</th>\n",
       "      <td>8842281e1d1347389f2ab93d60773d4d</td>\n",
       "      <td>8423493</td>\n",
       "      <td>357c8c178fd0e06cff5c025649231672</td>\n",
       "      <td>True</td>\n",
       "      <td>2</td>\n",
       "      <td></td>\n",
       "      <td>Sun Dec 08 01:26:12 -0800 2013</td>\n",
       "      <td>Tue Dec 27 05:37:48 -0800 2016</td>\n",
       "      <td>Tue Dec 10 00:00:00 -0800 2013</td>\n",
       "      <td></td>\n",
       "    </tr>\n",
       "    <tr>\n",
       "      <th>5</th>\n",
       "      <td>8842281e1d1347389f2ab93d60773d4d</td>\n",
       "      <td>87976</td>\n",
       "      <td>e6306259819c47f278e78d32a1b73ddf</td>\n",
       "      <td>True</td>\n",
       "      <td>5</td>\n",
       "      <td></td>\n",
       "      <td>Wed Oct 17 17:49:11 -0700 2012</td>\n",
       "      <td>Wed Oct 17 17:49:11 -0700 2012</td>\n",
       "      <td></td>\n",
       "      <td></td>\n",
       "    </tr>\n",
       "    <tr>\n",
       "      <th>6</th>\n",
       "      <td>8842281e1d1347389f2ab93d60773d4d</td>\n",
       "      <td>18116</td>\n",
       "      <td>8aa100c7b681e9fedbe2c6bd2c25696a</td>\n",
       "      <td>True</td>\n",
       "      <td>5</td>\n",
       "      <td></td>\n",
       "      <td>Fri Apr 29 13:14:05 -0700 2011</td>\n",
       "      <td>Fri Apr 29 13:14:05 -0700 2011</td>\n",
       "      <td></td>\n",
       "      <td></td>\n",
       "    </tr>\n",
       "    <tr>\n",
       "      <th>7</th>\n",
       "      <td>8842281e1d1347389f2ab93d60773d4d</td>\n",
       "      <td>2767052</td>\n",
       "      <td>248c011811e945eca861b5c31a549291</td>\n",
       "      <td>True</td>\n",
       "      <td>5</td>\n",
       "      <td>I cracked and finally picked this up. Very enj...</td>\n",
       "      <td>Wed Jan 13 13:38:25 -0800 2010</td>\n",
       "      <td>Wed Mar 22 11:46:36 -0700 2017</td>\n",
       "      <td>Sun Mar 25 00:00:00 -0700 2012</td>\n",
       "      <td>Fri Mar 23 00:00:00 -0700 2012</td>\n",
       "    </tr>\n",
       "    <tr>\n",
       "      <th>...</th>\n",
       "      <td>...</td>\n",
       "      <td>...</td>\n",
       "      <td>...</td>\n",
       "      <td>...</td>\n",
       "      <td>...</td>\n",
       "      <td>...</td>\n",
       "      <td>...</td>\n",
       "      <td>...</td>\n",
       "      <td>...</td>\n",
       "      <td>...</td>\n",
       "    </tr>\n",
       "    <tr>\n",
       "      <th>9996</th>\n",
       "      <td>4a44f603cc3df339acc48590044a2db0</td>\n",
       "      <td>17261628</td>\n",
       "      <td>2310bbf77a0d72234e4739a3adf7194d</td>\n",
       "      <td>True</td>\n",
       "      <td>3</td>\n",
       "      <td></td>\n",
       "      <td>Sat Jan 24 21:56:03 -0800 2015</td>\n",
       "      <td>Sat Dec 19 17:16:14 -0800 2015</td>\n",
       "      <td>Sun Jan 25 17:01:54 -0800 2015</td>\n",
       "      <td>Sat Jan 24 21:56:03 -0800 2015</td>\n",
       "    </tr>\n",
       "    <tr>\n",
       "      <th>9997</th>\n",
       "      <td>4a44f603cc3df339acc48590044a2db0</td>\n",
       "      <td>18190208</td>\n",
       "      <td>c1c267254139f66d2b7d26d27a423c1d</td>\n",
       "      <td>True</td>\n",
       "      <td>4</td>\n",
       "      <td>See full review for The Witch Hunter at: &lt;a ta...</td>\n",
       "      <td>Thu Jan 15 09:52:14 -0800 2015</td>\n",
       "      <td>Sat Jul 18 09:16:21 -0700 2015</td>\n",
       "      <td>Fri Jul 10 00:00:00 -0700 2015</td>\n",
       "      <td>Fri Jul 10 00:00:00 -0700 2015</td>\n",
       "    </tr>\n",
       "    <tr>\n",
       "      <th>9998</th>\n",
       "      <td>4a44f603cc3df339acc48590044a2db0</td>\n",
       "      <td>22308716</td>\n",
       "      <td>0c71f23060e6513f28cad1496b6a7e61</td>\n",
       "      <td>True</td>\n",
       "      <td>5</td>\n",
       "      <td>See full review for Red Queen at: &lt;a target=\"_...</td>\n",
       "      <td>Thu Jan 15 09:51:38 -0800 2015</td>\n",
       "      <td>Sat Dec 19 17:20:26 -0800 2015</td>\n",
       "      <td>Tue Mar 03 00:00:00 -0800 2015</td>\n",
       "      <td>Thu Feb 26 00:00:00 -0800 2015</td>\n",
       "    </tr>\n",
       "    <tr>\n",
       "      <th>9999</th>\n",
       "      <td>4a44f603cc3df339acc48590044a2db0</td>\n",
       "      <td>18967205</td>\n",
       "      <td>911a06b2f968713818e78544434a330e</td>\n",
       "      <td>True</td>\n",
       "      <td>4</td>\n",
       "      <td>See full review for Hellhole at: &lt;a target=\"_b...</td>\n",
       "      <td>Thu Jan 15 09:50:59 -0800 2015</td>\n",
       "      <td>Sat Feb 28 15:58:19 -0800 2015</td>\n",
       "      <td>Fri Feb 27 00:00:00 -0800 2015</td>\n",
       "      <td>Fri Feb 27 00:00:00 -0800 2015</td>\n",
       "    </tr>\n",
       "    <tr>\n",
       "      <th>10000</th>\n",
       "      <td>4a44f603cc3df339acc48590044a2db0</td>\n",
       "      <td>20958632</td>\n",
       "      <td>f33ea3632b8777470d307e61871ab483</td>\n",
       "      <td>True</td>\n",
       "      <td>5</td>\n",
       "      <td>See full review for The Darkest Part of the Fo...</td>\n",
       "      <td>Thu Jan 15 09:50:19 -0800 2015</td>\n",
       "      <td>Thu Feb 19 10:40:23 -0800 2015</td>\n",
       "      <td>Fri Feb 13 00:00:00 -0800 2015</td>\n",
       "      <td>Fri Feb 13 00:00:00 -0800 2015</td>\n",
       "    </tr>\n",
       "  </tbody>\n",
       "</table>\n",
       "<p>3608 rows × 10 columns</p>\n",
       "</div>"
      ],
      "text/plain": [
       "                                user_id   book_id  \\\n",
       "3      8842281e1d1347389f2ab93d60773d4d   8684868   \n",
       "4      8842281e1d1347389f2ab93d60773d4d   8423493   \n",
       "5      8842281e1d1347389f2ab93d60773d4d     87976   \n",
       "6      8842281e1d1347389f2ab93d60773d4d     18116   \n",
       "7      8842281e1d1347389f2ab93d60773d4d   2767052   \n",
       "...                                 ...       ...   \n",
       "9996   4a44f603cc3df339acc48590044a2db0  17261628   \n",
       "9997   4a44f603cc3df339acc48590044a2db0  18190208   \n",
       "9998   4a44f603cc3df339acc48590044a2db0  22308716   \n",
       "9999   4a44f603cc3df339acc48590044a2db0  18967205   \n",
       "10000  4a44f603cc3df339acc48590044a2db0  20958632   \n",
       "\n",
       "                              review_id  is_read  rating  \\\n",
       "3      d29b8238762d70b7c2b67941bc81fbe0     True       3   \n",
       "4      357c8c178fd0e06cff5c025649231672     True       2   \n",
       "5      e6306259819c47f278e78d32a1b73ddf     True       5   \n",
       "6      8aa100c7b681e9fedbe2c6bd2c25696a     True       5   \n",
       "7      248c011811e945eca861b5c31a549291     True       5   \n",
       "...                                 ...      ...     ...   \n",
       "9996   2310bbf77a0d72234e4739a3adf7194d     True       3   \n",
       "9997   c1c267254139f66d2b7d26d27a423c1d     True       4   \n",
       "9998   0c71f23060e6513f28cad1496b6a7e61     True       5   \n",
       "9999   911a06b2f968713818e78544434a330e     True       4   \n",
       "10000  f33ea3632b8777470d307e61871ab483     True       5   \n",
       "\n",
       "                                  review_text_incomplete  \\\n",
       "3                                                          \n",
       "4                                                          \n",
       "5                                                          \n",
       "6                                                          \n",
       "7      I cracked and finally picked this up. Very enj...   \n",
       "...                                                  ...   \n",
       "9996                                                       \n",
       "9997   See full review for The Witch Hunter at: <a ta...   \n",
       "9998   See full review for Red Queen at: <a target=\"_...   \n",
       "9999   See full review for Hellhole at: <a target=\"_b...   \n",
       "10000  See full review for The Darkest Part of the Fo...   \n",
       "\n",
       "                           date_added                    date_updated  \\\n",
       "3      Tue Dec 17 13:42:25 -0800 2013  Tue Dec 17 13:47:26 -0800 2013   \n",
       "4      Sun Dec 08 01:26:12 -0800 2013  Tue Dec 27 05:37:48 -0800 2016   \n",
       "5      Wed Oct 17 17:49:11 -0700 2012  Wed Oct 17 17:49:11 -0700 2012   \n",
       "6      Fri Apr 29 13:14:05 -0700 2011  Fri Apr 29 13:14:05 -0700 2011   \n",
       "7      Wed Jan 13 13:38:25 -0800 2010  Wed Mar 22 11:46:36 -0700 2017   \n",
       "...                               ...                             ...   \n",
       "9996   Sat Jan 24 21:56:03 -0800 2015  Sat Dec 19 17:16:14 -0800 2015   \n",
       "9997   Thu Jan 15 09:52:14 -0800 2015  Sat Jul 18 09:16:21 -0700 2015   \n",
       "9998   Thu Jan 15 09:51:38 -0800 2015  Sat Dec 19 17:20:26 -0800 2015   \n",
       "9999   Thu Jan 15 09:50:59 -0800 2015  Sat Feb 28 15:58:19 -0800 2015   \n",
       "10000  Thu Jan 15 09:50:19 -0800 2015  Thu Feb 19 10:40:23 -0800 2015   \n",
       "\n",
       "                              read_at                      started_at  \n",
       "3      Sun Dec 15 00:00:00 -0800 2013  Sat Dec 14 00:00:00 -0800 2013  \n",
       "4      Tue Dec 10 00:00:00 -0800 2013                                  \n",
       "5                                                                      \n",
       "6                                                                      \n",
       "7      Sun Mar 25 00:00:00 -0700 2012  Fri Mar 23 00:00:00 -0700 2012  \n",
       "...                               ...                             ...  \n",
       "9996   Sun Jan 25 17:01:54 -0800 2015  Sat Jan 24 21:56:03 -0800 2015  \n",
       "9997   Fri Jul 10 00:00:00 -0700 2015  Fri Jul 10 00:00:00 -0700 2015  \n",
       "9998   Tue Mar 03 00:00:00 -0800 2015  Thu Feb 26 00:00:00 -0800 2015  \n",
       "9999   Fri Feb 27 00:00:00 -0800 2015  Fri Feb 27 00:00:00 -0800 2015  \n",
       "10000  Fri Feb 13 00:00:00 -0800 2015  Fri Feb 13 00:00:00 -0800 2015  \n",
       "\n",
       "[3608 rows x 10 columns]"
      ]
     },
     "execution_count": 10,
     "metadata": {},
     "output_type": "execute_result"
    }
   ],
   "source": [
    "is_read_df"
   ]
  },
  {
   "cell_type": "code",
   "execution_count": 11,
   "id": "c2856f3d",
   "metadata": {},
   "outputs": [],
   "source": [
    "# Define user-book rating matrix\n",
    "mat = pd.pivot(is_read_df, index='user_id', columns='book_id', values='rating')\n",
    "mat.replace(0, np.nan, inplace=True)"
   ]
  },
  {
   "cell_type": "code",
   "execution_count": 12,
   "id": "c9e34fac",
   "metadata": {},
   "outputs": [
    {
     "data": {
      "text/html": [
       "<div>\n",
       "<style scoped>\n",
       "    .dataframe tbody tr th:only-of-type {\n",
       "        vertical-align: middle;\n",
       "    }\n",
       "\n",
       "    .dataframe tbody tr th {\n",
       "        vertical-align: top;\n",
       "    }\n",
       "\n",
       "    .dataframe thead th {\n",
       "        text-align: right;\n",
       "    }\n",
       "</style>\n",
       "<table border=\"1\" class=\"dataframe\">\n",
       "  <thead>\n",
       "    <tr style=\"text-align: right;\">\n",
       "      <th>book_id</th>\n",
       "      <th>10001793</th>\n",
       "      <th>10004138</th>\n",
       "      <th>10025007</th>\n",
       "      <th>10025305</th>\n",
       "      <th>1003318</th>\n",
       "      <th>1008231</th>\n",
       "      <th>10118172</th>\n",
       "      <th>10151730</th>\n",
       "      <th>10165727</th>\n",
       "      <th>10165761</th>\n",
       "      <th>...</th>\n",
       "      <th>9917938</th>\n",
       "      <th>9917945</th>\n",
       "      <th>9918053</th>\n",
       "      <th>9918133</th>\n",
       "      <th>9939115</th>\n",
       "      <th>9947386</th>\n",
       "      <th>99561</th>\n",
       "      <th>9961796</th>\n",
       "      <th>9972882</th>\n",
       "      <th>9975679</th>\n",
       "    </tr>\n",
       "    <tr>\n",
       "      <th>user_id</th>\n",
       "      <th></th>\n",
       "      <th></th>\n",
       "      <th></th>\n",
       "      <th></th>\n",
       "      <th></th>\n",
       "      <th></th>\n",
       "      <th></th>\n",
       "      <th></th>\n",
       "      <th></th>\n",
       "      <th></th>\n",
       "      <th></th>\n",
       "      <th></th>\n",
       "      <th></th>\n",
       "      <th></th>\n",
       "      <th></th>\n",
       "      <th></th>\n",
       "      <th></th>\n",
       "      <th></th>\n",
       "      <th></th>\n",
       "      <th></th>\n",
       "      <th></th>\n",
       "    </tr>\n",
       "  </thead>\n",
       "  <tbody>\n",
       "    <tr>\n",
       "      <th>012515e5802b2e0f42915118c90fa04b</th>\n",
       "      <td>NaN</td>\n",
       "      <td>NaN</td>\n",
       "      <td>NaN</td>\n",
       "      <td>NaN</td>\n",
       "      <td>NaN</td>\n",
       "      <td>NaN</td>\n",
       "      <td>NaN</td>\n",
       "      <td>NaN</td>\n",
       "      <td>NaN</td>\n",
       "      <td>NaN</td>\n",
       "      <td>...</td>\n",
       "      <td>NaN</td>\n",
       "      <td>NaN</td>\n",
       "      <td>NaN</td>\n",
       "      <td>NaN</td>\n",
       "      <td>NaN</td>\n",
       "      <td>NaN</td>\n",
       "      <td>3.0</td>\n",
       "      <td>NaN</td>\n",
       "      <td>NaN</td>\n",
       "      <td>NaN</td>\n",
       "    </tr>\n",
       "    <tr>\n",
       "      <th>012aa353140af13109d00ca36cdc0637</th>\n",
       "      <td>NaN</td>\n",
       "      <td>NaN</td>\n",
       "      <td>NaN</td>\n",
       "      <td>NaN</td>\n",
       "      <td>NaN</td>\n",
       "      <td>NaN</td>\n",
       "      <td>NaN</td>\n",
       "      <td>NaN</td>\n",
       "      <td>NaN</td>\n",
       "      <td>NaN</td>\n",
       "      <td>...</td>\n",
       "      <td>NaN</td>\n",
       "      <td>NaN</td>\n",
       "      <td>NaN</td>\n",
       "      <td>NaN</td>\n",
       "      <td>NaN</td>\n",
       "      <td>NaN</td>\n",
       "      <td>NaN</td>\n",
       "      <td>NaN</td>\n",
       "      <td>NaN</td>\n",
       "      <td>NaN</td>\n",
       "    </tr>\n",
       "    <tr>\n",
       "      <th>01d02898170634e6e7232650ebbf2e43</th>\n",
       "      <td>NaN</td>\n",
       "      <td>NaN</td>\n",
       "      <td>NaN</td>\n",
       "      <td>NaN</td>\n",
       "      <td>NaN</td>\n",
       "      <td>NaN</td>\n",
       "      <td>NaN</td>\n",
       "      <td>NaN</td>\n",
       "      <td>NaN</td>\n",
       "      <td>NaN</td>\n",
       "      <td>...</td>\n",
       "      <td>NaN</td>\n",
       "      <td>NaN</td>\n",
       "      <td>NaN</td>\n",
       "      <td>NaN</td>\n",
       "      <td>NaN</td>\n",
       "      <td>NaN</td>\n",
       "      <td>NaN</td>\n",
       "      <td>NaN</td>\n",
       "      <td>NaN</td>\n",
       "      <td>NaN</td>\n",
       "    </tr>\n",
       "    <tr>\n",
       "      <th>01ec1a320ffded6b2dd47833f2c8e4fb</th>\n",
       "      <td>NaN</td>\n",
       "      <td>NaN</td>\n",
       "      <td>NaN</td>\n",
       "      <td>NaN</td>\n",
       "      <td>NaN</td>\n",
       "      <td>NaN</td>\n",
       "      <td>NaN</td>\n",
       "      <td>NaN</td>\n",
       "      <td>NaN</td>\n",
       "      <td>NaN</td>\n",
       "      <td>...</td>\n",
       "      <td>NaN</td>\n",
       "      <td>NaN</td>\n",
       "      <td>NaN</td>\n",
       "      <td>NaN</td>\n",
       "      <td>NaN</td>\n",
       "      <td>NaN</td>\n",
       "      <td>NaN</td>\n",
       "      <td>NaN</td>\n",
       "      <td>NaN</td>\n",
       "      <td>NaN</td>\n",
       "    </tr>\n",
       "    <tr>\n",
       "      <th>040b31603912dc03f19e0b76d58c3660</th>\n",
       "      <td>NaN</td>\n",
       "      <td>NaN</td>\n",
       "      <td>NaN</td>\n",
       "      <td>NaN</td>\n",
       "      <td>NaN</td>\n",
       "      <td>NaN</td>\n",
       "      <td>NaN</td>\n",
       "      <td>NaN</td>\n",
       "      <td>NaN</td>\n",
       "      <td>NaN</td>\n",
       "      <td>...</td>\n",
       "      <td>NaN</td>\n",
       "      <td>NaN</td>\n",
       "      <td>NaN</td>\n",
       "      <td>NaN</td>\n",
       "      <td>NaN</td>\n",
       "      <td>NaN</td>\n",
       "      <td>NaN</td>\n",
       "      <td>NaN</td>\n",
       "      <td>NaN</td>\n",
       "      <td>NaN</td>\n",
       "    </tr>\n",
       "    <tr>\n",
       "      <th>...</th>\n",
       "      <td>...</td>\n",
       "      <td>...</td>\n",
       "      <td>...</td>\n",
       "      <td>...</td>\n",
       "      <td>...</td>\n",
       "      <td>...</td>\n",
       "      <td>...</td>\n",
       "      <td>...</td>\n",
       "      <td>...</td>\n",
       "      <td>...</td>\n",
       "      <td>...</td>\n",
       "      <td>...</td>\n",
       "      <td>...</td>\n",
       "      <td>...</td>\n",
       "      <td>...</td>\n",
       "      <td>...</td>\n",
       "      <td>...</td>\n",
       "      <td>...</td>\n",
       "      <td>...</td>\n",
       "      <td>...</td>\n",
       "      <td>...</td>\n",
       "    </tr>\n",
       "    <tr>\n",
       "      <th>f4d16ea4ac59af59d257631398af39f4</th>\n",
       "      <td>NaN</td>\n",
       "      <td>NaN</td>\n",
       "      <td>NaN</td>\n",
       "      <td>5.0</td>\n",
       "      <td>NaN</td>\n",
       "      <td>NaN</td>\n",
       "      <td>NaN</td>\n",
       "      <td>NaN</td>\n",
       "      <td>NaN</td>\n",
       "      <td>NaN</td>\n",
       "      <td>...</td>\n",
       "      <td>NaN</td>\n",
       "      <td>NaN</td>\n",
       "      <td>NaN</td>\n",
       "      <td>2.0</td>\n",
       "      <td>NaN</td>\n",
       "      <td>NaN</td>\n",
       "      <td>NaN</td>\n",
       "      <td>NaN</td>\n",
       "      <td>NaN</td>\n",
       "      <td>NaN</td>\n",
       "    </tr>\n",
       "    <tr>\n",
       "      <th>f88032f4ad97b46654fe59ce3387cf5d</th>\n",
       "      <td>NaN</td>\n",
       "      <td>NaN</td>\n",
       "      <td>NaN</td>\n",
       "      <td>NaN</td>\n",
       "      <td>NaN</td>\n",
       "      <td>NaN</td>\n",
       "      <td>NaN</td>\n",
       "      <td>NaN</td>\n",
       "      <td>NaN</td>\n",
       "      <td>NaN</td>\n",
       "      <td>...</td>\n",
       "      <td>NaN</td>\n",
       "      <td>NaN</td>\n",
       "      <td>NaN</td>\n",
       "      <td>NaN</td>\n",
       "      <td>NaN</td>\n",
       "      <td>NaN</td>\n",
       "      <td>NaN</td>\n",
       "      <td>NaN</td>\n",
       "      <td>NaN</td>\n",
       "      <td>NaN</td>\n",
       "    </tr>\n",
       "    <tr>\n",
       "      <th>f8a89075dc6de14857561522e729f82c</th>\n",
       "      <td>3.0</td>\n",
       "      <td>5.0</td>\n",
       "      <td>NaN</td>\n",
       "      <td>NaN</td>\n",
       "      <td>NaN</td>\n",
       "      <td>NaN</td>\n",
       "      <td>NaN</td>\n",
       "      <td>NaN</td>\n",
       "      <td>NaN</td>\n",
       "      <td>NaN</td>\n",
       "      <td>...</td>\n",
       "      <td>NaN</td>\n",
       "      <td>NaN</td>\n",
       "      <td>NaN</td>\n",
       "      <td>NaN</td>\n",
       "      <td>NaN</td>\n",
       "      <td>NaN</td>\n",
       "      <td>NaN</td>\n",
       "      <td>NaN</td>\n",
       "      <td>NaN</td>\n",
       "      <td>NaN</td>\n",
       "    </tr>\n",
       "    <tr>\n",
       "      <th>faa322d2624b0e7eb3064e39dac4af9c</th>\n",
       "      <td>NaN</td>\n",
       "      <td>NaN</td>\n",
       "      <td>NaN</td>\n",
       "      <td>NaN</td>\n",
       "      <td>NaN</td>\n",
       "      <td>NaN</td>\n",
       "      <td>NaN</td>\n",
       "      <td>NaN</td>\n",
       "      <td>NaN</td>\n",
       "      <td>NaN</td>\n",
       "      <td>...</td>\n",
       "      <td>NaN</td>\n",
       "      <td>NaN</td>\n",
       "      <td>NaN</td>\n",
       "      <td>NaN</td>\n",
       "      <td>NaN</td>\n",
       "      <td>NaN</td>\n",
       "      <td>NaN</td>\n",
       "      <td>NaN</td>\n",
       "      <td>NaN</td>\n",
       "      <td>NaN</td>\n",
       "    </tr>\n",
       "    <tr>\n",
       "      <th>fd379cf294fc1937e41f3f7df3c9eabe</th>\n",
       "      <td>NaN</td>\n",
       "      <td>NaN</td>\n",
       "      <td>NaN</td>\n",
       "      <td>NaN</td>\n",
       "      <td>NaN</td>\n",
       "      <td>NaN</td>\n",
       "      <td>NaN</td>\n",
       "      <td>NaN</td>\n",
       "      <td>NaN</td>\n",
       "      <td>NaN</td>\n",
       "      <td>...</td>\n",
       "      <td>NaN</td>\n",
       "      <td>NaN</td>\n",
       "      <td>NaN</td>\n",
       "      <td>NaN</td>\n",
       "      <td>NaN</td>\n",
       "      <td>NaN</td>\n",
       "      <td>NaN</td>\n",
       "      <td>NaN</td>\n",
       "      <td>NaN</td>\n",
       "      <td>NaN</td>\n",
       "    </tr>\n",
       "  </tbody>\n",
       "</table>\n",
       "<p>124 rows × 2102 columns</p>\n",
       "</div>"
      ],
      "text/plain": [
       "book_id                           10001793  10004138  10025007  10025305  \\\n",
       "user_id                                                                    \n",
       "012515e5802b2e0f42915118c90fa04b       NaN       NaN       NaN       NaN   \n",
       "012aa353140af13109d00ca36cdc0637       NaN       NaN       NaN       NaN   \n",
       "01d02898170634e6e7232650ebbf2e43       NaN       NaN       NaN       NaN   \n",
       "01ec1a320ffded6b2dd47833f2c8e4fb       NaN       NaN       NaN       NaN   \n",
       "040b31603912dc03f19e0b76d58c3660       NaN       NaN       NaN       NaN   \n",
       "...                                    ...       ...       ...       ...   \n",
       "f4d16ea4ac59af59d257631398af39f4       NaN       NaN       NaN       5.0   \n",
       "f88032f4ad97b46654fe59ce3387cf5d       NaN       NaN       NaN       NaN   \n",
       "f8a89075dc6de14857561522e729f82c       3.0       5.0       NaN       NaN   \n",
       "faa322d2624b0e7eb3064e39dac4af9c       NaN       NaN       NaN       NaN   \n",
       "fd379cf294fc1937e41f3f7df3c9eabe       NaN       NaN       NaN       NaN   \n",
       "\n",
       "book_id                           1003318  1008231  10118172  10151730  \\\n",
       "user_id                                                                  \n",
       "012515e5802b2e0f42915118c90fa04b      NaN      NaN       NaN       NaN   \n",
       "012aa353140af13109d00ca36cdc0637      NaN      NaN       NaN       NaN   \n",
       "01d02898170634e6e7232650ebbf2e43      NaN      NaN       NaN       NaN   \n",
       "01ec1a320ffded6b2dd47833f2c8e4fb      NaN      NaN       NaN       NaN   \n",
       "040b31603912dc03f19e0b76d58c3660      NaN      NaN       NaN       NaN   \n",
       "...                                   ...      ...       ...       ...   \n",
       "f4d16ea4ac59af59d257631398af39f4      NaN      NaN       NaN       NaN   \n",
       "f88032f4ad97b46654fe59ce3387cf5d      NaN      NaN       NaN       NaN   \n",
       "f8a89075dc6de14857561522e729f82c      NaN      NaN       NaN       NaN   \n",
       "faa322d2624b0e7eb3064e39dac4af9c      NaN      NaN       NaN       NaN   \n",
       "fd379cf294fc1937e41f3f7df3c9eabe      NaN      NaN       NaN       NaN   \n",
       "\n",
       "book_id                           10165727  10165761  ...  9917938  9917945  \\\n",
       "user_id                                               ...                     \n",
       "012515e5802b2e0f42915118c90fa04b       NaN       NaN  ...      NaN      NaN   \n",
       "012aa353140af13109d00ca36cdc0637       NaN       NaN  ...      NaN      NaN   \n",
       "01d02898170634e6e7232650ebbf2e43       NaN       NaN  ...      NaN      NaN   \n",
       "01ec1a320ffded6b2dd47833f2c8e4fb       NaN       NaN  ...      NaN      NaN   \n",
       "040b31603912dc03f19e0b76d58c3660       NaN       NaN  ...      NaN      NaN   \n",
       "...                                    ...       ...  ...      ...      ...   \n",
       "f4d16ea4ac59af59d257631398af39f4       NaN       NaN  ...      NaN      NaN   \n",
       "f88032f4ad97b46654fe59ce3387cf5d       NaN       NaN  ...      NaN      NaN   \n",
       "f8a89075dc6de14857561522e729f82c       NaN       NaN  ...      NaN      NaN   \n",
       "faa322d2624b0e7eb3064e39dac4af9c       NaN       NaN  ...      NaN      NaN   \n",
       "fd379cf294fc1937e41f3f7df3c9eabe       NaN       NaN  ...      NaN      NaN   \n",
       "\n",
       "book_id                           9918053  9918133  9939115  9947386  99561  \\\n",
       "user_id                                                                       \n",
       "012515e5802b2e0f42915118c90fa04b      NaN      NaN      NaN      NaN    3.0   \n",
       "012aa353140af13109d00ca36cdc0637      NaN      NaN      NaN      NaN    NaN   \n",
       "01d02898170634e6e7232650ebbf2e43      NaN      NaN      NaN      NaN    NaN   \n",
       "01ec1a320ffded6b2dd47833f2c8e4fb      NaN      NaN      NaN      NaN    NaN   \n",
       "040b31603912dc03f19e0b76d58c3660      NaN      NaN      NaN      NaN    NaN   \n",
       "...                                   ...      ...      ...      ...    ...   \n",
       "f4d16ea4ac59af59d257631398af39f4      NaN      2.0      NaN      NaN    NaN   \n",
       "f88032f4ad97b46654fe59ce3387cf5d      NaN      NaN      NaN      NaN    NaN   \n",
       "f8a89075dc6de14857561522e729f82c      NaN      NaN      NaN      NaN    NaN   \n",
       "faa322d2624b0e7eb3064e39dac4af9c      NaN      NaN      NaN      NaN    NaN   \n",
       "fd379cf294fc1937e41f3f7df3c9eabe      NaN      NaN      NaN      NaN    NaN   \n",
       "\n",
       "book_id                           9961796  9972882  9975679  \n",
       "user_id                                                      \n",
       "012515e5802b2e0f42915118c90fa04b      NaN      NaN      NaN  \n",
       "012aa353140af13109d00ca36cdc0637      NaN      NaN      NaN  \n",
       "01d02898170634e6e7232650ebbf2e43      NaN      NaN      NaN  \n",
       "01ec1a320ffded6b2dd47833f2c8e4fb      NaN      NaN      NaN  \n",
       "040b31603912dc03f19e0b76d58c3660      NaN      NaN      NaN  \n",
       "...                                   ...      ...      ...  \n",
       "f4d16ea4ac59af59d257631398af39f4      NaN      NaN      NaN  \n",
       "f88032f4ad97b46654fe59ce3387cf5d      NaN      NaN      NaN  \n",
       "f8a89075dc6de14857561522e729f82c      NaN      NaN      NaN  \n",
       "faa322d2624b0e7eb3064e39dac4af9c      NaN      NaN      NaN  \n",
       "fd379cf294fc1937e41f3f7df3c9eabe      NaN      NaN      NaN  \n",
       "\n",
       "[124 rows x 2102 columns]"
      ]
     },
     "execution_count": 12,
     "metadata": {},
     "output_type": "execute_result"
    }
   ],
   "source": [
    "mat"
   ]
  },
  {
   "cell_type": "code",
   "execution_count": 13,
   "id": "6f2c966c",
   "metadata": {},
   "outputs": [
    {
     "data": {
      "text/plain": [
       "((3247, 10), (361, 10))"
      ]
     },
     "execution_count": 13,
     "metadata": {},
     "output_type": "execute_result"
    }
   ],
   "source": [
    "# Train/test split\n",
    "train, test = sklearn.model_selection.train_test_split(is_read_df, test_size=0.1, random_state=1111)\n",
    "train.shape, test.shape"
   ]
  },
  {
   "cell_type": "code",
   "execution_count": 70,
   "id": "bd8fe6fc",
   "metadata": {},
   "outputs": [],
   "source": [
    "# Set all test values to nan\n",
    "zipped_test = np.c_[test['user_id'], test['book_id'], test['rating']]\n",
    "test_mask = np.full(mat.shape, False)\n",
    "for i in range(len(zipped_test)):\n",
    "    row_idx = mat.index.get_loc(zipped_test[i][0])\n",
    "    col_idx = mat.columns.get_loc(zipped_test[i][1])\n",
    "    test_mask[row_idx, col_idx] = True\n",
    "mat[test_mask] = np.nan"
   ]
  },
  {
   "cell_type": "code",
   "execution_count": 15,
   "id": "afe1f7a7",
   "metadata": {},
   "outputs": [
    {
     "data": {
      "text/plain": [
       "nan"
      ]
     },
     "execution_count": 15,
     "metadata": {},
     "output_type": "execute_result"
    }
   ],
   "source": [
    "mat.at[zipped_test[0][0], zipped_test[0][1]]"
   ]
  },
  {
   "cell_type": "code",
   "execution_count": 16,
   "id": "b7be0a1b",
   "metadata": {},
   "outputs": [
    {
     "data": {
      "text/plain": [
       "0.9875425861698536"
      ]
     },
     "execution_count": 16,
     "metadata": {},
     "output_type": "execute_result"
    }
   ],
   "source": [
    "# Calculate sparsity of data\n",
    "not_null = mat.count().sum()\n",
    "sparsity = 1 - not_null / (mat.shape[0] * mat.shape[1])\n",
    "sparsity"
   ]
  },
  {
   "cell_type": "code",
   "execution_count": 17,
   "id": "752bc837",
   "metadata": {},
   "outputs": [
    {
     "data": {
      "text/plain": [
       "book_id\n",
       "2767052     66\n",
       "7260188     47\n",
       "6148028     44\n",
       "41865       38\n",
       "11870085    35\n",
       "            ..\n",
       "353900       0\n",
       "354520       0\n",
       "35504431     0\n",
       "35712937     0\n",
       "15817997     0\n",
       "Length: 2102, dtype: int64"
      ]
     },
     "execution_count": 17,
     "metadata": {},
     "output_type": "execute_result"
    }
   ],
   "source": [
    "mat.count().sort_values(ascending=False)"
   ]
  },
  {
   "cell_type": "code",
   "execution_count": 18,
   "id": "34309974",
   "metadata": {},
   "outputs": [
    {
     "name": "stderr",
     "output_type": "stream",
     "text": [
      "<ipython-input-18-aea510fd0b53>:2: RuntimeWarning: Mean of empty slice\n",
      "  avg_book_rating = np.nanmean(mat, axis=0) # column avg r_j\n"
     ]
    }
   ],
   "source": [
    "# Calculate average rating for each book over users\n",
    "avg_book_rating = np.nanmean(mat, axis=0) # column avg r_j\n",
    "# For empty columns, fill with avg rating of 3 \n",
    "np.nan_to_num(avg_book_rating, copy=False, nan=3.0)\n",
    "\n",
    "# Fill missing value with the appropriate average for that book\n",
    "filled = np.where(np.isnan(mat), avg_book_rating, mat)"
   ]
  },
  {
   "cell_type": "code",
   "execution_count": 19,
   "id": "86df05d7",
   "metadata": {},
   "outputs": [],
   "source": [
    "# Remove from each user (row) the mean over all books\n",
    "avg_user_rating = np.average(filled, axis=1) # row avg r_i\n",
    "avg_user_rating_col_vec = avg_user_rating.reshape(len(avg_user_rating),1)\n",
    "normalized = filled - avg_user_rating_col_vec"
   ]
  },
  {
   "cell_type": "code",
   "execution_count": 20,
   "id": "67cc7a0d",
   "metadata": {},
   "outputs": [
    {
     "data": {
      "text/plain": [
       "array([[-0.77845839,  1.22154161,  0.22154161, ...,  0.22154161,\n",
       "        -0.77845839,  0.22154161],\n",
       "       [-0.77398938,  1.22601062,  0.22601062, ...,  0.22601062,\n",
       "        -0.77398938,  0.22601062],\n",
       "       [-0.77620505,  1.22379495,  0.22379495, ...,  0.22379495,\n",
       "        -0.77620505,  0.22379495],\n",
       "       ...,\n",
       "       [-0.77829132,  1.22170868,  0.22170868, ...,  0.22170868,\n",
       "        -0.77829132,  0.22170868],\n",
       "       [-0.77349298,  1.22650702,  0.22650702, ...,  0.22650702,\n",
       "        -0.77349298,  0.22650702],\n",
       "       [-0.77703074,  1.22296926,  0.22296926, ...,  0.22296926,\n",
       "        -0.77703074,  0.22296926]])"
      ]
     },
     "execution_count": 20,
     "metadata": {},
     "output_type": "execute_result"
    }
   ],
   "source": [
    "normalized"
   ]
  },
  {
   "cell_type": "code",
   "execution_count": 21,
   "id": "9ee9260e",
   "metadata": {},
   "outputs": [
    {
     "data": {
      "text/plain": [
       "(124, 2102)"
      ]
     },
     "execution_count": 21,
     "metadata": {},
     "output_type": "execute_result"
    }
   ],
   "source": [
    "normalized.shape"
   ]
  },
  {
   "cell_type": "code",
   "execution_count": 22,
   "id": "8b22a781",
   "metadata": {},
   "outputs": [],
   "source": [
    "# Perform SVD, decide on a rank k, and calculate a reduced rating matrix to remove noise\n",
    "# Can use sparse matrix algorithms because of special structure\n",
    "# How to choose k: if top few values are big and the rest are small, take the big values. So chose k=11\n",
    "U, S, VT = scipy.sparse.linalg.svds(normalized, k=6) # CHANGE BACK TO k=11"
   ]
  },
  {
   "cell_type": "code",
   "execution_count": 23,
   "id": "45ef5596",
   "metadata": {},
   "outputs": [],
   "source": [
    "#U, S, VT = np.linalg.svd(normalized) #k=10"
   ]
  },
  {
   "cell_type": "code",
   "execution_count": 24,
   "id": "aa27f51a",
   "metadata": {},
   "outputs": [],
   "source": [
    "# U = U[:, :9]\n",
    "# S = S[:9]\n",
    "# VT = VT[:9, :]"
   ]
  },
  {
   "cell_type": "code",
   "execution_count": 25,
   "id": "0b8bfa64",
   "metadata": {},
   "outputs": [
    {
     "data": {
      "text/plain": [
       "array([  8.15754905,   9.12891417,  10.07289629,  11.20894659,\n",
       "        12.35870379, 465.37869548])"
      ]
     },
     "execution_count": 25,
     "metadata": {},
     "output_type": "execute_result"
    }
   ],
   "source": [
    "S"
   ]
  },
  {
   "cell_type": "code",
   "execution_count": 26,
   "id": "abd30e6f",
   "metadata": {},
   "outputs": [
    {
     "data": {
      "text/plain": [
       "((124, 6), (6,), (6, 2102))"
      ]
     },
     "execution_count": 26,
     "metadata": {},
     "output_type": "execute_result"
    }
   ],
   "source": [
    "U.shape, S.shape, VT.shape"
   ]
  },
  {
   "cell_type": "code",
   "execution_count": 27,
   "id": "1ff324eb",
   "metadata": {},
   "outputs": [],
   "source": [
    "reduced_rating = U @ np.diag(S) @ VT"
   ]
  },
  {
   "cell_type": "code",
   "execution_count": 28,
   "id": "1f7b17b4",
   "metadata": {},
   "outputs": [
    {
     "data": {
      "text/plain": [
       "array([[-0.78097943,  1.21557161,  0.21729609, ...,  0.29100328,\n",
       "        -0.78097943,  0.21729609],\n",
       "       [-0.77545698,  1.22618193,  0.22536247, ...,  0.23957788,\n",
       "        -0.77545698,  0.22536247],\n",
       "       [-0.77599848,  1.22341376,  0.22370764, ...,  0.28675779,\n",
       "        -0.77599848,  0.22370764],\n",
       "       ...,\n",
       "       [-0.77808863,  1.22307744,  0.2224944 , ...,  0.23132573,\n",
       "        -0.77808863,  0.2224944 ],\n",
       "       [-0.77421055,  1.2250016 ,  0.22539553, ...,  0.22551034,\n",
       "        -0.77421055,  0.22539553],\n",
       "       [-0.77707112,  1.22373605,  0.22333247, ...,  0.22989943,\n",
       "        -0.77707112,  0.22333247]])"
      ]
     },
     "execution_count": 28,
     "metadata": {},
     "output_type": "execute_result"
    }
   ],
   "source": [
    "reduced_rating # SHOULD THIS BE >=1? Maybe not, because it's already been reduced"
   ]
  },
  {
   "cell_type": "code",
   "execution_count": 29,
   "id": "c463fc3c",
   "metadata": {},
   "outputs": [
    {
     "data": {
      "text/plain": [
       "(124, 2102)"
      ]
     },
     "execution_count": 29,
     "metadata": {},
     "output_type": "execute_result"
    }
   ],
   "source": [
    "reduced_rating.shape"
   ]
  },
  {
   "cell_type": "code",
   "execution_count": 30,
   "id": "67a4fd6b",
   "metadata": {},
   "outputs": [],
   "source": [
    "# Calculate matrix product for dimensionality-reduced rating matrix\n",
    "sqrtS = np.diag(np.sqrt(S))\n",
    "meta_on_users = U @ np.transpose(sqrtS)\n",
    "meta_on_items = sqrtS @ VT"
   ]
  },
  {
   "cell_type": "code",
   "execution_count": 31,
   "id": "2306e73c",
   "metadata": {},
   "outputs": [
    {
     "data": {
      "text/plain": [
       "array([[ 1.46689679e-03, -1.41129057e-03,  2.78031088e-05, ...,\n",
       "         7.41854287e-02,  1.46689679e-03,  2.78031088e-05],\n",
       "       [ 5.35151524e-03,  4.16348816e-03,  4.75750170e-03, ...,\n",
       "         2.98421476e-02,  5.35151524e-03,  4.75750170e-03],\n",
       "       [ 1.85245439e-03,  1.63359021e-03,  1.74302230e-03, ...,\n",
       "        -1.31967158e-01,  1.85245439e-03,  1.74302230e-03],\n",
       "       [-7.43680689e-03, -2.61581008e-03, -5.02630848e-03, ...,\n",
       "         6.17763648e-03, -7.43680689e-03, -5.02630848e-03],\n",
       "       [ 1.10500733e-02,  1.47305844e-02,  1.28903288e-02, ...,\n",
       "        -3.77956080e-02,  1.10500733e-02,  1.28903288e-02],\n",
       "       [-3.99789222e-01,  6.32584853e-01,  1.16397816e-01, ...,\n",
       "         1.16429489e-01, -3.99789222e-01,  1.16397816e-01]])"
      ]
     },
     "execution_count": 31,
     "metadata": {},
     "output_type": "execute_result"
    }
   ],
   "source": [
    "meta_on_items"
   ]
  },
  {
   "cell_type": "code",
   "execution_count": 32,
   "id": "4751c964",
   "metadata": {},
   "outputs": [],
   "source": [
    "# # Calculate similarity of 2 books j and f based on the reduced rating matrix\n",
    "# # Similarity is the correlation of 2 movies based on average over users\n",
    "# def similarity(j, f, matrix):\n",
    "#     j_col = matrix[:, j]\n",
    "#     f_col = matrix[:, f]\n",
    "#     numerator = np.sum(np.multiply(j_col, f_col))\n",
    "#     denominator = np.sqrt(np.multiply(np.sum(np.square(j_col)), np.sum(np.square(f_col))))\n",
    "#     return numerator / denominator"
   ]
  },
  {
   "cell_type": "code",
   "execution_count": 33,
   "id": "187fd785",
   "metadata": {},
   "outputs": [],
   "source": [
    "# num_books = reduced_rating.shape[1]\n",
    "# t1 = time()\n",
    "# similarities = np.zeros((num_books, num_books))\n",
    "# # TODO: is there a faster way to do this?\n",
    "# for i in range(num_books):\n",
    "#     for j in range(num_books):\n",
    "#         similarities[i, j] = similarity(i, j, meta_on_items)\n",
    "# t2 = time()"
   ]
  },
  {
   "cell_type": "code",
   "execution_count": 34,
   "id": "3ec459b7",
   "metadata": {},
   "outputs": [],
   "source": [
    "# t2-t1"
   ]
  },
  {
   "cell_type": "code",
   "execution_count": 35,
   "id": "4fdb9ea9",
   "metadata": {},
   "outputs": [],
   "source": [
    "# num_books = reduced_rating.shape[1]\n",
    "# t1 = time()\n",
    "# col_prods = meta_on_items.T.dot(meta_on_items)\n",
    "\n",
    "# similarities2 = np.zeros((num_books, num_books))\n",
    "# # TODO: is there a faster way to do this?\n",
    "# for i in range(num_books):\n",
    "#     for j in range(i, num_books):\n",
    "#         similarities2[i, j] = col_prods[i, j] / np.sqrt(col_prods[i, i] * col_prods[j, j])\n",
    "#         similarities2[j, i] = similarities2[i, j]\n",
    "# t2 = time()"
   ]
  },
  {
   "cell_type": "code",
   "execution_count": 36,
   "id": "e0a782b1",
   "metadata": {},
   "outputs": [],
   "source": [
    "# similarities.shape, t2-t1, np.allclose(similarities, similarities2)"
   ]
  },
  {
   "cell_type": "code",
   "execution_count": 37,
   "id": "e56771a1",
   "metadata": {},
   "outputs": [],
   "source": [
    "num_books = reduced_rating.shape[1]\n",
    "t1 = time()\n",
    "similarities = pw.cosine_similarity(meta_on_items.T, meta_on_items.T)\n",
    "t2 = time()"
   ]
  },
  {
   "cell_type": "code",
   "execution_count": 38,
   "id": "4624735f",
   "metadata": {},
   "outputs": [
    {
     "data": {
      "text/plain": [
       "((2102, 2102), 0.017405271530151367)"
      ]
     },
     "execution_count": 38,
     "metadata": {},
     "output_type": "execute_result"
    }
   ],
   "source": [
    "similarities.shape, t2-t1"
   ]
  },
  {
   "cell_type": "code",
   "execution_count": 39,
   "id": "45ecea6a",
   "metadata": {},
   "outputs": [],
   "source": [
    "# # Without reducing dimensionality\n",
    "# num_books = reduced_rating.shape[1]\n",
    "# t1 = time()\n",
    "# similarities = pw.cosine_similarity(reduced_rating.T, reduced_rating.T)\n",
    "# t2 = time()\n",
    "# similarities.shape, t2-t1"
   ]
  },
  {
   "cell_type": "code",
   "execution_count": 40,
   "id": "4503ef5e",
   "metadata": {},
   "outputs": [],
   "source": [
    "# TODO: try optimizing\n",
    "# Calculate prediction of rating by user i of book j, by avging over the ratings of all books by the same user, each weighted according to its similarity to book j\n",
    "num_users = reduced_rating.shape[0]\n",
    "predictions = np.zeros((num_users, num_books))\n",
    "\n",
    "# Isolate the set of items which appear to be the most similar to the active item. Vozalis suggests 10 items is best.\n",
    "most_similar_idx = np.argsort(similarities, axis=1)[:,-10:]\n",
    "for a in range(num_users):\n",
    "    for j in range(num_books):\n",
    "        numerator = 0\n",
    "        denominator = 0\n",
    "        # check that similarities are non-negative\n",
    "        for k in most_similar_idx[j,:]:\n",
    "            sim = similarities[j,k]\n",
    "            if sim < 0:\n",
    "                break\n",
    "            numerator += sim * (reduced_rating[a,k] + avg_user_rating[a])\n",
    "            denominator += sim\n",
    "        predictions[a,j] = numerator/denominator"
   ]
  },
  {
   "cell_type": "code",
   "execution_count": 41,
   "id": "c4928039",
   "metadata": {},
   "outputs": [
    {
     "name": "stdout",
     "output_type": "stream",
     "text": [
      "0.9879153962892226 5.036432347838605\n"
     ]
    },
    {
     "data": {
      "text/plain": [
       "array([[2.99747896, 4.99402999, 3.99575448, ..., 4.23895594, 2.99747896,\n",
       "        3.99575448],\n",
       "       [2.9985324 , 5.00017132, 3.99935186, ..., 4.1355657 , 2.9985324 ,\n",
       "        3.99935186],\n",
       "       [3.00020658, 4.99961881, 3.99991269, ..., 4.27345462, 3.00020658,\n",
       "        3.99991269],\n",
       "       ...,\n",
       "       [3.00020269, 5.00136876, 4.00078572, ..., 4.10097384, 3.00020269,\n",
       "        4.00078572],\n",
       "       [2.99928243, 4.99849458, 3.9988885 , ..., 4.09274205, 2.99928243,\n",
       "        3.9988885 ],\n",
       "       [2.99995962, 5.00076679, 4.0003632 , ..., 4.12769229, 2.99995962,\n",
       "        4.0003632 ]])"
      ]
     },
     "execution_count": 41,
     "metadata": {},
     "output_type": "execute_result"
    }
   ],
   "source": [
    "print(np.min(predictions), np.max(predictions))\n",
    "predictions"
   ]
  },
  {
   "cell_type": "code",
   "execution_count": 42,
   "id": "7690a4d4",
   "metadata": {},
   "outputs": [
    {
     "data": {
      "text/plain": [
       "(124, 2102)"
      ]
     },
     "execution_count": 42,
     "metadata": {},
     "output_type": "execute_result"
    }
   ],
   "source": [
    "np.shape(predictions)"
   ]
  },
  {
   "cell_type": "code",
   "execution_count": 59,
   "id": "c965e537",
   "metadata": {},
   "outputs": [],
   "source": [
    "# Define error function\n",
    "def rmse(predictions, actuals):\n",
    "    return np.sqrt(((predictions - actuals) ** 2).mean())"
   ]
  },
  {
   "cell_type": "code",
   "execution_count": 60,
   "id": "f5f0249f",
   "metadata": {},
   "outputs": [
    {
     "data": {
      "text/plain": [
       "0.5368157321911367"
      ]
     },
     "execution_count": 60,
     "metadata": {},
     "output_type": "execute_result"
    }
   ],
   "source": [
    "# Calculate training error\n",
    "training_mask = np.array(mat.notna())\n",
    "train_predictions = predictions[training_mask]\n",
    "train_actuals = np.array(mat)[training_mask]\n",
    "train_rmse = rmse(train_predictions, train_actuals)\n",
    "train_rmse"
   ]
  },
  {
   "cell_type": "code",
   "execution_count": 61,
   "id": "5201e6c2",
   "metadata": {},
   "outputs": [
    {
     "data": {
      "text/plain": [
       "(array([2.99747896, 3.99575448, 3.6512771 , ..., 2.71384157, 5.00076679,\n",
       "        4.06424344]),\n",
       " array([3., 4., 5., ..., 3., 5., 5.]))"
      ]
     },
     "execution_count": 61,
     "metadata": {},
     "output_type": "execute_result"
    }
   ],
   "source": [
    "train_predictions, train_actuals"
   ]
  },
  {
   "cell_type": "code",
   "execution_count": 71,
   "id": "6dba6635",
   "metadata": {},
   "outputs": [],
   "source": [
    "# Calculate test error\n",
    "#zipped_test = np.c_[test['user_id'], test['book_id'], test['rating']]\n",
    "test_predictions = predictions[test_mask]"
   ]
  },
  {
   "cell_type": "code",
   "execution_count": 72,
   "id": "05777f80",
   "metadata": {},
   "outputs": [
    {
     "data": {
      "text/plain": [
       "(361,)"
      ]
     },
     "execution_count": 72,
     "metadata": {},
     "output_type": "execute_result"
    }
   ],
   "source": [
    "test_predictions.shape"
   ]
  },
  {
   "cell_type": "markdown",
   "id": "2b485a45",
   "metadata": {},
   "source": [
    "# Debugging"
   ]
  },
  {
   "cell_type": "code",
   "execution_count": 68,
   "id": "72411437",
   "metadata": {},
   "outputs": [
    {
     "data": {
      "text/plain": [
       "array([[ 771, 1050, 1971, ..., 1999, 1818, 1971],\n",
       "       [1569,  246,   65, ..., 1943,  660,   65],\n",
       "       [1677, 1855, 1959, ...,  769, 1863, 1959],\n",
       "       ...,\n",
       "       [ 662, 1662, 1342, ...,  956,  192,  749],\n",
       "       [ 672,  403, 1319, ..., 1682, 1819, 1267],\n",
       "       [ 530, 1328, 2101, ...,  838, 1050,  555]], dtype=int64)"
      ]
     },
     "execution_count": 68,
     "metadata": {},
     "output_type": "execute_result"
    }
   ],
   "source": [
    "np.argsort(similarities, axis=0)"
   ]
  },
  {
   "cell_type": "code",
   "execution_count": 69,
   "id": "b3773305",
   "metadata": {},
   "outputs": [
    {
     "data": {
      "text/plain": [
       "array([[4, 2],\n",
       "       [3, 4]], dtype=int64)"
      ]
     },
     "execution_count": 69,
     "metadata": {},
     "output_type": "execute_result"
    }
   ],
   "source": [
    "testing = np.array([[1,5,8,3,7],[1,2,3,4,5]])\n",
    "sorted_testing = np.argsort(testing, axis=1)\n",
    "sorted_testing[:,-2:]"
   ]
  },
  {
   "cell_type": "code",
   "execution_count": 70,
   "id": "9f8d9149",
   "metadata": {},
   "outputs": [
    {
     "data": {
      "text/plain": [
       "(False, False)"
      ]
     },
     "execution_count": 70,
     "metadata": {},
     "output_type": "execute_result"
    }
   ],
   "source": [
    "np.all(predictions < 5), np.all(predictions > 1)"
   ]
  },
  {
   "cell_type": "code",
   "execution_count": 71,
   "id": "023e9db4",
   "metadata": {},
   "outputs": [
    {
     "data": {
      "text/plain": [
       "(True, False)"
      ]
     },
     "execution_count": 71,
     "metadata": {},
     "output_type": "execute_result"
    }
   ],
   "source": [
    "np.all(reduced_rating < 5), np.all(reduced_rating > 1)"
   ]
  },
  {
   "cell_type": "code",
   "execution_count": 72,
   "id": "53fc2cad",
   "metadata": {},
   "outputs": [
    {
     "data": {
      "text/plain": [
       "array([[-0.79095619,  1.21049331,  0.20976856, ...,  0.27381826,\n",
       "        -2.7924057 ,  0.20976856],\n",
       "       [-0.79390461,  1.20649989,  0.20629764, ...,  0.24127527,\n",
       "        -2.7943091 ,  0.20629764],\n",
       "       [-0.79534857,  1.20311795,  0.20388469, ...,  0.17779601,\n",
       "        -2.79381509,  0.20388469],\n",
       "       ...,\n",
       "       [-0.79395224,  1.20310346,  0.20457561, ...,  0.21655754,\n",
       "        -2.79100794,  0.20457561],\n",
       "       [-0.79684507,  1.20337675,  0.20326584, ...,  0.21446582,\n",
       "        -2.79706689,  0.20326584],\n",
       "       [-0.79508945,  1.20493898,  0.20492476, ...,  0.1678162 ,\n",
       "        -2.79511788,  0.20492476]])"
      ]
     },
     "execution_count": 72,
     "metadata": {},
     "output_type": "execute_result"
    }
   ],
   "source": [
    "reduced_rating"
   ]
  },
  {
   "cell_type": "code",
   "execution_count": 73,
   "id": "1b0c55b6",
   "metadata": {},
   "outputs": [
    {
     "data": {
      "text/plain": [
       "array([3.79291392, 3.79634311, 3.79667185, 3.79423653, 3.82073502,\n",
       "       3.80307328, 3.80522777, 3.78977195, 3.79678001, 3.80490058,\n",
       "       3.79654926, 3.79643033, 3.78226176, 3.79556661, 3.79673956,\n",
       "       3.79552167, 3.797025  , 3.79397581, 3.7940936 , 3.79589396,\n",
       "       3.79709636, 3.80385936, 3.77688461, 3.80664769, 3.79654121,\n",
       "       3.79709609, 3.80236371, 3.79563743, 3.80403545, 3.79764826,\n",
       "       3.79629806, 3.79637901, 3.78530414, 3.79519341, 3.79754804,\n",
       "       3.79309643, 3.79790997, 3.79535992, 3.7974874 , 3.80162379,\n",
       "       3.79676614, 3.79765419, 3.79619246, 3.79614461, 3.79812172,\n",
       "       3.79654926, 3.79077052, 3.79762333, 3.7998803 , 3.79110997,\n",
       "       3.79663648, 3.79647483, 3.80145392, 3.7932477 , 3.79439511,\n",
       "       3.79698535, 3.79627175, 3.79746109, 3.79625174, 3.79643033,\n",
       "       3.79643033, 3.79643033, 3.79515466, 3.79688876, 3.79754998,\n",
       "       3.79486843, 3.79547885, 3.79717565, 3.7966682 , 3.79745788,\n",
       "       3.80610679, 3.79229618, 3.79733423, 3.79721809, 3.79787424,\n",
       "       3.797025  , 3.79643033, 3.79617348, 3.79858393, 3.79733843,\n",
       "       3.79643033, 3.79660756, 3.79824564, 3.79280721, 3.79629806,\n",
       "       3.80027721, 3.76900798, 3.79552732, 3.79624489, 3.79656625,\n",
       "       3.79519515, 3.7958088 , 3.79873891, 3.79611317, 3.79776059,\n",
       "       3.79656625, 3.80355154, 3.7967738 , 3.79306843, 3.79643033,\n",
       "       3.79459999, 3.79396415, 3.7974874 , 3.79207177, 3.79647396,\n",
       "       3.79619246, 3.79730397, 3.79387573, 3.79713961, 3.79616853,\n",
       "       3.79484286])"
      ]
     },
     "execution_count": 73,
     "metadata": {},
     "output_type": "execute_result"
    }
   ],
   "source": [
    "avg_user_rating"
   ]
  },
  {
   "cell_type": "code",
   "execution_count": 48,
   "id": "9e65a7d6",
   "metadata": {},
   "outputs": [],
   "source": [
    "# TODO: "
   ]
  }
 ],
 "metadata": {
  "kernelspec": {
   "display_name": "Python 3",
   "language": "python",
   "name": "python3"
  },
  "language_info": {
   "codemirror_mode": {
    "name": "ipython",
    "version": 3
   },
   "file_extension": ".py",
   "mimetype": "text/x-python",
   "name": "python",
   "nbconvert_exporter": "python",
   "pygments_lexer": "ipython3",
   "version": "3.8.8"
  }
 },
 "nbformat": 4,
 "nbformat_minor": 5
}
