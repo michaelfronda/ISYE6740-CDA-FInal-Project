{
 "cells": [
  {
   "cell_type": "code",
   "execution_count": 1,
   "id": "397c4628",
   "metadata": {},
   "outputs": [],
   "source": [
    "import gzip\n",
    "import json\n",
    "import re\n",
    "import os\n",
    "import sys\n",
    "import numpy as np\n",
    "import pandas as pd\n",
    "import sklearn.model_selection\n",
    "import scipy\n",
    "import sklearn.metrics.pairwise as pw\n",
    "from time import time\n",
    "import matplotlib.pyplot as plt"
   ]
  },
  {
   "cell_type": "code",
   "execution_count": 2,
   "id": "fedea9cc",
   "metadata": {},
   "outputs": [],
   "source": [
    "# Specify your directory\n",
    "DIR = r'C:\\Users\\Jackie\\OneDrive - Georgia Institute of Technology\\ISYE6740 Computational Data Analytics\\Project\\Data\\Genres\\YoungAdult'"
   ]
  },
  {
   "cell_type": "code",
   "execution_count": 3,
   "id": "a7e290f8",
   "metadata": {},
   "outputs": [],
   "source": [
    "def load_data(file_name):\n",
    "    count = 0\n",
    "    data = []\n",
    "    with gzip.open(file_name) as fin:\n",
    "        for l in fin:\n",
    "            d = json.loads(l)\n",
    "            count += 1\n",
    "            data.append(d)\n",
    "    return data"
   ]
  },
  {
   "cell_type": "code",
   "execution_count": 4,
   "id": "485b2c98",
   "metadata": {},
   "outputs": [],
   "source": [
    "# The Young Adult genre has the highest interaction / book ratio: 34,919,254 interactions and 93,398 books\n",
    "#interactions = load_data(os.path.join(DIR, 'goodreads_interactions_young_adult.json.gz'))"
   ]
  },
  {
   "cell_type": "code",
   "execution_count": 5,
   "id": "bc57ee77",
   "metadata": {},
   "outputs": [],
   "source": [
    "def load_data(file_name, head = 10000): # should be 1000000\n",
    "    count = 0\n",
    "    data = []\n",
    "    with gzip.open(file_name) as fin:\n",
    "        for l in fin:\n",
    "            d = json.loads(l)\n",
    "            count += 1\n",
    "            data.append(d)\n",
    "            \n",
    "            # break if reaches the \"head\"th line\n",
    "            if (head is not None) and (count > head):\n",
    "                break\n",
    "    return data"
   ]
  },
  {
   "cell_type": "code",
   "execution_count": 6,
   "id": "83e80cfd",
   "metadata": {},
   "outputs": [],
   "source": [
    "interactions_sample = load_data(os.path.join(DIR, 'goodreads_interactions_young_adult.json.gz'))"
   ]
  },
  {
   "cell_type": "code",
   "execution_count": 7,
   "id": "9ae76aff",
   "metadata": {},
   "outputs": [
    {
     "name": "stdout",
     "output_type": "stream",
     "text": [
      " == sample record (interaction) ==\n"
     ]
    },
    {
     "data": {
      "text/plain": [
       "{'user_id': '197ee8c6624f698557603a05ad670d45',\n",
       " 'book_id': '18108617',\n",
       " 'review_id': '5e8bbdb90cc15a92d3b8ed111f2b5d52',\n",
       " 'is_read': False,\n",
       " 'rating': 0,\n",
       " 'review_text_incomplete': '',\n",
       " 'date_added': 'Sun Aug 17 16:06:44 -0700 2014',\n",
       " 'date_updated': 'Sun Aug 17 16:06:44 -0700 2014',\n",
       " 'read_at': '',\n",
       " 'started_at': ''}"
      ]
     },
     "metadata": {},
     "output_type": "display_data"
    }
   ],
   "source": [
    "print(' == sample record (interaction) ==')\n",
    "display(np.random.choice(interactions_sample))"
   ]
  },
  {
   "cell_type": "code",
   "execution_count": 8,
   "id": "c0cc5678",
   "metadata": {},
   "outputs": [],
   "source": [
    "df = pd.json_normalize(interactions_sample)"
   ]
  },
  {
   "cell_type": "code",
   "execution_count": 9,
   "id": "9d21e60f",
   "metadata": {},
   "outputs": [],
   "source": [
    "# Filter to books that the user has read\n",
    "is_read = np.logical_and(df['is_read'] == True, df['rating'] != 0) # a book can be read but still have a rating of 0\n",
    "is_read_df = df[is_read]"
   ]
  },
  {
   "cell_type": "code",
   "execution_count": 10,
   "id": "5f19e9ee",
   "metadata": {},
   "outputs": [
    {
     "data": {
      "text/html": [
       "<div>\n",
       "<style scoped>\n",
       "    .dataframe tbody tr th:only-of-type {\n",
       "        vertical-align: middle;\n",
       "    }\n",
       "\n",
       "    .dataframe tbody tr th {\n",
       "        vertical-align: top;\n",
       "    }\n",
       "\n",
       "    .dataframe thead th {\n",
       "        text-align: right;\n",
       "    }\n",
       "</style>\n",
       "<table border=\"1\" class=\"dataframe\">\n",
       "  <thead>\n",
       "    <tr style=\"text-align: right;\">\n",
       "      <th></th>\n",
       "      <th>user_id</th>\n",
       "      <th>book_id</th>\n",
       "      <th>review_id</th>\n",
       "      <th>is_read</th>\n",
       "      <th>rating</th>\n",
       "      <th>review_text_incomplete</th>\n",
       "      <th>date_added</th>\n",
       "      <th>date_updated</th>\n",
       "      <th>read_at</th>\n",
       "      <th>started_at</th>\n",
       "    </tr>\n",
       "  </thead>\n",
       "  <tbody>\n",
       "    <tr>\n",
       "      <th>3</th>\n",
       "      <td>8842281e1d1347389f2ab93d60773d4d</td>\n",
       "      <td>8684868</td>\n",
       "      <td>d29b8238762d70b7c2b67941bc81fbe0</td>\n",
       "      <td>True</td>\n",
       "      <td>3</td>\n",
       "      <td></td>\n",
       "      <td>Tue Dec 17 13:42:25 -0800 2013</td>\n",
       "      <td>Tue Dec 17 13:47:26 -0800 2013</td>\n",
       "      <td>Sun Dec 15 00:00:00 -0800 2013</td>\n",
       "      <td>Sat Dec 14 00:00:00 -0800 2013</td>\n",
       "    </tr>\n",
       "    <tr>\n",
       "      <th>4</th>\n",
       "      <td>8842281e1d1347389f2ab93d60773d4d</td>\n",
       "      <td>8423493</td>\n",
       "      <td>357c8c178fd0e06cff5c025649231672</td>\n",
       "      <td>True</td>\n",
       "      <td>2</td>\n",
       "      <td></td>\n",
       "      <td>Sun Dec 08 01:26:12 -0800 2013</td>\n",
       "      <td>Tue Dec 27 05:37:48 -0800 2016</td>\n",
       "      <td>Tue Dec 10 00:00:00 -0800 2013</td>\n",
       "      <td></td>\n",
       "    </tr>\n",
       "    <tr>\n",
       "      <th>5</th>\n",
       "      <td>8842281e1d1347389f2ab93d60773d4d</td>\n",
       "      <td>87976</td>\n",
       "      <td>e6306259819c47f278e78d32a1b73ddf</td>\n",
       "      <td>True</td>\n",
       "      <td>5</td>\n",
       "      <td></td>\n",
       "      <td>Wed Oct 17 17:49:11 -0700 2012</td>\n",
       "      <td>Wed Oct 17 17:49:11 -0700 2012</td>\n",
       "      <td></td>\n",
       "      <td></td>\n",
       "    </tr>\n",
       "    <tr>\n",
       "      <th>6</th>\n",
       "      <td>8842281e1d1347389f2ab93d60773d4d</td>\n",
       "      <td>18116</td>\n",
       "      <td>8aa100c7b681e9fedbe2c6bd2c25696a</td>\n",
       "      <td>True</td>\n",
       "      <td>5</td>\n",
       "      <td></td>\n",
       "      <td>Fri Apr 29 13:14:05 -0700 2011</td>\n",
       "      <td>Fri Apr 29 13:14:05 -0700 2011</td>\n",
       "      <td></td>\n",
       "      <td></td>\n",
       "    </tr>\n",
       "    <tr>\n",
       "      <th>7</th>\n",
       "      <td>8842281e1d1347389f2ab93d60773d4d</td>\n",
       "      <td>2767052</td>\n",
       "      <td>248c011811e945eca861b5c31a549291</td>\n",
       "      <td>True</td>\n",
       "      <td>5</td>\n",
       "      <td>I cracked and finally picked this up. Very enj...</td>\n",
       "      <td>Wed Jan 13 13:38:25 -0800 2010</td>\n",
       "      <td>Wed Mar 22 11:46:36 -0700 2017</td>\n",
       "      <td>Sun Mar 25 00:00:00 -0700 2012</td>\n",
       "      <td>Fri Mar 23 00:00:00 -0700 2012</td>\n",
       "    </tr>\n",
       "    <tr>\n",
       "      <th>...</th>\n",
       "      <td>...</td>\n",
       "      <td>...</td>\n",
       "      <td>...</td>\n",
       "      <td>...</td>\n",
       "      <td>...</td>\n",
       "      <td>...</td>\n",
       "      <td>...</td>\n",
       "      <td>...</td>\n",
       "      <td>...</td>\n",
       "      <td>...</td>\n",
       "    </tr>\n",
       "    <tr>\n",
       "      <th>9996</th>\n",
       "      <td>4a44f603cc3df339acc48590044a2db0</td>\n",
       "      <td>17261628</td>\n",
       "      <td>2310bbf77a0d72234e4739a3adf7194d</td>\n",
       "      <td>True</td>\n",
       "      <td>3</td>\n",
       "      <td></td>\n",
       "      <td>Sat Jan 24 21:56:03 -0800 2015</td>\n",
       "      <td>Sat Dec 19 17:16:14 -0800 2015</td>\n",
       "      <td>Sun Jan 25 17:01:54 -0800 2015</td>\n",
       "      <td>Sat Jan 24 21:56:03 -0800 2015</td>\n",
       "    </tr>\n",
       "    <tr>\n",
       "      <th>9997</th>\n",
       "      <td>4a44f603cc3df339acc48590044a2db0</td>\n",
       "      <td>18190208</td>\n",
       "      <td>c1c267254139f66d2b7d26d27a423c1d</td>\n",
       "      <td>True</td>\n",
       "      <td>4</td>\n",
       "      <td>See full review for The Witch Hunter at: &lt;a ta...</td>\n",
       "      <td>Thu Jan 15 09:52:14 -0800 2015</td>\n",
       "      <td>Sat Jul 18 09:16:21 -0700 2015</td>\n",
       "      <td>Fri Jul 10 00:00:00 -0700 2015</td>\n",
       "      <td>Fri Jul 10 00:00:00 -0700 2015</td>\n",
       "    </tr>\n",
       "    <tr>\n",
       "      <th>9998</th>\n",
       "      <td>4a44f603cc3df339acc48590044a2db0</td>\n",
       "      <td>22308716</td>\n",
       "      <td>0c71f23060e6513f28cad1496b6a7e61</td>\n",
       "      <td>True</td>\n",
       "      <td>5</td>\n",
       "      <td>See full review for Red Queen at: &lt;a target=\"_...</td>\n",
       "      <td>Thu Jan 15 09:51:38 -0800 2015</td>\n",
       "      <td>Sat Dec 19 17:20:26 -0800 2015</td>\n",
       "      <td>Tue Mar 03 00:00:00 -0800 2015</td>\n",
       "      <td>Thu Feb 26 00:00:00 -0800 2015</td>\n",
       "    </tr>\n",
       "    <tr>\n",
       "      <th>9999</th>\n",
       "      <td>4a44f603cc3df339acc48590044a2db0</td>\n",
       "      <td>18967205</td>\n",
       "      <td>911a06b2f968713818e78544434a330e</td>\n",
       "      <td>True</td>\n",
       "      <td>4</td>\n",
       "      <td>See full review for Hellhole at: &lt;a target=\"_b...</td>\n",
       "      <td>Thu Jan 15 09:50:59 -0800 2015</td>\n",
       "      <td>Sat Feb 28 15:58:19 -0800 2015</td>\n",
       "      <td>Fri Feb 27 00:00:00 -0800 2015</td>\n",
       "      <td>Fri Feb 27 00:00:00 -0800 2015</td>\n",
       "    </tr>\n",
       "    <tr>\n",
       "      <th>10000</th>\n",
       "      <td>4a44f603cc3df339acc48590044a2db0</td>\n",
       "      <td>20958632</td>\n",
       "      <td>f33ea3632b8777470d307e61871ab483</td>\n",
       "      <td>True</td>\n",
       "      <td>5</td>\n",
       "      <td>See full review for The Darkest Part of the Fo...</td>\n",
       "      <td>Thu Jan 15 09:50:19 -0800 2015</td>\n",
       "      <td>Thu Feb 19 10:40:23 -0800 2015</td>\n",
       "      <td>Fri Feb 13 00:00:00 -0800 2015</td>\n",
       "      <td>Fri Feb 13 00:00:00 -0800 2015</td>\n",
       "    </tr>\n",
       "  </tbody>\n",
       "</table>\n",
       "<p>3608 rows × 10 columns</p>\n",
       "</div>"
      ],
      "text/plain": [
       "                                user_id   book_id  \\\n",
       "3      8842281e1d1347389f2ab93d60773d4d   8684868   \n",
       "4      8842281e1d1347389f2ab93d60773d4d   8423493   \n",
       "5      8842281e1d1347389f2ab93d60773d4d     87976   \n",
       "6      8842281e1d1347389f2ab93d60773d4d     18116   \n",
       "7      8842281e1d1347389f2ab93d60773d4d   2767052   \n",
       "...                                 ...       ...   \n",
       "9996   4a44f603cc3df339acc48590044a2db0  17261628   \n",
       "9997   4a44f603cc3df339acc48590044a2db0  18190208   \n",
       "9998   4a44f603cc3df339acc48590044a2db0  22308716   \n",
       "9999   4a44f603cc3df339acc48590044a2db0  18967205   \n",
       "10000  4a44f603cc3df339acc48590044a2db0  20958632   \n",
       "\n",
       "                              review_id  is_read  rating  \\\n",
       "3      d29b8238762d70b7c2b67941bc81fbe0     True       3   \n",
       "4      357c8c178fd0e06cff5c025649231672     True       2   \n",
       "5      e6306259819c47f278e78d32a1b73ddf     True       5   \n",
       "6      8aa100c7b681e9fedbe2c6bd2c25696a     True       5   \n",
       "7      248c011811e945eca861b5c31a549291     True       5   \n",
       "...                                 ...      ...     ...   \n",
       "9996   2310bbf77a0d72234e4739a3adf7194d     True       3   \n",
       "9997   c1c267254139f66d2b7d26d27a423c1d     True       4   \n",
       "9998   0c71f23060e6513f28cad1496b6a7e61     True       5   \n",
       "9999   911a06b2f968713818e78544434a330e     True       4   \n",
       "10000  f33ea3632b8777470d307e61871ab483     True       5   \n",
       "\n",
       "                                  review_text_incomplete  \\\n",
       "3                                                          \n",
       "4                                                          \n",
       "5                                                          \n",
       "6                                                          \n",
       "7      I cracked and finally picked this up. Very enj...   \n",
       "...                                                  ...   \n",
       "9996                                                       \n",
       "9997   See full review for The Witch Hunter at: <a ta...   \n",
       "9998   See full review for Red Queen at: <a target=\"_...   \n",
       "9999   See full review for Hellhole at: <a target=\"_b...   \n",
       "10000  See full review for The Darkest Part of the Fo...   \n",
       "\n",
       "                           date_added                    date_updated  \\\n",
       "3      Tue Dec 17 13:42:25 -0800 2013  Tue Dec 17 13:47:26 -0800 2013   \n",
       "4      Sun Dec 08 01:26:12 -0800 2013  Tue Dec 27 05:37:48 -0800 2016   \n",
       "5      Wed Oct 17 17:49:11 -0700 2012  Wed Oct 17 17:49:11 -0700 2012   \n",
       "6      Fri Apr 29 13:14:05 -0700 2011  Fri Apr 29 13:14:05 -0700 2011   \n",
       "7      Wed Jan 13 13:38:25 -0800 2010  Wed Mar 22 11:46:36 -0700 2017   \n",
       "...                               ...                             ...   \n",
       "9996   Sat Jan 24 21:56:03 -0800 2015  Sat Dec 19 17:16:14 -0800 2015   \n",
       "9997   Thu Jan 15 09:52:14 -0800 2015  Sat Jul 18 09:16:21 -0700 2015   \n",
       "9998   Thu Jan 15 09:51:38 -0800 2015  Sat Dec 19 17:20:26 -0800 2015   \n",
       "9999   Thu Jan 15 09:50:59 -0800 2015  Sat Feb 28 15:58:19 -0800 2015   \n",
       "10000  Thu Jan 15 09:50:19 -0800 2015  Thu Feb 19 10:40:23 -0800 2015   \n",
       "\n",
       "                              read_at                      started_at  \n",
       "3      Sun Dec 15 00:00:00 -0800 2013  Sat Dec 14 00:00:00 -0800 2013  \n",
       "4      Tue Dec 10 00:00:00 -0800 2013                                  \n",
       "5                                                                      \n",
       "6                                                                      \n",
       "7      Sun Mar 25 00:00:00 -0700 2012  Fri Mar 23 00:00:00 -0700 2012  \n",
       "...                               ...                             ...  \n",
       "9996   Sun Jan 25 17:01:54 -0800 2015  Sat Jan 24 21:56:03 -0800 2015  \n",
       "9997   Fri Jul 10 00:00:00 -0700 2015  Fri Jul 10 00:00:00 -0700 2015  \n",
       "9998   Tue Mar 03 00:00:00 -0800 2015  Thu Feb 26 00:00:00 -0800 2015  \n",
       "9999   Fri Feb 27 00:00:00 -0800 2015  Fri Feb 27 00:00:00 -0800 2015  \n",
       "10000  Fri Feb 13 00:00:00 -0800 2015  Fri Feb 13 00:00:00 -0800 2015  \n",
       "\n",
       "[3608 rows x 10 columns]"
      ]
     },
     "execution_count": 10,
     "metadata": {},
     "output_type": "execute_result"
    }
   ],
   "source": [
    "is_read_df"
   ]
  },
  {
   "cell_type": "code",
   "execution_count": 11,
   "id": "832acc9f",
   "metadata": {},
   "outputs": [
    {
     "data": {
      "image/png": "[encoded data removed]",
      "text/plain": [
       "<Figure size 432x288 with 1 Axes>"
      ]
     },
     "metadata": {
      "needs_background": "light"
     },
     "output_type": "display_data"
    }
   ],
   "source": [
    "plt.hist(is_read_df['rating'], bins=[1,2,3,4,5])\n",
    "plt.show()"
   ]
  },
  {
   "cell_type": "code",
   "execution_count": 12,
   "id": "1819d711",
   "metadata": {},
   "outputs": [
    {
     "data": {
      "text/plain": [
       "3.8719512195121952"
      ]
     },
     "execution_count": 12,
     "metadata": {},
     "output_type": "execute_result"
    }
   ],
   "source": [
    "# Calculate average rating\n",
    "avg_rating = np.mean(is_read_df['rating'])\n",
    "avg_rating"
   ]
  },
  {
   "cell_type": "code",
   "execution_count": 13,
   "id": "c2856f3d",
   "metadata": {},
   "outputs": [],
   "source": [
    "# Define user-book rating matrix\n",
    "mat = pd.pivot(is_read_df, index='user_id', columns='book_id', values='rating')\n",
    "mat.replace(0, np.nan, inplace=True)"
   ]
  },
  {
   "cell_type": "code",
   "execution_count": 14,
   "id": "c9e34fac",
   "metadata": {},
   "outputs": [
    {
     "data": {
      "text/html": [
       "<div>\n",
       "<style scoped>\n",
       "    .dataframe tbody tr th:only-of-type {\n",
       "        vertical-align: middle;\n",
       "    }\n",
       "\n",
       "    .dataframe tbody tr th {\n",
       "        vertical-align: top;\n",
       "    }\n",
       "\n",
       "    .dataframe thead th {\n",
       "        text-align: right;\n",
       "    }\n",
       "</style>\n",
       "<table border=\"1\" class=\"dataframe\">\n",
       "  <thead>\n",
       "    <tr style=\"text-align: right;\">\n",
       "      <th>book_id</th>\n",
       "      <th>10001793</th>\n",
       "      <th>10004138</th>\n",
       "      <th>10025007</th>\n",
       "      <th>10025305</th>\n",
       "      <th>1003318</th>\n",
       "      <th>1008231</th>\n",
       "      <th>10118172</th>\n",
       "      <th>10151730</th>\n",
       "      <th>10165727</th>\n",
       "      <th>10165761</th>\n",
       "      <th>...</th>\n",
       "      <th>9917938</th>\n",
       "      <th>9917945</th>\n",
       "      <th>9918053</th>\n",
       "      <th>9918133</th>\n",
       "      <th>9939115</th>\n",
       "      <th>9947386</th>\n",
       "      <th>99561</th>\n",
       "      <th>9961796</th>\n",
       "      <th>9972882</th>\n",
       "      <th>9975679</th>\n",
       "    </tr>\n",
       "    <tr>\n",
       "      <th>user_id</th>\n",
       "      <th></th>\n",
       "      <th></th>\n",
       "      <th></th>\n",
       "      <th></th>\n",
       "      <th></th>\n",
       "      <th></th>\n",
       "      <th></th>\n",
       "      <th></th>\n",
       "      <th></th>\n",
       "      <th></th>\n",
       "      <th></th>\n",
       "      <th></th>\n",
       "      <th></th>\n",
       "      <th></th>\n",
       "      <th></th>\n",
       "      <th></th>\n",
       "      <th></th>\n",
       "      <th></th>\n",
       "      <th></th>\n",
       "      <th></th>\n",
       "      <th></th>\n",
       "    </tr>\n",
       "  </thead>\n",
       "  <tbody>\n",
       "    <tr>\n",
       "      <th>012515e5802b2e0f42915118c90fa04b</th>\n",
       "      <td>NaN</td>\n",
       "      <td>NaN</td>\n",
       "      <td>NaN</td>\n",
       "      <td>NaN</td>\n",
       "      <td>NaN</td>\n",
       "      <td>NaN</td>\n",
       "      <td>NaN</td>\n",
       "      <td>NaN</td>\n",
       "      <td>NaN</td>\n",
       "      <td>NaN</td>\n",
       "      <td>...</td>\n",
       "      <td>NaN</td>\n",
       "      <td>NaN</td>\n",
       "      <td>NaN</td>\n",
       "      <td>NaN</td>\n",
       "      <td>NaN</td>\n",
       "      <td>NaN</td>\n",
       "      <td>3.0</td>\n",
       "      <td>NaN</td>\n",
       "      <td>NaN</td>\n",
       "      <td>NaN</td>\n",
       "    </tr>\n",
       "    <tr>\n",
       "      <th>012aa353140af13109d00ca36cdc0637</th>\n",
       "      <td>NaN</td>\n",
       "      <td>NaN</td>\n",
       "      <td>NaN</td>\n",
       "      <td>NaN</td>\n",
       "      <td>NaN</td>\n",
       "      <td>NaN</td>\n",
       "      <td>NaN</td>\n",
       "      <td>NaN</td>\n",
       "      <td>NaN</td>\n",
       "      <td>NaN</td>\n",
       "      <td>...</td>\n",
       "      <td>NaN</td>\n",
       "      <td>NaN</td>\n",
       "      <td>NaN</td>\n",
       "      <td>NaN</td>\n",
       "      <td>NaN</td>\n",
       "      <td>NaN</td>\n",
       "      <td>NaN</td>\n",
       "      <td>NaN</td>\n",
       "      <td>NaN</td>\n",
       "      <td>NaN</td>\n",
       "    </tr>\n",
       "    <tr>\n",
       "      <th>01d02898170634e6e7232650ebbf2e43</th>\n",
       "      <td>NaN</td>\n",
       "      <td>NaN</td>\n",
       "      <td>NaN</td>\n",
       "      <td>NaN</td>\n",
       "      <td>NaN</td>\n",
       "      <td>NaN</td>\n",
       "      <td>NaN</td>\n",
       "      <td>NaN</td>\n",
       "      <td>NaN</td>\n",
       "      <td>NaN</td>\n",
       "      <td>...</td>\n",
       "      <td>NaN</td>\n",
       "      <td>NaN</td>\n",
       "      <td>NaN</td>\n",
       "      <td>NaN</td>\n",
       "      <td>NaN</td>\n",
       "      <td>NaN</td>\n",
       "      <td>NaN</td>\n",
       "      <td>NaN</td>\n",
       "      <td>NaN</td>\n",
       "      <td>NaN</td>\n",
       "    </tr>\n",
       "    <tr>\n",
       "      <th>01ec1a320ffded6b2dd47833f2c8e4fb</th>\n",
       "      <td>NaN</td>\n",
       "      <td>NaN</td>\n",
       "      <td>NaN</td>\n",
       "      <td>NaN</td>\n",
       "      <td>NaN</td>\n",
       "      <td>NaN</td>\n",
       "      <td>NaN</td>\n",
       "      <td>NaN</td>\n",
       "      <td>NaN</td>\n",
       "      <td>NaN</td>\n",
       "      <td>...</td>\n",
       "      <td>NaN</td>\n",
       "      <td>NaN</td>\n",
       "      <td>NaN</td>\n",
       "      <td>NaN</td>\n",
       "      <td>NaN</td>\n",
       "      <td>NaN</td>\n",
       "      <td>NaN</td>\n",
       "      <td>NaN</td>\n",
       "      <td>NaN</td>\n",
       "      <td>NaN</td>\n",
       "    </tr>\n",
       "    <tr>\n",
       "      <th>040b31603912dc03f19e0b76d58c3660</th>\n",
       "      <td>NaN</td>\n",
       "      <td>NaN</td>\n",
       "      <td>NaN</td>\n",
       "      <td>NaN</td>\n",
       "      <td>NaN</td>\n",
       "      <td>NaN</td>\n",
       "      <td>NaN</td>\n",
       "      <td>NaN</td>\n",
       "      <td>NaN</td>\n",
       "      <td>NaN</td>\n",
       "      <td>...</td>\n",
       "      <td>NaN</td>\n",
       "      <td>NaN</td>\n",
       "      <td>NaN</td>\n",
       "      <td>NaN</td>\n",
       "      <td>NaN</td>\n",
       "      <td>NaN</td>\n",
       "      <td>NaN</td>\n",
       "      <td>NaN</td>\n",
       "      <td>NaN</td>\n",
       "      <td>NaN</td>\n",
       "    </tr>\n",
       "    <tr>\n",
       "      <th>...</th>\n",
       "      <td>...</td>\n",
       "      <td>...</td>\n",
       "      <td>...</td>\n",
       "      <td>...</td>\n",
       "      <td>...</td>\n",
       "      <td>...</td>\n",
       "      <td>...</td>\n",
       "      <td>...</td>\n",
       "      <td>...</td>\n",
       "      <td>...</td>\n",
       "      <td>...</td>\n",
       "      <td>...</td>\n",
       "      <td>...</td>\n",
       "      <td>...</td>\n",
       "      <td>...</td>\n",
       "      <td>...</td>\n",
       "      <td>...</td>\n",
       "      <td>...</td>\n",
       "      <td>...</td>\n",
       "      <td>...</td>\n",
       "      <td>...</td>\n",
       "    </tr>\n",
       "    <tr>\n",
       "      <th>f4d16ea4ac59af59d257631398af39f4</th>\n",
       "      <td>NaN</td>\n",
       "      <td>NaN</td>\n",
       "      <td>NaN</td>\n",
       "      <td>5.0</td>\n",
       "      <td>NaN</td>\n",
       "      <td>NaN</td>\n",
       "      <td>NaN</td>\n",
       "      <td>NaN</td>\n",
       "      <td>NaN</td>\n",
       "      <td>NaN</td>\n",
       "      <td>...</td>\n",
       "      <td>NaN</td>\n",
       "      <td>NaN</td>\n",
       "      <td>NaN</td>\n",
       "      <td>2.0</td>\n",
       "      <td>NaN</td>\n",
       "      <td>NaN</td>\n",
       "      <td>NaN</td>\n",
       "      <td>NaN</td>\n",
       "      <td>NaN</td>\n",
       "      <td>NaN</td>\n",
       "    </tr>\n",
       "    <tr>\n",
       "      <th>f88032f4ad97b46654fe59ce3387cf5d</th>\n",
       "      <td>NaN</td>\n",
       "      <td>NaN</td>\n",
       "      <td>NaN</td>\n",
       "      <td>NaN</td>\n",
       "      <td>NaN</td>\n",
       "      <td>NaN</td>\n",
       "      <td>NaN</td>\n",
       "      <td>NaN</td>\n",
       "      <td>NaN</td>\n",
       "      <td>NaN</td>\n",
       "      <td>...</td>\n",
       "      <td>NaN</td>\n",
       "      <td>NaN</td>\n",
       "      <td>NaN</td>\n",
       "      <td>NaN</td>\n",
       "      <td>NaN</td>\n",
       "      <td>NaN</td>\n",
       "      <td>NaN</td>\n",
       "      <td>NaN</td>\n",
       "      <td>NaN</td>\n",
       "      <td>NaN</td>\n",
       "    </tr>\n",
       "    <tr>\n",
       "      <th>f8a89075dc6de14857561522e729f82c</th>\n",
       "      <td>3.0</td>\n",
       "      <td>5.0</td>\n",
       "      <td>NaN</td>\n",
       "      <td>NaN</td>\n",
       "      <td>NaN</td>\n",
       "      <td>NaN</td>\n",
       "      <td>NaN</td>\n",
       "      <td>NaN</td>\n",
       "      <td>NaN</td>\n",
       "      <td>NaN</td>\n",
       "      <td>...</td>\n",
       "      <td>NaN</td>\n",
       "      <td>NaN</td>\n",
       "      <td>NaN</td>\n",
       "      <td>NaN</td>\n",
       "      <td>NaN</td>\n",
       "      <td>NaN</td>\n",
       "      <td>NaN</td>\n",
       "      <td>NaN</td>\n",
       "      <td>NaN</td>\n",
       "      <td>NaN</td>\n",
       "    </tr>\n",
       "    <tr>\n",
       "      <th>faa322d2624b0e7eb3064e39dac4af9c</th>\n",
       "      <td>NaN</td>\n",
       "      <td>NaN</td>\n",
       "      <td>NaN</td>\n",
       "      <td>NaN</td>\n",
       "      <td>NaN</td>\n",
       "      <td>NaN</td>\n",
       "      <td>NaN</td>\n",
       "      <td>NaN</td>\n",
       "      <td>NaN</td>\n",
       "      <td>NaN</td>\n",
       "      <td>...</td>\n",
       "      <td>NaN</td>\n",
       "      <td>NaN</td>\n",
       "      <td>NaN</td>\n",
       "      <td>NaN</td>\n",
       "      <td>NaN</td>\n",
       "      <td>NaN</td>\n",
       "      <td>NaN</td>\n",
       "      <td>NaN</td>\n",
       "      <td>NaN</td>\n",
       "      <td>NaN</td>\n",
       "    </tr>\n",
       "    <tr>\n",
       "      <th>fd379cf294fc1937e41f3f7df3c9eabe</th>\n",
       "      <td>NaN</td>\n",
       "      <td>NaN</td>\n",
       "      <td>NaN</td>\n",
       "      <td>NaN</td>\n",
       "      <td>NaN</td>\n",
       "      <td>NaN</td>\n",
       "      <td>NaN</td>\n",
       "      <td>NaN</td>\n",
       "      <td>NaN</td>\n",
       "      <td>NaN</td>\n",
       "      <td>...</td>\n",
       "      <td>NaN</td>\n",
       "      <td>NaN</td>\n",
       "      <td>NaN</td>\n",
       "      <td>NaN</td>\n",
       "      <td>NaN</td>\n",
       "      <td>NaN</td>\n",
       "      <td>NaN</td>\n",
       "      <td>NaN</td>\n",
       "      <td>NaN</td>\n",
       "      <td>NaN</td>\n",
       "    </tr>\n",
       "  </tbody>\n",
       "</table>\n",
       "<p>124 rows × 2102 columns</p>\n",
       "</div>"
      ],
      "text/plain": [
       "book_id                           10001793  10004138  10025007  10025305  \\\n",
       "user_id                                                                    \n",
       "012515e5802b2e0f42915118c90fa04b       NaN       NaN       NaN       NaN   \n",
       "012aa353140af13109d00ca36cdc0637       NaN       NaN       NaN       NaN   \n",
       "01d02898170634e6e7232650ebbf2e43       NaN       NaN       NaN       NaN   \n",
       "01ec1a320ffded6b2dd47833f2c8e4fb       NaN       NaN       NaN       NaN   \n",
       "040b31603912dc03f19e0b76d58c3660       NaN       NaN       NaN       NaN   \n",
       "...                                    ...       ...       ...       ...   \n",
       "f4d16ea4ac59af59d257631398af39f4       NaN       NaN       NaN       5.0   \n",
       "f88032f4ad97b46654fe59ce3387cf5d       NaN       NaN       NaN       NaN   \n",
       "f8a89075dc6de14857561522e729f82c       3.0       5.0       NaN       NaN   \n",
       "faa322d2624b0e7eb3064e39dac4af9c       NaN       NaN       NaN       NaN   \n",
       "fd379cf294fc1937e41f3f7df3c9eabe       NaN       NaN       NaN       NaN   \n",
       "\n",
       "book_id                           1003318  1008231  10118172  10151730  \\\n",
       "user_id                                                                  \n",
       "012515e5802b2e0f42915118c90fa04b      NaN      NaN       NaN       NaN   \n",
       "012aa353140af13109d00ca36cdc0637      NaN      NaN       NaN       NaN   \n",
       "01d02898170634e6e7232650ebbf2e43      NaN      NaN       NaN       NaN   \n",
       "01ec1a320ffded6b2dd47833f2c8e4fb      NaN      NaN       NaN       NaN   \n",
       "040b31603912dc03f19e0b76d58c3660      NaN      NaN       NaN       NaN   \n",
       "...                                   ...      ...       ...       ...   \n",
       "f4d16ea4ac59af59d257631398af39f4      NaN      NaN       NaN       NaN   \n",
       "f88032f4ad97b46654fe59ce3387cf5d      NaN      NaN       NaN       NaN   \n",
       "f8a89075dc6de14857561522e729f82c      NaN      NaN       NaN       NaN   \n",
       "faa322d2624b0e7eb3064e39dac4af9c      NaN      NaN       NaN       NaN   \n",
       "fd379cf294fc1937e41f3f7df3c9eabe      NaN      NaN       NaN       NaN   \n",
       "\n",
       "book_id                           10165727  10165761  ...  9917938  9917945  \\\n",
       "user_id                                               ...                     \n",
       "012515e5802b2e0f42915118c90fa04b       NaN       NaN  ...      NaN      NaN   \n",
       "012aa353140af13109d00ca36cdc0637       NaN       NaN  ...      NaN      NaN   \n",
       "01d02898170634e6e7232650ebbf2e43       NaN       NaN  ...      NaN      NaN   \n",
       "01ec1a320ffded6b2dd47833f2c8e4fb       NaN       NaN  ...      NaN      NaN   \n",
       "040b31603912dc03f19e0b76d58c3660       NaN       NaN  ...      NaN      NaN   \n",
       "...                                    ...       ...  ...      ...      ...   \n",
       "f4d16ea4ac59af59d257631398af39f4       NaN       NaN  ...      NaN      NaN   \n",
       "f88032f4ad97b46654fe59ce3387cf5d       NaN       NaN  ...      NaN      NaN   \n",
       "f8a89075dc6de14857561522e729f82c       NaN       NaN  ...      NaN      NaN   \n",
       "faa322d2624b0e7eb3064e39dac4af9c       NaN       NaN  ...      NaN      NaN   \n",
       "fd379cf294fc1937e41f3f7df3c9eabe       NaN       NaN  ...      NaN      NaN   \n",
       "\n",
       "book_id                           9918053  9918133  9939115  9947386  99561  \\\n",
       "user_id                                                                       \n",
       "012515e5802b2e0f42915118c90fa04b      NaN      NaN      NaN      NaN    3.0   \n",
       "012aa353140af13109d00ca36cdc0637      NaN      NaN      NaN      NaN    NaN   \n",
       "01d02898170634e6e7232650ebbf2e43      NaN      NaN      NaN      NaN    NaN   \n",
       "01ec1a320ffded6b2dd47833f2c8e4fb      NaN      NaN      NaN      NaN    NaN   \n",
       "040b31603912dc03f19e0b76d58c3660      NaN      NaN      NaN      NaN    NaN   \n",
       "...                                   ...      ...      ...      ...    ...   \n",
       "f4d16ea4ac59af59d257631398af39f4      NaN      2.0      NaN      NaN    NaN   \n",
       "f88032f4ad97b46654fe59ce3387cf5d      NaN      NaN      NaN      NaN    NaN   \n",
       "f8a89075dc6de14857561522e729f82c      NaN      NaN      NaN      NaN    NaN   \n",
       "faa322d2624b0e7eb3064e39dac4af9c      NaN      NaN      NaN      NaN    NaN   \n",
       "fd379cf294fc1937e41f3f7df3c9eabe      NaN      NaN      NaN      NaN    NaN   \n",
       "\n",
       "book_id                           9961796  9972882  9975679  \n",
       "user_id                                                      \n",
       "012515e5802b2e0f42915118c90fa04b      NaN      NaN      NaN  \n",
       "012aa353140af13109d00ca36cdc0637      NaN      NaN      NaN  \n",
       "01d02898170634e6e7232650ebbf2e43      NaN      NaN      NaN  \n",
       "01ec1a320ffded6b2dd47833f2c8e4fb      NaN      NaN      NaN  \n",
       "040b31603912dc03f19e0b76d58c3660      NaN      NaN      NaN  \n",
       "...                                   ...      ...      ...  \n",
       "f4d16ea4ac59af59d257631398af39f4      NaN      NaN      NaN  \n",
       "f88032f4ad97b46654fe59ce3387cf5d      NaN      NaN      NaN  \n",
       "f8a89075dc6de14857561522e729f82c      NaN      NaN      NaN  \n",
       "faa322d2624b0e7eb3064e39dac4af9c      NaN      NaN      NaN  \n",
       "fd379cf294fc1937e41f3f7df3c9eabe      NaN      NaN      NaN  \n",
       "\n",
       "[124 rows x 2102 columns]"
      ]
     },
     "execution_count": 14,
     "metadata": {},
     "output_type": "execute_result"
    }
   ],
   "source": [
    "mat"
   ]
  },
  {
   "cell_type": "code",
   "execution_count": 15,
   "id": "6f2c966c",
   "metadata": {},
   "outputs": [
    {
     "data": {
      "text/plain": [
       "((3427, 10), (181, 10))"
      ]
     },
     "execution_count": 15,
     "metadata": {},
     "output_type": "execute_result"
    }
   ],
   "source": [
    "# Train/test split\n",
    "train, test = sklearn.model_selection.train_test_split(is_read_df, test_size=0.1, random_state=1111)\n",
    "train.shape, test.shape"
   ]
  },
  {
   "cell_type": "code",
   "execution_count": 16,
   "id": "bd8fe6fc",
   "metadata": {},
   "outputs": [],
   "source": [
    "# Set all test values to nan\n",
    "zipped_test = np.c_[test['user_id'], test['book_id'], test['rating']]\n",
    "test_mask = np.full(mat.shape, False)\n",
    "for i in range(len(zipped_test)):\n",
    "    row_idx = mat.index.get_loc(zipped_test[i][0])\n",
    "    col_idx = mat.columns.get_loc(zipped_test[i][1])\n",
    "    test_mask[row_idx, col_idx] = True\n",
    "test_actuals = np.array(mat)[test_mask] # Save test actuals\n",
    "mat[test_mask] = np.nan"
   ]
  },
  {
   "cell_type": "code",
   "execution_count": 17,
   "id": "afe1f7a7",
   "metadata": {},
   "outputs": [
    {
     "data": {
      "text/plain": [
       "nan"
      ]
     },
     "execution_count": 17,
     "metadata": {},
     "output_type": "execute_result"
    }
   ],
   "source": [
    "mat.at[zipped_test[0][0], zipped_test[0][1]]"
   ]
  },
  {
   "cell_type": "code",
   "execution_count": 18,
   "id": "b7be0a1b",
   "metadata": {},
   "outputs": [
    {
     "data": {
      "text/plain": [
       "0.9868519996316871"
      ]
     },
     "execution_count": 18,
     "metadata": {},
     "output_type": "execute_result"
    }
   ],
   "source": [
    "# Calculate sparsity of data\n",
    "not_null = mat.count().sum()\n",
    "sparsity = 1 - not_null / (mat.shape[0] * mat.shape[1])\n",
    "sparsity"
   ]
  },
  {
   "cell_type": "code",
   "execution_count": 19,
   "id": "752bc837",
   "metadata": {},
   "outputs": [
    {
     "data": {
      "text/plain": [
       "book_id\n",
       "2767052     67\n",
       "6148028     51\n",
       "7260188     49\n",
       "41865       39\n",
       "11870085    36\n",
       "            ..\n",
       "20562718     0\n",
       "21979832     0\n",
       "13836        0\n",
       "6574102      0\n",
       "13076222     0\n",
       "Length: 2102, dtype: int64"
      ]
     },
     "execution_count": 19,
     "metadata": {},
     "output_type": "execute_result"
    }
   ],
   "source": [
    "mat.count().sort_values(ascending=False)"
   ]
  },
  {
   "cell_type": "code",
   "execution_count": 20,
   "id": "34309974",
   "metadata": {},
   "outputs": [
    {
     "name": "stderr",
     "output_type": "stream",
     "text": [
      "<ipython-input-20-9498d0462504>:2: RuntimeWarning: Mean of empty slice\n",
      "  avg_book_rating = np.nanmean(mat, axis=0) # column avg r_j\n"
     ]
    }
   ],
   "source": [
    "# Calculate average rating for each book over users\n",
    "avg_book_rating = np.nanmean(mat, axis=0) # column avg r_j\n",
    "# For empty columns, fill with avg rating\n",
    "np.nan_to_num(avg_book_rating, copy=False, nan=avg_rating)\n",
    "\n",
    "# Fill missing value with the appropriate average for that book\n",
    "filled = np.where(np.isnan(mat), avg_book_rating, mat)"
   ]
  },
  {
   "cell_type": "code",
   "execution_count": 21,
   "id": "86df05d7",
   "metadata": {},
   "outputs": [],
   "source": [
    "# Remove from each user (row) the mean over all books\n",
    "avg_user_rating = np.average(filled, axis=1) # row avg r_i\n",
    "avg_user_rating_col_vec = avg_user_rating.reshape(len(avg_user_rating),1)\n",
    "normalized = filled - avg_user_rating_col_vec"
   ]
  },
  {
   "cell_type": "code",
   "execution_count": 22,
   "id": "67cc7a0d",
   "metadata": {},
   "outputs": [
    {
     "data": {
      "text/plain": [
       "array([[-0.84213107,  1.15786893,  0.15786893, ...,  0.15786893,\n",
       "        -2.84213107,  0.15786893],\n",
       "       [-0.83894063,  1.16105937,  0.16105937, ...,  0.16105937,\n",
       "        -2.83894063,  0.16105937],\n",
       "       [-0.84108782,  1.15891218,  0.15891218, ...,  0.15891218,\n",
       "        -2.84108782,  0.15891218],\n",
       "       ...,\n",
       "       [-0.84330462,  1.15669538,  0.15669538, ...,  0.15669538,\n",
       "        -2.84330462,  0.15669538],\n",
       "       [-0.83827454,  1.16172546,  0.16172546, ...,  0.16172546,\n",
       "        -2.83827454,  0.16172546],\n",
       "       [-0.84241538,  1.15758462,  0.15758462, ...,  0.15758462,\n",
       "        -2.84241538,  0.15758462]])"
      ]
     },
     "execution_count": 22,
     "metadata": {},
     "output_type": "execute_result"
    }
   ],
   "source": [
    "normalized"
   ]
  },
  {
   "cell_type": "code",
   "execution_count": 23,
   "id": "9ee9260e",
   "metadata": {},
   "outputs": [
    {
     "data": {
      "text/plain": [
       "(124, 2102)"
      ]
     },
     "execution_count": 23,
     "metadata": {},
     "output_type": "execute_result"
    }
   ],
   "source": [
    "normalized.shape"
   ]
  },
  {
   "cell_type": "code",
   "execution_count": 24,
   "id": "8b22a781",
   "metadata": {},
   "outputs": [],
   "source": [
    "# Perform SVD, decide on a rank k, and calculate a reduced rating matrix to remove noise\n",
    "# Can use sparse matrix algorithms because of special structure\n",
    "# How to choose k: if top few values are big and the rest are small, take the big values. So chose k=11\n",
    "U, S, VT = scipy.sparse.linalg.svds(normalized, k=6) # CHANGE BACK TO k=11"
   ]
  },
  {
   "cell_type": "code",
   "execution_count": 25,
   "id": "45ef5596",
   "metadata": {},
   "outputs": [],
   "source": [
    "#U, S, VT = np.linalg.svd(normalized) #k=10\n",
    "\n",
    "# U = U[:, :9]\n",
    "# S = S[:9]\n",
    "# VT = VT[:9, :]"
   ]
  },
  {
   "cell_type": "code",
   "execution_count": 26,
   "id": "0b8bfa64",
   "metadata": {},
   "outputs": [
    {
     "data": {
      "text/plain": [
       "array([  8.42214537,   9.38040096,  10.19090294,  11.49903927,\n",
       "        12.73569456, 461.28663654])"
      ]
     },
     "execution_count": 26,
     "metadata": {},
     "output_type": "execute_result"
    }
   ],
   "source": [
    "S"
   ]
  },
  {
   "cell_type": "code",
   "execution_count": 27,
   "id": "abd30e6f",
   "metadata": {},
   "outputs": [
    {
     "data": {
      "text/plain": [
       "((124, 6), (6,), (6, 2102))"
      ]
     },
     "execution_count": 27,
     "metadata": {},
     "output_type": "execute_result"
    }
   ],
   "source": [
    "U.shape, S.shape, VT.shape"
   ]
  },
  {
   "cell_type": "code",
   "execution_count": 28,
   "id": "1ff324eb",
   "metadata": {},
   "outputs": [],
   "source": [
    "reduced_rating = U @ np.diag(S) @ VT"
   ]
  },
  {
   "cell_type": "code",
   "execution_count": 29,
   "id": "1f7b17b4",
   "metadata": {},
   "outputs": [
    {
     "data": {
      "text/plain": [
       "array([[-0.84487148,  1.15266924,  0.15389888, ...,  0.15845311,\n",
       "        -2.84241221,  0.15389888],\n",
       "       [-0.84043205,  1.16123447,  0.16040121, ...,  0.17293701,\n",
       "        -2.84209857,  0.16040121],\n",
       "       [-0.84082494,  1.15851383,  0.15884444, ...,  0.21285993,\n",
       "        -2.84016371,  0.15884444],\n",
       "       ...,\n",
       "       [-0.84300157,  1.15844029,  0.15771936, ...,  0.16944099,\n",
       "        -2.84444343,  0.15771936],\n",
       "       [-0.83894729,  1.16012206,  0.16058738, ...,  0.16105201,\n",
       "        -2.83801665,  0.16058738],\n",
       "       [-0.84203475,  1.15881338,  0.15838932, ...,  0.15731148,\n",
       "        -2.84288287,  0.15838932]])"
      ]
     },
     "execution_count": 29,
     "metadata": {},
     "output_type": "execute_result"
    }
   ],
   "source": [
    "reduced_rating # SHOULD THIS BE >=1? Maybe not, because it's already been reduced"
   ]
  },
  {
   "cell_type": "code",
   "execution_count": 30,
   "id": "c463fc3c",
   "metadata": {},
   "outputs": [
    {
     "data": {
      "text/plain": [
       "(124, 2102)"
      ]
     },
     "execution_count": 30,
     "metadata": {},
     "output_type": "execute_result"
    }
   ],
   "source": [
    "reduced_rating.shape"
   ]
  },
  {
   "cell_type": "code",
   "execution_count": 31,
   "id": "67a4fd6b",
   "metadata": {},
   "outputs": [],
   "source": [
    "# Calculate matrix product for dimensionality-reduced rating matrix\n",
    "sqrtS = np.diag(np.sqrt(S))\n",
    "meta_on_users = U @ np.transpose(sqrtS)\n",
    "meta_on_items = sqrtS @ VT"
   ]
  },
  {
   "cell_type": "code",
   "execution_count": 32,
   "id": "2306e73c",
   "metadata": {},
   "outputs": [
    {
     "data": {
      "text/plain": [
       "array([[ 2.16747578e-03, -2.28206616e-04,  9.69634583e-04, ...,\n",
       "         6.30762537e-03,  4.56315818e-03,  9.69634583e-04],\n",
       "       [ 5.64663990e-03,  3.96728657e-03,  4.80696323e-03, ...,\n",
       "         8.92903135e-03,  7.32599322e-03,  4.80696323e-03],\n",
       "       [ 4.00285377e-04,  4.61604343e-04,  4.30944860e-04, ...,\n",
       "        -1.26071230e-01,  3.38966411e-04,  4.30944860e-04],\n",
       "       [-9.73365701e-03, -4.28798244e-03, -7.01081973e-03, ...,\n",
       "         3.43565916e-03, -1.51793316e-02, -7.01081973e-03],\n",
       "       [ 1.06815313e-02,  1.31733925e-02,  1.19274619e-02, ...,\n",
       "        -3.95624123e-02,  8.18967021e-03,  1.19274619e-02],\n",
       "       [-4.35169046e-01,  6.01773906e-01,  8.33024298e-02, ...,\n",
       "         8.33342912e-02, -1.47211200e+00,  8.33024298e-02]])"
      ]
     },
     "execution_count": 32,
     "metadata": {},
     "output_type": "execute_result"
    }
   ],
   "source": [
    "meta_on_items"
   ]
  },
  {
   "cell_type": "code",
   "execution_count": 33,
   "id": "4751c964",
   "metadata": {},
   "outputs": [],
   "source": [
    "# # Calculate similarity of 2 books j and f based on the reduced rating matrix\n",
    "# # Similarity is the correlation of 2 movies based on average over users\n",
    "# def similarity(j, f, matrix):\n",
    "#     j_col = matrix[:, j]\n",
    "#     f_col = matrix[:, f]\n",
    "#     numerator = np.sum(np.multiply(j_col, f_col))\n",
    "#     denominator = np.sqrt(np.multiply(np.sum(np.square(j_col)), np.sum(np.square(f_col))))\n",
    "#     return numerator / denominator"
   ]
  },
  {
   "cell_type": "code",
   "execution_count": 34,
   "id": "187fd785",
   "metadata": {},
   "outputs": [],
   "source": [
    "# num_books = reduced_rating.shape[1]\n",
    "# t1 = time()\n",
    "# similarities = np.zeros((num_books, num_books))\n",
    "# # TODO: is there a faster way to do this?\n",
    "# for i in range(num_books):\n",
    "#     for j in range(num_books):\n",
    "#         similarities[i, j] = similarity(i, j, meta_on_items)\n",
    "# t2 = time()"
   ]
  },
  {
   "cell_type": "code",
   "execution_count": 35,
   "id": "3ec459b7",
   "metadata": {},
   "outputs": [],
   "source": [
    "# t2-t1"
   ]
  },
  {
   "cell_type": "code",
   "execution_count": 36,
   "id": "4fdb9ea9",
   "metadata": {},
   "outputs": [],
   "source": [
    "# num_books = reduced_rating.shape[1]\n",
    "# t1 = time()\n",
    "# col_prods = meta_on_items.T.dot(meta_on_items)\n",
    "\n",
    "# similarities2 = np.zeros((num_books, num_books))\n",
    "# # TODO: is there a faster way to do this?\n",
    "# for i in range(num_books):\n",
    "#     for j in range(i, num_books):\n",
    "#         similarities2[i, j] = col_prods[i, j] / np.sqrt(col_prods[i, i] * col_prods[j, j])\n",
    "#         similarities2[j, i] = similarities2[i, j]\n",
    "# t2 = time()"
   ]
  },
  {
   "cell_type": "code",
   "execution_count": 37,
   "id": "e0a782b1",
   "metadata": {},
   "outputs": [],
   "source": [
    "# similarities.shape, t2-t1, np.allclose(similarities, similarities2)"
   ]
  },
  {
   "cell_type": "code",
   "execution_count": 38,
   "id": "e56771a1",
   "metadata": {},
   "outputs": [],
   "source": [
    "num_books = reduced_rating.shape[1]\n",
    "t1 = time()\n",
    "similarities = pw.cosine_similarity(meta_on_items.T, meta_on_items.T)\n",
    "t2 = time()"
   ]
  },
  {
   "cell_type": "code",
   "execution_count": 39,
   "id": "4624735f",
   "metadata": {},
   "outputs": [
    {
     "data": {
      "text/plain": [
       "((2102, 2102), 0.010242462158203125)"
      ]
     },
     "execution_count": 39,
     "metadata": {},
     "output_type": "execute_result"
    }
   ],
   "source": [
    "similarities.shape, t2-t1"
   ]
  },
  {
   "cell_type": "code",
   "execution_count": 40,
   "id": "45ecea6a",
   "metadata": {},
   "outputs": [],
   "source": [
    "# # Without reducing dimensionality\n",
    "# num_books = reduced_rating.shape[1]\n",
    "# t1 = time()\n",
    "# similarities = pw.cosine_similarity(reduced_rating.T, reduced_rating.T)\n",
    "# t2 = time()\n",
    "# similarities.shape, t2-t1"
   ]
  },
  {
   "cell_type": "code",
   "execution_count": 41,
   "id": "4503ef5e",
   "metadata": {},
   "outputs": [],
   "source": [
    "# TODO: try optimizing\n",
    "# Calculate prediction of rating by user i of book j, by avging over the ratings of all books by the same user, each weighted according to its similarity to book j\n",
    "num_users = reduced_rating.shape[0]\n",
    "predictions = np.zeros((num_users, num_books))\n",
    "\n",
    "# Isolate the set of items which appear to be the most similar to the active item. Vozalis suggests 10 items is best.\n",
    "most_similar_idx = np.argsort(similarities, axis=1)[:,-10:]\n",
    "for a in range(num_users):\n",
    "    for j in range(num_books):\n",
    "        numerator = 0\n",
    "        denominator = 0\n",
    "        # check that similarities are non-negative\n",
    "        for k in most_similar_idx[j,:]:\n",
    "            sim = similarities[j,k]\n",
    "            if sim < 0:\n",
    "                break\n",
    "            numerator += sim * (reduced_rating[a,k] + avg_user_rating[a])\n",
    "            denominator += sim\n",
    "        predictions[a,j] = numerator/denominator"
   ]
  },
  {
   "cell_type": "code",
   "execution_count": 42,
   "id": "c4928039",
   "metadata": {},
   "outputs": [
    {
     "name": "stdout",
     "output_type": "stream",
     "text": [
      "0.9842670617676138 5.0410467882275105\n"
     ]
    },
    {
     "data": {
      "text/plain": [
       "array([[2.99725959, 4.99480031, 3.99602995, ..., 4.10699712, 0.99971886,\n",
       "        3.99602995],\n",
       "       [2.99850858, 5.0001751 , 3.99934184, ..., 4.08732223, 0.99684206,\n",
       "        3.99934184],\n",
       "       [3.00026288, 4.99960165, 3.99993227, ..., 4.26994703, 1.00092411,\n",
       "        3.99993227],\n",
       "       ...,\n",
       "       [3.00030305, 5.00174491, 4.00102398, ..., 4.04646333, 0.99886119,\n",
       "        4.00102398],\n",
       "       [2.99932724, 4.9983966 , 3.99886192, ..., 4.02237218, 1.00025789,\n",
       "        3.99886192],\n",
       "       [3.00038063, 5.00122876, 4.00080469, ..., 4.06027017, 0.9995325 ,\n",
       "        4.00080469]])"
      ]
     },
     "execution_count": 42,
     "metadata": {},
     "output_type": "execute_result"
    }
   ],
   "source": [
    "print(np.min(predictions), np.max(predictions))\n",
    "predictions"
   ]
  },
  {
   "cell_type": "code",
   "execution_count": 43,
   "id": "7690a4d4",
   "metadata": {},
   "outputs": [
    {
     "data": {
      "text/plain": [
       "(124, 2102)"
      ]
     },
     "execution_count": 43,
     "metadata": {},
     "output_type": "execute_result"
    }
   ],
   "source": [
    "np.shape(predictions)"
   ]
  },
  {
   "cell_type": "code",
   "execution_count": 44,
   "id": "f38af7bd",
   "metadata": {},
   "outputs": [],
   "source": [
    "# Define error function\n",
    "def rmse(predictions, actuals):\n",
    "    return np.sqrt(((predictions - actuals) ** 2).mean())"
   ]
  },
  {
   "cell_type": "code",
   "execution_count": 45,
   "id": "20cfb02e",
   "metadata": {},
   "outputs": [
    {
     "data": {
      "text/plain": [
       "0.5404827875919431"
      ]
     },
     "execution_count": 45,
     "metadata": {},
     "output_type": "execute_result"
    }
   ],
   "source": [
    "# Calculate training error\n",
    "training_mask = np.array(mat.notna())\n",
    "train_predictions = predictions[training_mask]\n",
    "train_actuals = np.array(mat)[training_mask]\n",
    "train_rmse = rmse(train_predictions, train_actuals)\n",
    "train_rmse"
   ]
  },
  {
   "cell_type": "code",
   "execution_count": 46,
   "id": "b0a78b5c",
   "metadata": {},
   "outputs": [
    {
     "data": {
      "text/plain": [
       "(array([2.99725959, 3.99602995, 3.62772259, ..., 3.2311722 , 5.00122876,\n",
       "        4.02251957]),\n",
       " array([3., 4., 5., ..., 3., 5., 5.]))"
      ]
     },
     "execution_count": 46,
     "metadata": {},
     "output_type": "execute_result"
    }
   ],
   "source": [
    "train_predictions, train_actuals"
   ]
  },
  {
   "cell_type": "code",
   "execution_count": 47,
   "id": "6dba6635",
   "metadata": {},
   "outputs": [
    {
     "data": {
      "text/plain": [
       "1.0466364690690297"
      ]
     },
     "execution_count": 47,
     "metadata": {},
     "output_type": "execute_result"
    }
   ],
   "source": [
    "# Calculate test error\n",
    "#zipped_test = np.c_[test['user_id'], test['book_id'], test['rating']]\n",
    "test_predictions = predictions[test_mask]\n",
    "test_rmse = rmse(test_predictions, test_actuals)\n",
    "test_rmse"
   ]
  },
  {
   "cell_type": "code",
   "execution_count": 48,
   "id": "3123f848",
   "metadata": {},
   "outputs": [
    {
     "data": {
      "text/plain": [
       "(array([3.86813862, 3.86813862, 4.17852152, 3.86813862, 3.99944449,\n",
       "        3.87125389, 4.41760589, 4.03278301, 1.95789815, 4.41285593]),\n",
       " array([4., 4., 3., 4., 3., 5., 5., 4., 5., 5.]))"
      ]
     },
     "execution_count": 48,
     "metadata": {},
     "output_type": "execute_result"
    }
   ],
   "source": [
    "test_predictions[:10], test_actuals[:10]"
   ]
  },
  {
   "cell_type": "code",
   "execution_count": 49,
   "id": "ff4404d9",
   "metadata": {},
   "outputs": [
    {
     "data": {
      "text/plain": [
       "(1.0134737547423038, 0.9659112542530227)"
      ]
     },
     "execution_count": 49,
     "metadata": {},
     "output_type": "execute_result"
    }
   ],
   "source": [
    "# Calculate error if just rated everything the avg rating\n",
    "avg_train = np.full(train_actuals.shape, avg_rating)\n",
    "avg_train_rmse = rmse(avg_train, train_actuals)\n",
    "avg_test = np.full(test_actuals.shape, avg_rating)\n",
    "avg_test_rmse = rmse(avg_test, test_actuals)\n",
    "avg_train_rmse, avg_test_rmse"
   ]
  },
  {
   "cell_type": "markdown",
   "id": "2b485a45",
   "metadata": {},
   "source": [
    "# Debugging"
   ]
  },
  {
   "cell_type": "code",
   "execution_count": 50,
   "id": "72411437",
   "metadata": {},
   "outputs": [
    {
     "data": {
      "text/plain": [
       "array([[ 762,  167, 1959, ...,  124, 1939, 1959],\n",
       "       [ 386,  826, 1971, ..., 1536,  467, 1971],\n",
       "       [1738,  265, 1958, ..., 1873, 1094, 1958],\n",
       "       ...,\n",
       "       [1010,  161,  520, ..., 2060, 1182,  520],\n",
       "       [1739,  973, 1428, ...,  838,  908, 1428],\n",
       "       [   0,  589, 2101, ..., 2099,  764, 2101]], dtype=int64)"
      ]
     },
     "execution_count": 50,
     "metadata": {},
     "output_type": "execute_result"
    }
   ],
   "source": [
    "np.argsort(similarities, axis=0)"
   ]
  },
  {
   "cell_type": "code",
   "execution_count": 51,
   "id": "b3773305",
   "metadata": {},
   "outputs": [
    {
     "data": {
      "text/plain": [
       "array([[4, 2],\n",
       "       [3, 4]], dtype=int64)"
      ]
     },
     "execution_count": 51,
     "metadata": {},
     "output_type": "execute_result"
    }
   ],
   "source": [
    "testing = np.array([[1,5,8,3,7],[1,2,3,4,5]])\n",
    "sorted_testing = np.argsort(testing, axis=1)\n",
    "sorted_testing[:,-2:]"
   ]
  },
  {
   "cell_type": "code",
   "execution_count": 52,
   "id": "9f8d9149",
   "metadata": {},
   "outputs": [
    {
     "data": {
      "text/plain": [
       "(False, False)"
      ]
     },
     "execution_count": 52,
     "metadata": {},
     "output_type": "execute_result"
    }
   ],
   "source": [
    "np.all(predictions < 5), np.all(predictions > 1)"
   ]
  },
  {
   "cell_type": "code",
   "execution_count": 53,
   "id": "023e9db4",
   "metadata": {},
   "outputs": [
    {
     "data": {
      "text/plain": [
       "(True, False)"
      ]
     },
     "execution_count": 53,
     "metadata": {},
     "output_type": "execute_result"
    }
   ],
   "source": [
    "np.all(reduced_rating < 5), np.all(reduced_rating > 1)"
   ]
  },
  {
   "cell_type": "code",
   "execution_count": 54,
   "id": "53fc2cad",
   "metadata": {},
   "outputs": [
    {
     "data": {
      "text/plain": [
       "array([[-0.84487148,  1.15266924,  0.15389888, ...,  0.15845311,\n",
       "        -2.84241221,  0.15389888],\n",
       "       [-0.84043205,  1.16123447,  0.16040121, ...,  0.17293701,\n",
       "        -2.84209857,  0.16040121],\n",
       "       [-0.84082494,  1.15851383,  0.15884444, ...,  0.21285993,\n",
       "        -2.84016371,  0.15884444],\n",
       "       ...,\n",
       "       [-0.84300157,  1.15844029,  0.15771936, ...,  0.16944099,\n",
       "        -2.84444343,  0.15771936],\n",
       "       [-0.83894729,  1.16012206,  0.16058738, ...,  0.16105201,\n",
       "        -2.83801665,  0.16058738],\n",
       "       [-0.84203475,  1.15881338,  0.15838932, ...,  0.15731148,\n",
       "        -2.84288287,  0.15838932]])"
      ]
     },
     "execution_count": 54,
     "metadata": {},
     "output_type": "execute_result"
    }
   ],
   "source": [
    "reduced_rating"
   ]
  },
  {
   "cell_type": "code",
   "execution_count": 55,
   "id": "1b0c55b6",
   "metadata": {},
   "outputs": [
    {
     "data": {
      "text/plain": [
       "array([3.84213107, 3.83894063, 3.84108782, 3.83938459, 3.83921814,\n",
       "       3.8380631 , 3.84665684, 3.84428273, 3.83612235, 3.83954317,\n",
       "       3.84040748, 3.83753226, 3.84030687, 3.83947898, 3.83933173,\n",
       "       3.83262533, 3.838236  , 3.83490469, 3.84092374, 3.83933173,\n",
       "       3.83689599, 3.83997804, 3.84036784, 3.8396621 , 3.83555122,\n",
       "       3.83922601, 3.84034836, 3.84044713, 3.83813121, 3.837756  ,\n",
       "       3.83921814, 3.84006573, 3.83928841, 3.8281915 , 3.83909386,\n",
       "       3.83886645, 3.83933173, 3.84397017, 3.83019298, 3.83731519,\n",
       "       3.8412157 , 3.83853883, 3.83933173, 3.82061163, 3.84070746,\n",
       "       3.8350818 , 3.83828859, 3.83803138, 3.84581535, 3.83933173,\n",
       "       3.84923061, 3.83820908, 3.83940465, 3.84018202, 3.8408423 ,\n",
       "       3.83767592, 3.8368072 , 3.8368809 , 3.83593086, 3.84835623,\n",
       "       3.83977317, 3.83872108, 3.84210434, 3.84056881, 3.83933173,\n",
       "       3.84095441, 3.84075894, 3.83582197, 3.84716965, 3.84095419,\n",
       "       3.84476841, 3.83962907, 3.83429036, 3.83901457, 3.8399264 ,\n",
       "       3.84023441, 3.83913915, 3.83545421, 3.81281748, 3.83942336,\n",
       "       3.83715661, 3.83713018, 3.83822708, 3.8385625 , 3.83996961,\n",
       "       3.83946944, 3.83964889, 3.84035519, 3.83996605, 3.8256978 ,\n",
       "       3.83955512, 3.84782133, 3.83935051, 3.83922732, 3.83942027,\n",
       "       3.83522446, 3.84027091, 3.84276779, 3.83689013, 3.8384199 ,\n",
       "       3.83933173, 3.83978106, 3.83969388, 3.84000293, 3.84118597,\n",
       "       3.83901457, 3.83909386, 3.8395696 , 3.83917315, 3.86348642,\n",
       "       3.84052207, 3.84005671, 3.84149975, 3.83952995, 3.84714716,\n",
       "       3.83945066, 3.84083388, 3.83933173, 3.83870051, 3.84658312,\n",
       "       3.84028321, 3.84330462, 3.83827454, 3.84241538])"
      ]
     },
     "execution_count": 55,
     "metadata": {},
     "output_type": "execute_result"
    }
   ],
   "source": [
    "avg_user_rating"
   ]
  }
 ],
 "metadata": {
  "kernelspec": {
   "display_name": "Python 3",
   "language": "python",
   "name": "python3"
  },
  "language_info": {
   "codemirror_mode": {
    "name": "ipython",
    "version": 3
   },
   "file_extension": ".py",
   "mimetype": "text/x-python",
   "name": "python",
   "nbconvert_exporter": "python",
   "pygments_lexer": "ipython3",
   "version": "3.8.8"
  }
 },
 "nbformat": 4,
 "nbformat_minor": 5
}
