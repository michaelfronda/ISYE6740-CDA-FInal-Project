{
 "cells": [
  {
   "cell_type": "code",
   "execution_count": 1,
   "id": "397c4628",
   "metadata": {},
   "outputs": [],
   "source": [
    "import gzip\n",
    "import json\n",
    "import re\n",
    "import os\n",
    "import sys\n",
    "import numpy as np\n",
    "import pandas as pd\n",
    "import sklearn.model_selection\n",
    "import scipy\n",
    "import sklearn.metrics.pairwise as pw\n",
    "from time import time\n",
    "import matplotlib.pyplot as plt"
   ]
  },
  {
   "cell_type": "code",
   "execution_count": 2,
   "id": "fedea9cc",
   "metadata": {},
   "outputs": [],
   "source": [
    "# Specify your directory\n",
    "DIR = r'C:\\Users\\Jackie\\OneDrive - Georgia Institute of Technology\\ISYE6740 Computational Data Analytics\\Project\\Data\\Genres\\YoungAdult'"
   ]
  },
  {
   "cell_type": "code",
   "execution_count": 3,
   "id": "bfdc1024",
   "metadata": {},
   "outputs": [],
   "source": [
    "# Load pickled files\n",
    "df = pd.read_pickle('atleast500ratings50books.pkl')"
   ]
  },
  {
   "cell_type": "code",
   "execution_count": 4,
   "id": "b4ff3dd7",
   "metadata": {
    "scrolled": true
   },
   "outputs": [
    {
     "data": {
      "text/plain": [
       "2767052     46342\n",
       "41865       40894\n",
       "6148028     39578\n",
       "7260188     38465\n",
       "256683      37238\n",
       "            ...  \n",
       "14762463      116\n",
       "7776692       107\n",
       "18626858      105\n",
       "6596839        93\n",
       "1242729        45\n",
       "Name: book_id, Length: 1949, dtype: int64"
      ]
     },
     "execution_count": 4,
     "metadata": {},
     "output_type": "execute_result"
    }
   ],
   "source": [
    "df['book_id'].value_counts()"
   ]
  },
  {
   "cell_type": "code",
   "execution_count": 5,
   "id": "78ea03e0",
   "metadata": {},
   "outputs": [
    {
     "data": {
      "text/plain": [
       "3.9592542580101724"
      ]
     },
     "execution_count": 5,
     "metadata": {},
     "output_type": "execute_result"
    }
   ],
   "source": [
    "# Calculate average rating\n",
    "avg_rating = np.mean(df['rating'])\n",
    "avg_rating"
   ]
  },
  {
   "cell_type": "code",
   "execution_count": 6,
   "id": "c2856f3d",
   "metadata": {},
   "outputs": [],
   "source": [
    "# Define user-book rating matrix\n",
    "mat = df.pivot(index='user_id', columns='book_id', values='rating')\n",
    "mat.replace(0, np.nan, inplace=True)"
   ]
  },
  {
   "cell_type": "code",
   "execution_count": 7,
   "id": "c9e34fac",
   "metadata": {},
   "outputs": [
    {
     "data": {
      "text/html": [
       "<div>\n",
       "<style scoped>\n",
       "    .dataframe tbody tr th:only-of-type {\n",
       "        vertical-align: middle;\n",
       "    }\n",
       "\n",
       "    .dataframe tbody tr th {\n",
       "        vertical-align: top;\n",
       "    }\n",
       "\n",
       "    .dataframe thead th {\n",
       "        text-align: right;\n",
       "    }\n",
       "</style>\n",
       "<table border=\"1\" class=\"dataframe\">\n",
       "  <thead>\n",
       "    <tr style=\"text-align: right;\">\n",
       "      <th>book_id</th>\n",
       "      <th>10025007</th>\n",
       "      <th>10025305</th>\n",
       "      <th>10048874</th>\n",
       "      <th>10118172</th>\n",
       "      <th>10165727</th>\n",
       "      <th>10165761</th>\n",
       "      <th>10174795</th>\n",
       "      <th>10188580</th>\n",
       "      <th>101914</th>\n",
       "      <th>10193062</th>\n",
       "      <th>...</th>\n",
       "      <th>9917938</th>\n",
       "      <th>9917945</th>\n",
       "      <th>9917998</th>\n",
       "      <th>9918083</th>\n",
       "      <th>9918128</th>\n",
       "      <th>99561</th>\n",
       "      <th>9961796</th>\n",
       "      <th>9972838</th>\n",
       "      <th>9972882</th>\n",
       "      <th>9975679</th>\n",
       "    </tr>\n",
       "    <tr>\n",
       "      <th>user_id</th>\n",
       "      <th></th>\n",
       "      <th></th>\n",
       "      <th></th>\n",
       "      <th></th>\n",
       "      <th></th>\n",
       "      <th></th>\n",
       "      <th></th>\n",
       "      <th></th>\n",
       "      <th></th>\n",
       "      <th></th>\n",
       "      <th></th>\n",
       "      <th></th>\n",
       "      <th></th>\n",
       "      <th></th>\n",
       "      <th></th>\n",
       "      <th></th>\n",
       "      <th></th>\n",
       "      <th></th>\n",
       "      <th></th>\n",
       "      <th></th>\n",
       "      <th></th>\n",
       "    </tr>\n",
       "  </thead>\n",
       "  <tbody>\n",
       "    <tr>\n",
       "      <th>000192962b87d560f00b06fdcbd71681</th>\n",
       "      <td>NaN</td>\n",
       "      <td>NaN</td>\n",
       "      <td>NaN</td>\n",
       "      <td>NaN</td>\n",
       "      <td>NaN</td>\n",
       "      <td>NaN</td>\n",
       "      <td>NaN</td>\n",
       "      <td>NaN</td>\n",
       "      <td>NaN</td>\n",
       "      <td>NaN</td>\n",
       "      <td>...</td>\n",
       "      <td>NaN</td>\n",
       "      <td>NaN</td>\n",
       "      <td>NaN</td>\n",
       "      <td>NaN</td>\n",
       "      <td>NaN</td>\n",
       "      <td>4.0</td>\n",
       "      <td>NaN</td>\n",
       "      <td>NaN</td>\n",
       "      <td>NaN</td>\n",
       "      <td>NaN</td>\n",
       "    </tr>\n",
       "    <tr>\n",
       "      <th>000387b0e3d77b6dcc36a66d5cc27347</th>\n",
       "      <td>NaN</td>\n",
       "      <td>4.0</td>\n",
       "      <td>NaN</td>\n",
       "      <td>NaN</td>\n",
       "      <td>NaN</td>\n",
       "      <td>NaN</td>\n",
       "      <td>NaN</td>\n",
       "      <td>NaN</td>\n",
       "      <td>NaN</td>\n",
       "      <td>NaN</td>\n",
       "      <td>...</td>\n",
       "      <td>5.0</td>\n",
       "      <td>3.0</td>\n",
       "      <td>NaN</td>\n",
       "      <td>NaN</td>\n",
       "      <td>NaN</td>\n",
       "      <td>5.0</td>\n",
       "      <td>NaN</td>\n",
       "      <td>NaN</td>\n",
       "      <td>NaN</td>\n",
       "      <td>NaN</td>\n",
       "    </tr>\n",
       "    <tr>\n",
       "      <th>0007f8dd09337afd986d765569cf0110</th>\n",
       "      <td>NaN</td>\n",
       "      <td>NaN</td>\n",
       "      <td>NaN</td>\n",
       "      <td>NaN</td>\n",
       "      <td>NaN</td>\n",
       "      <td>NaN</td>\n",
       "      <td>NaN</td>\n",
       "      <td>NaN</td>\n",
       "      <td>NaN</td>\n",
       "      <td>NaN</td>\n",
       "      <td>...</td>\n",
       "      <td>NaN</td>\n",
       "      <td>NaN</td>\n",
       "      <td>NaN</td>\n",
       "      <td>NaN</td>\n",
       "      <td>NaN</td>\n",
       "      <td>NaN</td>\n",
       "      <td>5.0</td>\n",
       "      <td>NaN</td>\n",
       "      <td>NaN</td>\n",
       "      <td>NaN</td>\n",
       "    </tr>\n",
       "    <tr>\n",
       "      <th>000883382802f2d95a3dd545bb953882</th>\n",
       "      <td>NaN</td>\n",
       "      <td>5.0</td>\n",
       "      <td>NaN</td>\n",
       "      <td>NaN</td>\n",
       "      <td>NaN</td>\n",
       "      <td>NaN</td>\n",
       "      <td>NaN</td>\n",
       "      <td>NaN</td>\n",
       "      <td>NaN</td>\n",
       "      <td>NaN</td>\n",
       "      <td>...</td>\n",
       "      <td>NaN</td>\n",
       "      <td>NaN</td>\n",
       "      <td>NaN</td>\n",
       "      <td>NaN</td>\n",
       "      <td>NaN</td>\n",
       "      <td>NaN</td>\n",
       "      <td>NaN</td>\n",
       "      <td>NaN</td>\n",
       "      <td>NaN</td>\n",
       "      <td>NaN</td>\n",
       "    </tr>\n",
       "    <tr>\n",
       "      <th>000891e40dc9b9a6726caff9232be979</th>\n",
       "      <td>NaN</td>\n",
       "      <td>NaN</td>\n",
       "      <td>NaN</td>\n",
       "      <td>NaN</td>\n",
       "      <td>NaN</td>\n",
       "      <td>NaN</td>\n",
       "      <td>NaN</td>\n",
       "      <td>NaN</td>\n",
       "      <td>NaN</td>\n",
       "      <td>NaN</td>\n",
       "      <td>...</td>\n",
       "      <td>NaN</td>\n",
       "      <td>NaN</td>\n",
       "      <td>NaN</td>\n",
       "      <td>NaN</td>\n",
       "      <td>NaN</td>\n",
       "      <td>5.0</td>\n",
       "      <td>5.0</td>\n",
       "      <td>NaN</td>\n",
       "      <td>NaN</td>\n",
       "      <td>NaN</td>\n",
       "    </tr>\n",
       "    <tr>\n",
       "      <th>...</th>\n",
       "      <td>...</td>\n",
       "      <td>...</td>\n",
       "      <td>...</td>\n",
       "      <td>...</td>\n",
       "      <td>...</td>\n",
       "      <td>...</td>\n",
       "      <td>...</td>\n",
       "      <td>...</td>\n",
       "      <td>...</td>\n",
       "      <td>...</td>\n",
       "      <td>...</td>\n",
       "      <td>...</td>\n",
       "      <td>...</td>\n",
       "      <td>...</td>\n",
       "      <td>...</td>\n",
       "      <td>...</td>\n",
       "      <td>...</td>\n",
       "      <td>...</td>\n",
       "      <td>...</td>\n",
       "      <td>...</td>\n",
       "      <td>...</td>\n",
       "    </tr>\n",
       "    <tr>\n",
       "      <th>fffbeab06c4060af4387a8922bf017cc</th>\n",
       "      <td>NaN</td>\n",
       "      <td>NaN</td>\n",
       "      <td>NaN</td>\n",
       "      <td>NaN</td>\n",
       "      <td>NaN</td>\n",
       "      <td>NaN</td>\n",
       "      <td>NaN</td>\n",
       "      <td>NaN</td>\n",
       "      <td>NaN</td>\n",
       "      <td>NaN</td>\n",
       "      <td>...</td>\n",
       "      <td>NaN</td>\n",
       "      <td>2.0</td>\n",
       "      <td>NaN</td>\n",
       "      <td>NaN</td>\n",
       "      <td>NaN</td>\n",
       "      <td>NaN</td>\n",
       "      <td>NaN</td>\n",
       "      <td>NaN</td>\n",
       "      <td>NaN</td>\n",
       "      <td>NaN</td>\n",
       "    </tr>\n",
       "    <tr>\n",
       "      <th>fffcca008c7770bc559e43b2edf24a6d</th>\n",
       "      <td>NaN</td>\n",
       "      <td>5.0</td>\n",
       "      <td>NaN</td>\n",
       "      <td>NaN</td>\n",
       "      <td>NaN</td>\n",
       "      <td>NaN</td>\n",
       "      <td>NaN</td>\n",
       "      <td>NaN</td>\n",
       "      <td>NaN</td>\n",
       "      <td>NaN</td>\n",
       "      <td>...</td>\n",
       "      <td>NaN</td>\n",
       "      <td>NaN</td>\n",
       "      <td>NaN</td>\n",
       "      <td>NaN</td>\n",
       "      <td>NaN</td>\n",
       "      <td>3.0</td>\n",
       "      <td>NaN</td>\n",
       "      <td>NaN</td>\n",
       "      <td>NaN</td>\n",
       "      <td>NaN</td>\n",
       "    </tr>\n",
       "    <tr>\n",
       "      <th>fffce7dae5ac5e8fb6288d81658ececc</th>\n",
       "      <td>NaN</td>\n",
       "      <td>NaN</td>\n",
       "      <td>NaN</td>\n",
       "      <td>NaN</td>\n",
       "      <td>NaN</td>\n",
       "      <td>NaN</td>\n",
       "      <td>NaN</td>\n",
       "      <td>NaN</td>\n",
       "      <td>NaN</td>\n",
       "      <td>NaN</td>\n",
       "      <td>...</td>\n",
       "      <td>NaN</td>\n",
       "      <td>NaN</td>\n",
       "      <td>NaN</td>\n",
       "      <td>NaN</td>\n",
       "      <td>NaN</td>\n",
       "      <td>NaN</td>\n",
       "      <td>5.0</td>\n",
       "      <td>NaN</td>\n",
       "      <td>NaN</td>\n",
       "      <td>NaN</td>\n",
       "    </tr>\n",
       "    <tr>\n",
       "      <th>fffcf1fb175cb17786e1c2f83ffe8b8f</th>\n",
       "      <td>NaN</td>\n",
       "      <td>4.0</td>\n",
       "      <td>NaN</td>\n",
       "      <td>NaN</td>\n",
       "      <td>NaN</td>\n",
       "      <td>NaN</td>\n",
       "      <td>NaN</td>\n",
       "      <td>NaN</td>\n",
       "      <td>NaN</td>\n",
       "      <td>NaN</td>\n",
       "      <td>...</td>\n",
       "      <td>NaN</td>\n",
       "      <td>NaN</td>\n",
       "      <td>NaN</td>\n",
       "      <td>NaN</td>\n",
       "      <td>NaN</td>\n",
       "      <td>NaN</td>\n",
       "      <td>NaN</td>\n",
       "      <td>NaN</td>\n",
       "      <td>NaN</td>\n",
       "      <td>NaN</td>\n",
       "    </tr>\n",
       "    <tr>\n",
       "      <th>ffff7cafdaf5196383cb2efca08fb6fe</th>\n",
       "      <td>NaN</td>\n",
       "      <td>5.0</td>\n",
       "      <td>NaN</td>\n",
       "      <td>NaN</td>\n",
       "      <td>NaN</td>\n",
       "      <td>NaN</td>\n",
       "      <td>NaN</td>\n",
       "      <td>NaN</td>\n",
       "      <td>NaN</td>\n",
       "      <td>NaN</td>\n",
       "      <td>...</td>\n",
       "      <td>NaN</td>\n",
       "      <td>NaN</td>\n",
       "      <td>NaN</td>\n",
       "      <td>NaN</td>\n",
       "      <td>NaN</td>\n",
       "      <td>NaN</td>\n",
       "      <td>NaN</td>\n",
       "      <td>NaN</td>\n",
       "      <td>NaN</td>\n",
       "      <td>NaN</td>\n",
       "    </tr>\n",
       "  </tbody>\n",
       "</table>\n",
       "<p>55964 rows × 1949 columns</p>\n",
       "</div>"
      ],
      "text/plain": [
       "book_id                           10025007  10025305  10048874  10118172  \\\n",
       "user_id                                                                    \n",
       "000192962b87d560f00b06fdcbd71681       NaN       NaN       NaN       NaN   \n",
       "000387b0e3d77b6dcc36a66d5cc27347       NaN       4.0       NaN       NaN   \n",
       "0007f8dd09337afd986d765569cf0110       NaN       NaN       NaN       NaN   \n",
       "000883382802f2d95a3dd545bb953882       NaN       5.0       NaN       NaN   \n",
       "000891e40dc9b9a6726caff9232be979       NaN       NaN       NaN       NaN   \n",
       "...                                    ...       ...       ...       ...   \n",
       "fffbeab06c4060af4387a8922bf017cc       NaN       NaN       NaN       NaN   \n",
       "fffcca008c7770bc559e43b2edf24a6d       NaN       5.0       NaN       NaN   \n",
       "fffce7dae5ac5e8fb6288d81658ececc       NaN       NaN       NaN       NaN   \n",
       "fffcf1fb175cb17786e1c2f83ffe8b8f       NaN       4.0       NaN       NaN   \n",
       "ffff7cafdaf5196383cb2efca08fb6fe       NaN       5.0       NaN       NaN   \n",
       "\n",
       "book_id                           10165727  10165761  10174795  10188580  \\\n",
       "user_id                                                                    \n",
       "000192962b87d560f00b06fdcbd71681       NaN       NaN       NaN       NaN   \n",
       "000387b0e3d77b6dcc36a66d5cc27347       NaN       NaN       NaN       NaN   \n",
       "0007f8dd09337afd986d765569cf0110       NaN       NaN       NaN       NaN   \n",
       "000883382802f2d95a3dd545bb953882       NaN       NaN       NaN       NaN   \n",
       "000891e40dc9b9a6726caff9232be979       NaN       NaN       NaN       NaN   \n",
       "...                                    ...       ...       ...       ...   \n",
       "fffbeab06c4060af4387a8922bf017cc       NaN       NaN       NaN       NaN   \n",
       "fffcca008c7770bc559e43b2edf24a6d       NaN       NaN       NaN       NaN   \n",
       "fffce7dae5ac5e8fb6288d81658ececc       NaN       NaN       NaN       NaN   \n",
       "fffcf1fb175cb17786e1c2f83ffe8b8f       NaN       NaN       NaN       NaN   \n",
       "ffff7cafdaf5196383cb2efca08fb6fe       NaN       NaN       NaN       NaN   \n",
       "\n",
       "book_id                           101914  10193062  ...  9917938  9917945  \\\n",
       "user_id                                             ...                     \n",
       "000192962b87d560f00b06fdcbd71681     NaN       NaN  ...      NaN      NaN   \n",
       "000387b0e3d77b6dcc36a66d5cc27347     NaN       NaN  ...      5.0      3.0   \n",
       "0007f8dd09337afd986d765569cf0110     NaN       NaN  ...      NaN      NaN   \n",
       "000883382802f2d95a3dd545bb953882     NaN       NaN  ...      NaN      NaN   \n",
       "000891e40dc9b9a6726caff9232be979     NaN       NaN  ...      NaN      NaN   \n",
       "...                                  ...       ...  ...      ...      ...   \n",
       "fffbeab06c4060af4387a8922bf017cc     NaN       NaN  ...      NaN      2.0   \n",
       "fffcca008c7770bc559e43b2edf24a6d     NaN       NaN  ...      NaN      NaN   \n",
       "fffce7dae5ac5e8fb6288d81658ececc     NaN       NaN  ...      NaN      NaN   \n",
       "fffcf1fb175cb17786e1c2f83ffe8b8f     NaN       NaN  ...      NaN      NaN   \n",
       "ffff7cafdaf5196383cb2efca08fb6fe     NaN       NaN  ...      NaN      NaN   \n",
       "\n",
       "book_id                           9917998  9918083  9918128  99561  9961796  \\\n",
       "user_id                                                                       \n",
       "000192962b87d560f00b06fdcbd71681      NaN      NaN      NaN    4.0      NaN   \n",
       "000387b0e3d77b6dcc36a66d5cc27347      NaN      NaN      NaN    5.0      NaN   \n",
       "0007f8dd09337afd986d765569cf0110      NaN      NaN      NaN    NaN      5.0   \n",
       "000883382802f2d95a3dd545bb953882      NaN      NaN      NaN    NaN      NaN   \n",
       "000891e40dc9b9a6726caff9232be979      NaN      NaN      NaN    5.0      5.0   \n",
       "...                                   ...      ...      ...    ...      ...   \n",
       "fffbeab06c4060af4387a8922bf017cc      NaN      NaN      NaN    NaN      NaN   \n",
       "fffcca008c7770bc559e43b2edf24a6d      NaN      NaN      NaN    3.0      NaN   \n",
       "fffce7dae5ac5e8fb6288d81658ececc      NaN      NaN      NaN    NaN      5.0   \n",
       "fffcf1fb175cb17786e1c2f83ffe8b8f      NaN      NaN      NaN    NaN      NaN   \n",
       "ffff7cafdaf5196383cb2efca08fb6fe      NaN      NaN      NaN    NaN      NaN   \n",
       "\n",
       "book_id                           9972838  9972882  9975679  \n",
       "user_id                                                      \n",
       "000192962b87d560f00b06fdcbd71681      NaN      NaN      NaN  \n",
       "000387b0e3d77b6dcc36a66d5cc27347      NaN      NaN      NaN  \n",
       "0007f8dd09337afd986d765569cf0110      NaN      NaN      NaN  \n",
       "000883382802f2d95a3dd545bb953882      NaN      NaN      NaN  \n",
       "000891e40dc9b9a6726caff9232be979      NaN      NaN      NaN  \n",
       "...                                   ...      ...      ...  \n",
       "fffbeab06c4060af4387a8922bf017cc      NaN      NaN      NaN  \n",
       "fffcca008c7770bc559e43b2edf24a6d      NaN      NaN      NaN  \n",
       "fffce7dae5ac5e8fb6288d81658ececc      NaN      NaN      NaN  \n",
       "fffcf1fb175cb17786e1c2f83ffe8b8f      NaN      NaN      NaN  \n",
       "ffff7cafdaf5196383cb2efca08fb6fe      NaN      NaN      NaN  \n",
       "\n",
       "[55964 rows x 1949 columns]"
      ]
     },
     "execution_count": 7,
     "metadata": {},
     "output_type": "execute_result"
    }
   ],
   "source": [
    "mat"
   ]
  },
  {
   "cell_type": "code",
   "execution_count": 8,
   "id": "6f2c966c",
   "metadata": {},
   "outputs": [
    {
     "data": {
      "text/plain": [
       "((4896776, 10), (544087, 10))"
      ]
     },
     "execution_count": 8,
     "metadata": {},
     "output_type": "execute_result"
    }
   ],
   "source": [
    "# Train/test split\n",
    "train, test = sklearn.model_selection.train_test_split(df, test_size=0.1, random_state=1111)\n",
    "train.shape, test.shape"
   ]
  },
  {
   "cell_type": "code",
   "execution_count": 9,
   "id": "bd8fe6fc",
   "metadata": {},
   "outputs": [],
   "source": [
    "# Save train values\n",
    "mat_trainonly = mat\n",
    "training_mask = np.array(mat_trainonly.notna())\n",
    "train_actuals = np.array(mat_trainonly)[training_mask]\n",
    "\n",
    "# Set all test values to nan\n",
    "zipped_test = np.c_[test['user_id'], test['book_id'], test['rating']]\n",
    "test_mask = np.full(mat.shape, False)\n",
    "for i in range(len(zipped_test)):\n",
    "    row_idx = mat_trainonly.index.get_loc(zipped_test[i][0])\n",
    "    col_idx = mat_trainonly.columns.get_loc(zipped_test[i][1])\n",
    "    test_mask[row_idx, col_idx] = True\n",
    "test_actuals = np.array(mat)[test_mask] # Save test actuals\n",
    "mat_trainonly[test_mask] = np.nan"
   ]
  },
  {
   "cell_type": "code",
   "execution_count": 10,
   "id": "19111099",
   "metadata": {},
   "outputs": [
    {
     "data": {
      "text/plain": [
       "(array([3., 4., 1., ..., 3., 3., 3.]), array([1., 4., 5., ..., 5., 3., 3.]))"
      ]
     },
     "execution_count": 10,
     "metadata": {},
     "output_type": "execute_result"
    }
   ],
   "source": [
    "train_actuals, test_actuals"
   ]
  },
  {
   "cell_type": "code",
   "execution_count": 11,
   "id": "b7be0a1b",
   "metadata": {},
   "outputs": [
    {
     "data": {
      "text/plain": [
       "0.955105860584201"
      ]
     },
     "execution_count": 11,
     "metadata": {},
     "output_type": "execute_result"
    }
   ],
   "source": [
    "# Calculate sparsity of data\n",
    "not_null = mat_trainonly.count().sum()\n",
    "sparsity = 1 - not_null / (mat.shape[0] * mat_trainonly.shape[1])\n",
    "sparsity"
   ]
  },
  {
   "cell_type": "code",
   "execution_count": 12,
   "id": "752bc837",
   "metadata": {},
   "outputs": [
    {
     "data": {
      "text/plain": [
       "book_id\n",
       "2767052     41720\n",
       "41865       36939\n",
       "6148028     35641\n",
       "7260188     34663\n",
       "256683      33513\n",
       "            ...  \n",
       "14762463      107\n",
       "7776692       100\n",
       "18626858      100\n",
       "6596839        82\n",
       "1242729        37\n",
       "Length: 1949, dtype: int64"
      ]
     },
     "execution_count": 12,
     "metadata": {},
     "output_type": "execute_result"
    }
   ],
   "source": [
    "mat_trainonly.count().sort_values(ascending=False)"
   ]
  },
  {
   "cell_type": "code",
   "execution_count": 13,
   "id": "34309974",
   "metadata": {},
   "outputs": [],
   "source": [
    "# Calculate average rating for each book over users\n",
    "avg_book_rating = np.nanmean(mat_trainonly, axis=0) # column avg r_j\n",
    "# For empty columns, fill with avg rating\n",
    "np.nan_to_num(avg_book_rating, copy=False, nan=avg_rating)\n",
    "\n",
    "# Fill missing value with the appropriate average for that book\n",
    "filled = np.where(np.isnan(mat_trainonly), avg_book_rating, mat_trainonly)\n",
    "\n",
    "# Remove from each user (row) the mean over all books\n",
    "avg_user_rating = np.average(filled, axis=1) # row avg r_i\n",
    "avg_user_rating_col_vec = avg_user_rating.reshape(len(avg_user_rating),1)\n",
    "normalized = filled - avg_user_rating_col_vec"
   ]
  },
  {
   "cell_type": "code",
   "execution_count": 14,
   "id": "01926d0f",
   "metadata": {},
   "outputs": [],
   "source": [
    "# Helper functions for prediction calculation\n",
    "## Select/Rearrange the solumns of arr to match the indices (given by idx)\n",
    "def select_cols(arr, idx):\n",
    "    rows = np.indices(idx.shape)[0]\n",
    "    return arr[rows, idx]\n",
    "\n",
    "## Set the select columns of arr specified by idx to the corresponding values in vals\n",
    "def set_select_cols(arr, vals, idx):\n",
    "    selected_vals = select_cols(vals, idx)\n",
    "    rows = np.indices(idx.shape)[0]\n",
    "    arr[rows, idx] = selected_vals\n",
    "    \n",
    "# Helper function for evaluation\n",
    "## Define error function\n",
    "def rmse(predictions, actuals):\n",
    "    return np.sqrt(((predictions - actuals) ** 2).mean())"
   ]
  },
  {
   "cell_type": "code",
   "execution_count": 45,
   "id": "27ab6f05",
   "metadata": {},
   "outputs": [],
   "source": [
    "# Tune rank k for SVD\n",
    "ks = [1,2,3,4,5,6,7,8,9,10,11,12,13,15,17,19]\n",
    "errors4k = pd.DataFrame(index=ks, columns=['train_rmse', 'test_rmse'])\n",
    "\n",
    "for k in ks:\n",
    "    # Perform SVD using rank k\n",
    "    U, S, VT = scipy.sparse.linalg.svds(normalized, k=k)\n",
    "    # Calculate a reduced rating matrix to remove noise\n",
    "    reduced_rating = U @ np.diag(S) @ VT\n",
    "    # Calculate matrix product for dimensionality-reduced rating matrix\n",
    "    sqrtS = np.diag(np.sqrt(S))\n",
    "    meta_on_users = U @ np.transpose(sqrtS)\n",
    "    meta_on_items = sqrtS @ VT\n",
    "    # Calculate similarities between books\n",
    "    num_books = reduced_rating.shape[1]\n",
    "    similarities = pw.cosine_similarity(meta_on_items.T, meta_on_items.T)\n",
    "    # Calculate prediction of rating by user i of book j, by avging over the ratings of all books by the same user, each weighted according to its similarity to book j\n",
    "    num_users = reduced_rating.shape[0]\n",
    "    predictions = np.zeros((num_users, num_books))\n",
    "    # Isolate the set of items which appear to be the most similar to the active item. Vozalis suggests 10 items is best.\n",
    "    adjusted_rating = reduced_rating + avg_user_rating[:,np.newaxis]\n",
    "\n",
    "    most_similar_idx = np.argsort(similarities, axis=1)[:,:-11:-1]\n",
    "    nonneg_sims = np.where(similarities > 0, similarities, 0)\n",
    "    selected_sims = np.zeros(nonneg_sims.shape)\n",
    "    set_select_cols(selected_sims, nonneg_sims, most_similar_idx)\n",
    "\n",
    "    numerator = adjusted_rating @ selected_sims.T\n",
    "    denominator = np.sum(selected_sims, axis=1)\n",
    "    predictions = np.divide(numerator, denominator)\n",
    "    # Calculate training error\n",
    "    train_predictions = predictions[training_mask]\n",
    "    train_rmse = rmse(train_predictions, train_actuals)\n",
    "    errors4k['train_rmse'][k] = train_rmse\n",
    "    # Calculate test error\n",
    "    test_predictions = predictions[test_mask]\n",
    "    test_rmse = rmse(test_predictions, test_actuals)\n",
    "    errors4k['test_rmse'][k] = test_rmse"
   ]
  },
  {
   "cell_type": "code",
   "execution_count": 16,
   "id": "6cf5dbdb",
   "metadata": {},
   "outputs": [
    {
     "data": {
      "text/plain": [
       "(array([3., 4., 1., ..., 3., 3., 3.]), array([1., 4., 5., ..., 5., 3., 3.]))"
      ]
     },
     "execution_count": 16,
     "metadata": {},
     "output_type": "execute_result"
    }
   ],
   "source": [
    "train_actuals, test_actuals"
   ]
  },
  {
   "cell_type": "code",
   "execution_count": 17,
   "id": "adca6606",
   "metadata": {},
   "outputs": [
    {
     "data": {
      "text/html": [
       "<div>\n",
       "<style scoped>\n",
       "    .dataframe tbody tr th:only-of-type {\n",
       "        vertical-align: middle;\n",
       "    }\n",
       "\n",
       "    .dataframe tbody tr th {\n",
       "        vertical-align: top;\n",
       "    }\n",
       "\n",
       "    .dataframe thead th {\n",
       "        text-align: right;\n",
       "    }\n",
       "</style>\n",
       "<table border=\"1\" class=\"dataframe\">\n",
       "  <thead>\n",
       "    <tr style=\"text-align: right;\">\n",
       "      <th></th>\n",
       "      <th>train_rmse</th>\n",
       "      <th>test_rmse</th>\n",
       "    </tr>\n",
       "  </thead>\n",
       "  <tbody>\n",
       "    <tr>\n",
       "      <th>1</th>\n",
       "      <td>0.958952</td>\n",
       "      <td>0.959992</td>\n",
       "    </tr>\n",
       "    <tr>\n",
       "      <th>2</th>\n",
       "      <td>0.933502</td>\n",
       "      <td>0.93766</td>\n",
       "    </tr>\n",
       "    <tr>\n",
       "      <th>3</th>\n",
       "      <td>0.92247</td>\n",
       "      <td>0.928929</td>\n",
       "    </tr>\n",
       "    <tr>\n",
       "      <th>4</th>\n",
       "      <td>0.912694</td>\n",
       "      <td>0.92078</td>\n",
       "    </tr>\n",
       "    <tr>\n",
       "      <th>5</th>\n",
       "      <td>0.907953</td>\n",
       "      <td>0.917927</td>\n",
       "    </tr>\n",
       "    <tr>\n",
       "      <th>6</th>\n",
       "      <td>0.903075</td>\n",
       "      <td>0.914535</td>\n",
       "    </tr>\n",
       "    <tr>\n",
       "      <th>7</th>\n",
       "      <td>0.899424</td>\n",
       "      <td>0.912491</td>\n",
       "    </tr>\n",
       "    <tr>\n",
       "      <th>8</th>\n",
       "      <td>0.895774</td>\n",
       "      <td>0.910239</td>\n",
       "    </tr>\n",
       "    <tr>\n",
       "      <th>9</th>\n",
       "      <td>0.895533</td>\n",
       "      <td>0.911364</td>\n",
       "    </tr>\n",
       "    <tr>\n",
       "      <th>10</th>\n",
       "      <td>0.89317</td>\n",
       "      <td>0.910287</td>\n",
       "    </tr>\n",
       "    <tr>\n",
       "      <th>11</th>\n",
       "      <td>0.89017</td>\n",
       "      <td>0.908735</td>\n",
       "    </tr>\n",
       "    <tr>\n",
       "      <th>12</th>\n",
       "      <td>0.888095</td>\n",
       "      <td>0.907927</td>\n",
       "    </tr>\n",
       "    <tr>\n",
       "      <th>13</th>\n",
       "      <td>0.885991</td>\n",
       "      <td>0.907049</td>\n",
       "    </tr>\n",
       "    <tr>\n",
       "      <th>15</th>\n",
       "      <td>0.882798</td>\n",
       "      <td>0.905612</td>\n",
       "    </tr>\n",
       "    <tr>\n",
       "      <th>17</th>\n",
       "      <td>0.879996</td>\n",
       "      <td>0.905002</td>\n",
       "    </tr>\n",
       "    <tr>\n",
       "      <th>19</th>\n",
       "      <td>0.877395</td>\n",
       "      <td>0.904359</td>\n",
       "    </tr>\n",
       "  </tbody>\n",
       "</table>\n",
       "</div>"
      ],
      "text/plain": [
       "   train_rmse test_rmse\n",
       "1    0.958952  0.959992\n",
       "2    0.933502   0.93766\n",
       "3     0.92247  0.928929\n",
       "4    0.912694   0.92078\n",
       "5    0.907953  0.917927\n",
       "6    0.903075  0.914535\n",
       "7    0.899424  0.912491\n",
       "8    0.895774  0.910239\n",
       "9    0.895533  0.911364\n",
       "10    0.89317  0.910287\n",
       "11    0.89017  0.908735\n",
       "12   0.888095  0.907927\n",
       "13   0.885991  0.907049\n",
       "15   0.882798  0.905612\n",
       "17   0.879996  0.905002\n",
       "19   0.877395  0.904359"
      ]
     },
     "execution_count": 17,
     "metadata": {},
     "output_type": "execute_result"
    }
   ],
   "source": [
    "errors4k"
   ]
  },
  {
   "cell_type": "code",
   "execution_count": 18,
   "id": "49011ab1",
   "metadata": {},
   "outputs": [
    {
     "data": {
      "text/plain": [
       "(0.9541257664501664, 0.9543001512881961)"
      ]
     },
     "execution_count": 18,
     "metadata": {},
     "output_type": "execute_result"
    }
   ],
   "source": [
    "# BEST COMPARISON\n",
    "# Calculate error if just rated everything the avg rating per book across all users\n",
    "avg_book_rating_row = avg_book_rating.reshape((1, mat_trainonly.shape[1]))\n",
    "mat_bookavg = pd.DataFrame(np.repeat(avg_book_rating_row, mat_trainonly.shape[0], axis=0), index=mat_trainonly.index, columns=mat_trainonly.columns)\n",
    "\n",
    "book_avg_train = np.array(mat_bookavg)[training_mask]\n",
    "book_avg_train_rmse = rmse(book_avg_train, train_actuals)\n",
    "book_avg_test = np.array(mat_bookavg)[test_mask]\n",
    "book_avg_test_rmse = rmse(book_avg_test, test_actuals)\n",
    "book_avg_train_rmse, book_avg_test_rmse"
   ]
  },
  {
   "cell_type": "code",
   "execution_count": 23,
   "id": "c5b181e9",
   "metadata": {},
   "outputs": [
    {
     "data": {
      "image/png": "[encoded data removed]",
      "text/plain": [
       "<Figure size 432x288 with 1 Axes>"
      ]
     },
     "metadata": {
      "needs_background": "light"
     },
     "output_type": "display_data"
    }
   ],
   "source": [
    "plt.plot(ks, np.repeat(book_avg_test_rmse, len(ks)), label='Avg rating per book across all users')\n",
    "plt.plot(ks, errors4k['test_rmse'], label='Item-based filtering with SVD, neighborhood size = 10')\n",
    "plt.xlabel('Rank k for SVD')\n",
    "plt.ylabel('RMSE')\n",
    "plt.legend()\n",
    "plt.show()"
   ]
  },
  {
   "cell_type": "code",
   "execution_count": 46,
   "id": "2d8d4838",
   "metadata": {},
   "outputs": [
    {
     "data": {
      "image/png": "[encoded data removed]",
      "text/plain": [
       "<Figure size 432x288 with 1 Axes>"
      ]
     },
     "metadata": {
      "needs_background": "light"
     },
     "output_type": "display_data"
    }
   ],
   "source": [
    "plt.plot(ks, errors4k['test_rmse'], label='Item-based filtering with SVD, neighborhood size = 10')\n",
    "plt.xlabel('Rank k for SVD')\n",
    "plt.ylabel('RMSE')\n",
    "plt.show()"
   ]
  },
  {
   "cell_type": "markdown",
   "id": "945113df",
   "metadata": {},
   "source": [
    "Optimal is k=6"
   ]
  },
  {
   "cell_type": "code",
   "execution_count": 22,
   "id": "ad4d01f5",
   "metadata": {},
   "outputs": [
    {
     "data": {
      "text/plain": [
       "train_rmse    0.903075\n",
       "test_rmse     0.914535\n",
       "Name: 6, dtype: object"
      ]
     },
     "execution_count": 22,
     "metadata": {},
     "output_type": "execute_result"
    }
   ],
   "source": [
    "errors4k.loc[6]"
   ]
  },
  {
   "cell_type": "code",
   "execution_count": 30,
   "id": "78550c85",
   "metadata": {},
   "outputs": [
    {
     "data": {
      "text/plain": [
       "(array([3., 4., 1., ..., 3., 3., 3.]), array([1., 4., 5., ..., 5., 3., 3.]))"
      ]
     },
     "execution_count": 30,
     "metadata": {},
     "output_type": "execute_result"
    }
   ],
   "source": [
    "train_actuals, test_actuals"
   ]
  },
  {
   "cell_type": "code",
   "execution_count": 31,
   "id": "3d43cfcf",
   "metadata": {},
   "outputs": [
    {
     "data": {
      "text/plain": [
       "(array([3.94533394, 4.09460356, 3.43988187, ..., 3.58712615, 3.62873943,\n",
       "        3.54240459]),\n",
       " array([3.43988187, 4.1645668 , 4.09908086, ..., 3.52520418, 3.37106323,\n",
       "        3.54240459]))"
      ]
     },
     "execution_count": 31,
     "metadata": {},
     "output_type": "execute_result"
    }
   ],
   "source": [
    "train_predictions, test_predictions"
   ]
  },
  {
   "cell_type": "code",
   "execution_count": 38,
   "id": "c2c6d97f",
   "metadata": {},
   "outputs": [],
   "source": [
    "# Tune neighborhood size\n",
    "neighs = range(10,110,10)\n",
    "errors4neighs = pd.DataFrame(index=neighs, columns=['train_rmse', 'test_rmse'])\n",
    "\n",
    "for neigh in neighs:\n",
    "    # Perform SVD using rank k\n",
    "    U, S, VT = scipy.sparse.linalg.svds(normalized, k=6)\n",
    "    # Calculate a reduced rating matrix to remove noise\n",
    "    reduced_rating = U @ np.diag(S) @ VT\n",
    "    # Calculate matrix product for dimensionality-reduced rating matrix\n",
    "    sqrtS = np.diag(np.sqrt(S))\n",
    "    meta_on_users = U @ np.transpose(sqrtS)\n",
    "    meta_on_items = sqrtS @ VT\n",
    "    # Calculate similarities between books\n",
    "    num_books = reduced_rating.shape[1]\n",
    "    similarities = pw.cosine_similarity(meta_on_items.T, meta_on_items.T)\n",
    "    # Calculate prediction of rating by user i of book j, by avging over the ratings of all books by the same user, each weighted according to its similarity to book j\n",
    "    num_users = reduced_rating.shape[0]\n",
    "    predictions = np.zeros((num_users, num_books))\n",
    "    # Isolate the set of items which appear to be the most similar to the active item. Vozalis suggests 10 items is best.\n",
    "    adjusted_rating = reduced_rating + avg_user_rating[:,np.newaxis]\n",
    "\n",
    "    most_similar_idx = np.argsort(similarities, axis=1)[:,:-neigh-1:-1]\n",
    "    nonneg_sims = np.where(similarities > 0, similarities, 0)\n",
    "    selected_sims = np.zeros(nonneg_sims.shape)\n",
    "    set_select_cols(selected_sims, nonneg_sims, most_similar_idx)\n",
    "\n",
    "    numerator = adjusted_rating @ selected_sims.T\n",
    "    denominator = np.sum(selected_sims, axis=1)\n",
    "    predictions = np.divide(numerator, denominator)\n",
    "    # Calculate training error\n",
    "    train_predictions = predictions[training_mask]\n",
    "    train_rmse = rmse(train_predictions, train_actuals)\n",
    "    errors4neighs['train_rmse'][neigh] = train_rmse\n",
    "    # Calculate test error\n",
    "    test_predictions = predictions[test_mask]\n",
    "    test_rmse = rmse(test_predictions, test_actuals)\n",
    "    errors4neighs['test_rmse'][neigh] = test_rmse"
   ]
  },
  {
   "cell_type": "code",
   "execution_count": 39,
   "id": "ded942a5",
   "metadata": {},
   "outputs": [
    {
     "data": {
      "text/html": [
       "<div>\n",
       "<style scoped>\n",
       "    .dataframe tbody tr th:only-of-type {\n",
       "        vertical-align: middle;\n",
       "    }\n",
       "\n",
       "    .dataframe tbody tr th {\n",
       "        vertical-align: top;\n",
       "    }\n",
       "\n",
       "    .dataframe thead th {\n",
       "        text-align: right;\n",
       "    }\n",
       "</style>\n",
       "<table border=\"1\" class=\"dataframe\">\n",
       "  <thead>\n",
       "    <tr style=\"text-align: right;\">\n",
       "      <th></th>\n",
       "      <th>train_rmse</th>\n",
       "      <th>test_rmse</th>\n",
       "    </tr>\n",
       "  </thead>\n",
       "  <tbody>\n",
       "    <tr>\n",
       "      <th>10</th>\n",
       "      <td>0.903075</td>\n",
       "      <td>0.914535</td>\n",
       "    </tr>\n",
       "    <tr>\n",
       "      <th>20</th>\n",
       "      <td>0.912225</td>\n",
       "      <td>0.92148</td>\n",
       "    </tr>\n",
       "    <tr>\n",
       "      <th>30</th>\n",
       "      <td>0.917333</td>\n",
       "      <td>0.925379</td>\n",
       "    </tr>\n",
       "    <tr>\n",
       "      <th>40</th>\n",
       "      <td>0.920503</td>\n",
       "      <td>0.927802</td>\n",
       "    </tr>\n",
       "    <tr>\n",
       "      <th>50</th>\n",
       "      <td>0.922676</td>\n",
       "      <td>0.929447</td>\n",
       "    </tr>\n",
       "    <tr>\n",
       "      <th>60</th>\n",
       "      <td>0.924671</td>\n",
       "      <td>0.931018</td>\n",
       "    </tr>\n",
       "    <tr>\n",
       "      <th>70</th>\n",
       "      <td>0.926263</td>\n",
       "      <td>0.932288</td>\n",
       "    </tr>\n",
       "    <tr>\n",
       "      <th>80</th>\n",
       "      <td>0.927516</td>\n",
       "      <td>0.93325</td>\n",
       "    </tr>\n",
       "    <tr>\n",
       "      <th>90</th>\n",
       "      <td>0.928752</td>\n",
       "      <td>0.934234</td>\n",
       "    </tr>\n",
       "    <tr>\n",
       "      <th>100</th>\n",
       "      <td>0.929831</td>\n",
       "      <td>0.935085</td>\n",
       "    </tr>\n",
       "  </tbody>\n",
       "</table>\n",
       "</div>"
      ],
      "text/plain": [
       "    train_rmse test_rmse\n",
       "10    0.903075  0.914535\n",
       "20    0.912225   0.92148\n",
       "30    0.917333  0.925379\n",
       "40    0.920503  0.927802\n",
       "50    0.922676  0.929447\n",
       "60    0.924671  0.931018\n",
       "70    0.926263  0.932288\n",
       "80    0.927516   0.93325\n",
       "90    0.928752  0.934234\n",
       "100   0.929831  0.935085"
      ]
     },
     "execution_count": 39,
     "metadata": {},
     "output_type": "execute_result"
    }
   ],
   "source": [
    "errors4neighs"
   ]
  },
  {
   "cell_type": "code",
   "execution_count": 40,
   "id": "d0dd0c86",
   "metadata": {},
   "outputs": [
    {
     "data": {
      "image/png": "[encoded data removed]",
      "text/plain": [
       "<Figure size 432x288 with 1 Axes>"
      ]
     },
     "metadata": {
      "needs_background": "light"
     },
     "output_type": "display_data"
    }
   ],
   "source": [
    "plt.plot(neighs, np.repeat(book_avg_test_rmse, len(neighs)), label='Avg rating per book across all users')\n",
    "plt.plot(neighs, errors4neighs['test_rmse'], label='Item-based filtering with SVD, k=6')\n",
    "plt.xlabel('Neighborhood size')\n",
    "plt.ylabel('RMSE')\n",
    "plt.legend()\n",
    "plt.show()"
   ]
  },
  {
   "cell_type": "code",
   "execution_count": 47,
   "id": "7f9c7729",
   "metadata": {},
   "outputs": [
    {
     "data": {
      "image/png": "[encoded data removed]",
      "text/plain": [
       "<Figure size 432x288 with 1 Axes>"
      ]
     },
     "metadata": {
      "needs_background": "light"
     },
     "output_type": "display_data"
    }
   ],
   "source": [
    "plt.plot(neighs, errors4neighs['test_rmse'], label='Item-based filtering with SVD, k=6')\n",
    "plt.xlabel('Neighborhood size')\n",
    "plt.ylabel('RMSE')\n",
    "plt.show()"
   ]
  },
  {
   "cell_type": "code",
   "execution_count": null,
   "id": "b8724345",
   "metadata": {},
   "outputs": [],
   "source": []
  }
 ],
 "metadata": {
  "kernelspec": {
   "display_name": "Python 3",
   "language": "python",
   "name": "python3"
  },
  "language_info": {
   "codemirror_mode": {
    "name": "ipython",
    "version": 3
   },
   "file_extension": ".py",
   "mimetype": "text/x-python",
   "name": "python",
   "nbconvert_exporter": "python",
   "pygments_lexer": "ipython3",
   "version": "3.8.8"
  }
 },
 "nbformat": 4,
 "nbformat_minor": 5
}
