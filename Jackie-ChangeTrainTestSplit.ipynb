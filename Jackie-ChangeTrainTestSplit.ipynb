{
 "cells": [
  {
   "cell_type": "code",
   "execution_count": 1,
   "id": "397c4628",
   "metadata": {},
   "outputs": [],
   "source": [
    "import gzip\n",
    "import json\n",
    "import re\n",
    "import os\n",
    "import sys\n",
    "import numpy as np\n",
    "import pandas as pd\n",
    "import sklearn.model_selection\n",
    "import scipy\n",
    "import sklearn.metrics.pairwise as pw\n",
    "from time import time\n",
    "import matplotlib.pyplot as plt"
   ]
  },
  {
   "cell_type": "code",
   "execution_count": 2,
   "id": "fedea9cc",
   "metadata": {},
   "outputs": [],
   "source": [
    "# Specify your directory\n",
    "DIR = r'C:\\Users\\Jackie\\OneDrive - Georgia Institute of Technology\\ISYE6740 Computational Data Analytics\\Project\\Data\\Genres\\YoungAdult'"
   ]
  },
  {
   "cell_type": "code",
   "execution_count": 3,
   "id": "a7e290f8",
   "metadata": {},
   "outputs": [],
   "source": [
    "def load_data(file_name):\n",
    "    count = 0\n",
    "    data = []\n",
    "    with gzip.open(file_name) as fin:\n",
    "        for l in fin:\n",
    "            d = json.loads(l)\n",
    "            count += 1\n",
    "            data.append(d)\n",
    "    return data"
   ]
  },
  {
   "cell_type": "code",
   "execution_count": 4,
   "id": "485b2c98",
   "metadata": {},
   "outputs": [],
   "source": [
    "# The Young Adult genre has the highest interaction / book ratio: 34,919,254 interactions and 93,398 books\n",
    "#interactions = load_data(os.path.join(DIR, 'goodreads_interactions_young_adult.json.gz'))"
   ]
  },
  {
   "cell_type": "code",
   "execution_count": 5,
   "id": "bc57ee77",
   "metadata": {},
   "outputs": [],
   "source": [
    "def load_data(file_name, head = 100000): # should be 1000000\n",
    "    count = 0\n",
    "    data = []\n",
    "    with gzip.open(file_name) as fin:\n",
    "        for l in fin:\n",
    "            d = json.loads(l)\n",
    "            count += 1\n",
    "            data.append(d)\n",
    "            \n",
    "            # break if reaches the \"head\"th line\n",
    "            if (head is not None) and (count > head):\n",
    "                break\n",
    "    return data"
   ]
  },
  {
   "cell_type": "code",
   "execution_count": 6,
   "id": "83e80cfd",
   "metadata": {},
   "outputs": [],
   "source": [
    "interactions_sample = load_data(os.path.join(DIR, 'goodreads_interactions_young_adult.json.gz'))"
   ]
  },
  {
   "cell_type": "code",
   "execution_count": 7,
   "id": "9ae76aff",
   "metadata": {},
   "outputs": [
    {
     "name": "stdout",
     "output_type": "stream",
     "text": [
      " == sample record (interaction) ==\n"
     ]
    },
    {
     "data": {
      "text/plain": [
       "{'user_id': 'ee09dc36f49d9f1310f3f29618f9ba8c',\n",
       " 'book_id': '18879761',\n",
       " 'review_id': '43cc9fa22e0682ca963db8d67fd61357',\n",
       " 'is_read': False,\n",
       " 'rating': 0,\n",
       " 'review_text_incomplete': '',\n",
       " 'date_added': 'Mon Dec 07 02:41:45 -0800 2015',\n",
       " 'date_updated': 'Mon Dec 07 02:41:45 -0800 2015',\n",
       " 'read_at': '',\n",
       " 'started_at': ''}"
      ]
     },
     "metadata": {},
     "output_type": "display_data"
    }
   ],
   "source": [
    "print(' == sample record (interaction) ==')\n",
    "display(np.random.choice(interactions_sample))"
   ]
  },
  {
   "cell_type": "code",
   "execution_count": 8,
   "id": "c0cc5678",
   "metadata": {},
   "outputs": [],
   "source": [
    "df = pd.json_normalize(interactions_sample)"
   ]
  },
  {
   "cell_type": "code",
   "execution_count": 9,
   "id": "9d21e60f",
   "metadata": {},
   "outputs": [],
   "source": [
    "# Filter to books that the user has read\n",
    "is_read = np.logical_and(df['is_read'] == True, df['rating'] != 0) # a book can be read but still have a rating of 0\n",
    "is_read_df = df[is_read]"
   ]
  },
  {
   "cell_type": "code",
   "execution_count": 10,
   "id": "5f19e9ee",
   "metadata": {},
   "outputs": [
    {
     "data": {
      "text/html": [
       "<div>\n",
       "<style scoped>\n",
       "    .dataframe tbody tr th:only-of-type {\n",
       "        vertical-align: middle;\n",
       "    }\n",
       "\n",
       "    .dataframe tbody tr th {\n",
       "        vertical-align: top;\n",
       "    }\n",
       "\n",
       "    .dataframe thead th {\n",
       "        text-align: right;\n",
       "    }\n",
       "</style>\n",
       "<table border=\"1\" class=\"dataframe\">\n",
       "  <thead>\n",
       "    <tr style=\"text-align: right;\">\n",
       "      <th></th>\n",
       "      <th>user_id</th>\n",
       "      <th>book_id</th>\n",
       "      <th>review_id</th>\n",
       "      <th>is_read</th>\n",
       "      <th>rating</th>\n",
       "      <th>review_text_incomplete</th>\n",
       "      <th>date_added</th>\n",
       "      <th>date_updated</th>\n",
       "      <th>read_at</th>\n",
       "      <th>started_at</th>\n",
       "    </tr>\n",
       "  </thead>\n",
       "  <tbody>\n",
       "    <tr>\n",
       "      <th>3</th>\n",
       "      <td>8842281e1d1347389f2ab93d60773d4d</td>\n",
       "      <td>8684868</td>\n",
       "      <td>d29b8238762d70b7c2b67941bc81fbe0</td>\n",
       "      <td>True</td>\n",
       "      <td>3</td>\n",
       "      <td></td>\n",
       "      <td>Tue Dec 17 13:42:25 -0800 2013</td>\n",
       "      <td>Tue Dec 17 13:47:26 -0800 2013</td>\n",
       "      <td>Sun Dec 15 00:00:00 -0800 2013</td>\n",
       "      <td>Sat Dec 14 00:00:00 -0800 2013</td>\n",
       "    </tr>\n",
       "    <tr>\n",
       "      <th>4</th>\n",
       "      <td>8842281e1d1347389f2ab93d60773d4d</td>\n",
       "      <td>8423493</td>\n",
       "      <td>357c8c178fd0e06cff5c025649231672</td>\n",
       "      <td>True</td>\n",
       "      <td>2</td>\n",
       "      <td></td>\n",
       "      <td>Sun Dec 08 01:26:12 -0800 2013</td>\n",
       "      <td>Tue Dec 27 05:37:48 -0800 2016</td>\n",
       "      <td>Tue Dec 10 00:00:00 -0800 2013</td>\n",
       "      <td></td>\n",
       "    </tr>\n",
       "    <tr>\n",
       "      <th>5</th>\n",
       "      <td>8842281e1d1347389f2ab93d60773d4d</td>\n",
       "      <td>87976</td>\n",
       "      <td>e6306259819c47f278e78d32a1b73ddf</td>\n",
       "      <td>True</td>\n",
       "      <td>5</td>\n",
       "      <td></td>\n",
       "      <td>Wed Oct 17 17:49:11 -0700 2012</td>\n",
       "      <td>Wed Oct 17 17:49:11 -0700 2012</td>\n",
       "      <td></td>\n",
       "      <td></td>\n",
       "    </tr>\n",
       "    <tr>\n",
       "      <th>6</th>\n",
       "      <td>8842281e1d1347389f2ab93d60773d4d</td>\n",
       "      <td>18116</td>\n",
       "      <td>8aa100c7b681e9fedbe2c6bd2c25696a</td>\n",
       "      <td>True</td>\n",
       "      <td>5</td>\n",
       "      <td></td>\n",
       "      <td>Fri Apr 29 13:14:05 -0700 2011</td>\n",
       "      <td>Fri Apr 29 13:14:05 -0700 2011</td>\n",
       "      <td></td>\n",
       "      <td></td>\n",
       "    </tr>\n",
       "    <tr>\n",
       "      <th>7</th>\n",
       "      <td>8842281e1d1347389f2ab93d60773d4d</td>\n",
       "      <td>2767052</td>\n",
       "      <td>248c011811e945eca861b5c31a549291</td>\n",
       "      <td>True</td>\n",
       "      <td>5</td>\n",
       "      <td>I cracked and finally picked this up. Very enj...</td>\n",
       "      <td>Wed Jan 13 13:38:25 -0800 2010</td>\n",
       "      <td>Wed Mar 22 11:46:36 -0700 2017</td>\n",
       "      <td>Sun Mar 25 00:00:00 -0700 2012</td>\n",
       "      <td>Fri Mar 23 00:00:00 -0700 2012</td>\n",
       "    </tr>\n",
       "    <tr>\n",
       "      <th>...</th>\n",
       "      <td>...</td>\n",
       "      <td>...</td>\n",
       "      <td>...</td>\n",
       "      <td>...</td>\n",
       "      <td>...</td>\n",
       "      <td>...</td>\n",
       "      <td>...</td>\n",
       "      <td>...</td>\n",
       "      <td>...</td>\n",
       "      <td>...</td>\n",
       "    </tr>\n",
       "    <tr>\n",
       "      <th>99996</th>\n",
       "      <td>0f5fc19df1217a396ca9bbc48a15b5a4</td>\n",
       "      <td>259068</td>\n",
       "      <td>02d56d6361b3a8592ecb673b6b2e1361</td>\n",
       "      <td>True</td>\n",
       "      <td>5</td>\n",
       "      <td></td>\n",
       "      <td>Sat Jun 09 08:34:31 -0700 2012</td>\n",
       "      <td>Sat Jun 09 08:34:31 -0700 2012</td>\n",
       "      <td></td>\n",
       "      <td></td>\n",
       "    </tr>\n",
       "    <tr>\n",
       "      <th>99997</th>\n",
       "      <td>0f5fc19df1217a396ca9bbc48a15b5a4</td>\n",
       "      <td>6609765</td>\n",
       "      <td>347f8c1cb55fc44c73b6bb94f0f50a4b</td>\n",
       "      <td>True</td>\n",
       "      <td>5</td>\n",
       "      <td></td>\n",
       "      <td>Sat Jun 09 08:32:04 -0700 2012</td>\n",
       "      <td>Sat Jun 09 08:32:04 -0700 2012</td>\n",
       "      <td></td>\n",
       "      <td></td>\n",
       "    </tr>\n",
       "    <tr>\n",
       "      <th>99998</th>\n",
       "      <td>0f5fc19df1217a396ca9bbc48a15b5a4</td>\n",
       "      <td>155370</td>\n",
       "      <td>d81cdd254d20cf0966ee85ef201deb52</td>\n",
       "      <td>True</td>\n",
       "      <td>5</td>\n",
       "      <td></td>\n",
       "      <td>Sat Jun 09 08:31:39 -0700 2012</td>\n",
       "      <td>Sat Jun 09 08:31:39 -0700 2012</td>\n",
       "      <td></td>\n",
       "      <td></td>\n",
       "    </tr>\n",
       "    <tr>\n",
       "      <th>99999</th>\n",
       "      <td>0f5fc19df1217a396ca9bbc48a15b5a4</td>\n",
       "      <td>10327303</td>\n",
       "      <td>94ab3829c7713db968d1a5798e9ea566</td>\n",
       "      <td>True</td>\n",
       "      <td>5</td>\n",
       "      <td></td>\n",
       "      <td>Sat Jun 09 08:30:38 -0700 2012</td>\n",
       "      <td>Sat Jun 09 08:30:38 -0700 2012</td>\n",
       "      <td></td>\n",
       "      <td></td>\n",
       "    </tr>\n",
       "    <tr>\n",
       "      <th>100000</th>\n",
       "      <td>0f5fc19df1217a396ca9bbc48a15b5a4</td>\n",
       "      <td>9520360</td>\n",
       "      <td>2fc575ef37493d21746467d5e04e0860</td>\n",
       "      <td>True</td>\n",
       "      <td>5</td>\n",
       "      <td></td>\n",
       "      <td>Sat Jun 09 08:30:33 -0700 2012</td>\n",
       "      <td>Sat Jun 09 08:30:33 -0700 2012</td>\n",
       "      <td></td>\n",
       "      <td></td>\n",
       "    </tr>\n",
       "  </tbody>\n",
       "</table>\n",
       "<p>42464 rows × 10 columns</p>\n",
       "</div>"
      ],
      "text/plain": [
       "                                 user_id   book_id  \\\n",
       "3       8842281e1d1347389f2ab93d60773d4d   8684868   \n",
       "4       8842281e1d1347389f2ab93d60773d4d   8423493   \n",
       "5       8842281e1d1347389f2ab93d60773d4d     87976   \n",
       "6       8842281e1d1347389f2ab93d60773d4d     18116   \n",
       "7       8842281e1d1347389f2ab93d60773d4d   2767052   \n",
       "...                                  ...       ...   \n",
       "99996   0f5fc19df1217a396ca9bbc48a15b5a4    259068   \n",
       "99997   0f5fc19df1217a396ca9bbc48a15b5a4   6609765   \n",
       "99998   0f5fc19df1217a396ca9bbc48a15b5a4    155370   \n",
       "99999   0f5fc19df1217a396ca9bbc48a15b5a4  10327303   \n",
       "100000  0f5fc19df1217a396ca9bbc48a15b5a4   9520360   \n",
       "\n",
       "                               review_id  is_read  rating  \\\n",
       "3       d29b8238762d70b7c2b67941bc81fbe0     True       3   \n",
       "4       357c8c178fd0e06cff5c025649231672     True       2   \n",
       "5       e6306259819c47f278e78d32a1b73ddf     True       5   \n",
       "6       8aa100c7b681e9fedbe2c6bd2c25696a     True       5   \n",
       "7       248c011811e945eca861b5c31a549291     True       5   \n",
       "...                                  ...      ...     ...   \n",
       "99996   02d56d6361b3a8592ecb673b6b2e1361     True       5   \n",
       "99997   347f8c1cb55fc44c73b6bb94f0f50a4b     True       5   \n",
       "99998   d81cdd254d20cf0966ee85ef201deb52     True       5   \n",
       "99999   94ab3829c7713db968d1a5798e9ea566     True       5   \n",
       "100000  2fc575ef37493d21746467d5e04e0860     True       5   \n",
       "\n",
       "                                   review_text_incomplete  \\\n",
       "3                                                           \n",
       "4                                                           \n",
       "5                                                           \n",
       "6                                                           \n",
       "7       I cracked and finally picked this up. Very enj...   \n",
       "...                                                   ...   \n",
       "99996                                                       \n",
       "99997                                                       \n",
       "99998                                                       \n",
       "99999                                                       \n",
       "100000                                                      \n",
       "\n",
       "                            date_added                    date_updated  \\\n",
       "3       Tue Dec 17 13:42:25 -0800 2013  Tue Dec 17 13:47:26 -0800 2013   \n",
       "4       Sun Dec 08 01:26:12 -0800 2013  Tue Dec 27 05:37:48 -0800 2016   \n",
       "5       Wed Oct 17 17:49:11 -0700 2012  Wed Oct 17 17:49:11 -0700 2012   \n",
       "6       Fri Apr 29 13:14:05 -0700 2011  Fri Apr 29 13:14:05 -0700 2011   \n",
       "7       Wed Jan 13 13:38:25 -0800 2010  Wed Mar 22 11:46:36 -0700 2017   \n",
       "...                                ...                             ...   \n",
       "99996   Sat Jun 09 08:34:31 -0700 2012  Sat Jun 09 08:34:31 -0700 2012   \n",
       "99997   Sat Jun 09 08:32:04 -0700 2012  Sat Jun 09 08:32:04 -0700 2012   \n",
       "99998   Sat Jun 09 08:31:39 -0700 2012  Sat Jun 09 08:31:39 -0700 2012   \n",
       "99999   Sat Jun 09 08:30:38 -0700 2012  Sat Jun 09 08:30:38 -0700 2012   \n",
       "100000  Sat Jun 09 08:30:33 -0700 2012  Sat Jun 09 08:30:33 -0700 2012   \n",
       "\n",
       "                               read_at                      started_at  \n",
       "3       Sun Dec 15 00:00:00 -0800 2013  Sat Dec 14 00:00:00 -0800 2013  \n",
       "4       Tue Dec 10 00:00:00 -0800 2013                                  \n",
       "5                                                                       \n",
       "6                                                                       \n",
       "7       Sun Mar 25 00:00:00 -0700 2012  Fri Mar 23 00:00:00 -0700 2012  \n",
       "...                                ...                             ...  \n",
       "99996                                                                   \n",
       "99997                                                                   \n",
       "99998                                                                   \n",
       "99999                                                                   \n",
       "100000                                                                  \n",
       "\n",
       "[42464 rows x 10 columns]"
      ]
     },
     "execution_count": 10,
     "metadata": {},
     "output_type": "execute_result"
    }
   ],
   "source": [
    "is_read_df"
   ]
  },
  {
   "cell_type": "code",
   "execution_count": 11,
   "id": "7d9f3729",
   "metadata": {},
   "outputs": [
    {
     "data": {
      "image/png": "[encoded data removed]",
      "text/plain": [
       "<Figure size 432x288 with 1 Axes>"
      ]
     },
     "metadata": {
      "needs_background": "light"
     },
     "output_type": "display_data"
    }
   ],
   "source": [
    "plt.hist(is_read_df['rating'], bins=[1,2,3,4,5])\n",
    "plt.show()"
   ]
  },
  {
   "cell_type": "code",
   "execution_count": 12,
   "id": "97a649e3",
   "metadata": {},
   "outputs": [
    {
     "data": {
      "text/plain": [
       "3.8694423511680482"
      ]
     },
     "execution_count": 12,
     "metadata": {},
     "output_type": "execute_result"
    }
   ],
   "source": [
    "# Calculate average rating\n",
    "avg_rating = np.mean(is_read_df['rating'])\n",
    "avg_rating"
   ]
  },
  {
   "cell_type": "code",
   "execution_count": 13,
   "id": "c2856f3d",
   "metadata": {},
   "outputs": [],
   "source": [
    "# Define user-book rating matrix\n",
    "mat = pd.pivot(is_read_df, index='user_id', columns='book_id', values='rating')\n",
    "mat.replace(0, np.nan, inplace=True)"
   ]
  },
  {
   "cell_type": "code",
   "execution_count": 14,
   "id": "c9e34fac",
   "metadata": {},
   "outputs": [
    {
     "data": {
      "text/html": [
       "<div>\n",
       "<style scoped>\n",
       "    .dataframe tbody tr th:only-of-type {\n",
       "        vertical-align: middle;\n",
       "    }\n",
       "\n",
       "    .dataframe tbody tr th {\n",
       "        vertical-align: top;\n",
       "    }\n",
       "\n",
       "    .dataframe thead th {\n",
       "        text-align: right;\n",
       "    }\n",
       "</style>\n",
       "<table border=\"1\" class=\"dataframe\">\n",
       "  <thead>\n",
       "    <tr style=\"text-align: right;\">\n",
       "      <th>book_id</th>\n",
       "      <th>10000600</th>\n",
       "      <th>10001793</th>\n",
       "      <th>10004138</th>\n",
       "      <th>10025007</th>\n",
       "      <th>1002520</th>\n",
       "      <th>10025305</th>\n",
       "      <th>1002703</th>\n",
       "      <th>1003291</th>\n",
       "      <th>1003318</th>\n",
       "      <th>1003985</th>\n",
       "      <th>...</th>\n",
       "      <th>9961796</th>\n",
       "      <th>9972838</th>\n",
       "      <th>9972882</th>\n",
       "      <th>9975679</th>\n",
       "      <th>9978196</th>\n",
       "      <th>9988148</th>\n",
       "      <th>9989273</th>\n",
       "      <th>999346</th>\n",
       "      <th>9994194</th>\n",
       "      <th>9996853</th>\n",
       "    </tr>\n",
       "    <tr>\n",
       "      <th>user_id</th>\n",
       "      <th></th>\n",
       "      <th></th>\n",
       "      <th></th>\n",
       "      <th></th>\n",
       "      <th></th>\n",
       "      <th></th>\n",
       "      <th></th>\n",
       "      <th></th>\n",
       "      <th></th>\n",
       "      <th></th>\n",
       "      <th></th>\n",
       "      <th></th>\n",
       "      <th></th>\n",
       "      <th></th>\n",
       "      <th></th>\n",
       "      <th></th>\n",
       "      <th></th>\n",
       "      <th></th>\n",
       "      <th></th>\n",
       "      <th></th>\n",
       "      <th></th>\n",
       "    </tr>\n",
       "  </thead>\n",
       "  <tbody>\n",
       "    <tr>\n",
       "      <th>0097fcaad4be6976a4e91410cf300b3b</th>\n",
       "      <td>NaN</td>\n",
       "      <td>NaN</td>\n",
       "      <td>NaN</td>\n",
       "      <td>NaN</td>\n",
       "      <td>NaN</td>\n",
       "      <td>NaN</td>\n",
       "      <td>NaN</td>\n",
       "      <td>NaN</td>\n",
       "      <td>NaN</td>\n",
       "      <td>NaN</td>\n",
       "      <td>...</td>\n",
       "      <td>NaN</td>\n",
       "      <td>NaN</td>\n",
       "      <td>NaN</td>\n",
       "      <td>NaN</td>\n",
       "      <td>NaN</td>\n",
       "      <td>NaN</td>\n",
       "      <td>NaN</td>\n",
       "      <td>NaN</td>\n",
       "      <td>NaN</td>\n",
       "      <td>NaN</td>\n",
       "    </tr>\n",
       "    <tr>\n",
       "      <th>012515e5802b2e0f42915118c90fa04b</th>\n",
       "      <td>NaN</td>\n",
       "      <td>NaN</td>\n",
       "      <td>NaN</td>\n",
       "      <td>NaN</td>\n",
       "      <td>NaN</td>\n",
       "      <td>NaN</td>\n",
       "      <td>NaN</td>\n",
       "      <td>NaN</td>\n",
       "      <td>NaN</td>\n",
       "      <td>NaN</td>\n",
       "      <td>...</td>\n",
       "      <td>NaN</td>\n",
       "      <td>NaN</td>\n",
       "      <td>NaN</td>\n",
       "      <td>NaN</td>\n",
       "      <td>NaN</td>\n",
       "      <td>NaN</td>\n",
       "      <td>NaN</td>\n",
       "      <td>NaN</td>\n",
       "      <td>NaN</td>\n",
       "      <td>NaN</td>\n",
       "    </tr>\n",
       "    <tr>\n",
       "      <th>012aa353140af13109d00ca36cdc0637</th>\n",
       "      <td>NaN</td>\n",
       "      <td>NaN</td>\n",
       "      <td>NaN</td>\n",
       "      <td>NaN</td>\n",
       "      <td>NaN</td>\n",
       "      <td>NaN</td>\n",
       "      <td>NaN</td>\n",
       "      <td>NaN</td>\n",
       "      <td>NaN</td>\n",
       "      <td>NaN</td>\n",
       "      <td>...</td>\n",
       "      <td>NaN</td>\n",
       "      <td>NaN</td>\n",
       "      <td>NaN</td>\n",
       "      <td>NaN</td>\n",
       "      <td>NaN</td>\n",
       "      <td>NaN</td>\n",
       "      <td>NaN</td>\n",
       "      <td>NaN</td>\n",
       "      <td>NaN</td>\n",
       "      <td>NaN</td>\n",
       "    </tr>\n",
       "    <tr>\n",
       "      <th>0147285ddc6b8a9ae27f1829a0bac33a</th>\n",
       "      <td>NaN</td>\n",
       "      <td>NaN</td>\n",
       "      <td>NaN</td>\n",
       "      <td>NaN</td>\n",
       "      <td>NaN</td>\n",
       "      <td>NaN</td>\n",
       "      <td>NaN</td>\n",
       "      <td>NaN</td>\n",
       "      <td>NaN</td>\n",
       "      <td>NaN</td>\n",
       "      <td>...</td>\n",
       "      <td>NaN</td>\n",
       "      <td>NaN</td>\n",
       "      <td>NaN</td>\n",
       "      <td>NaN</td>\n",
       "      <td>NaN</td>\n",
       "      <td>NaN</td>\n",
       "      <td>NaN</td>\n",
       "      <td>NaN</td>\n",
       "      <td>NaN</td>\n",
       "      <td>NaN</td>\n",
       "    </tr>\n",
       "    <tr>\n",
       "      <th>015cb45454dc70dfc692eb17745fc6c0</th>\n",
       "      <td>NaN</td>\n",
       "      <td>NaN</td>\n",
       "      <td>NaN</td>\n",
       "      <td>NaN</td>\n",
       "      <td>NaN</td>\n",
       "      <td>NaN</td>\n",
       "      <td>NaN</td>\n",
       "      <td>NaN</td>\n",
       "      <td>NaN</td>\n",
       "      <td>NaN</td>\n",
       "      <td>...</td>\n",
       "      <td>NaN</td>\n",
       "      <td>NaN</td>\n",
       "      <td>NaN</td>\n",
       "      <td>NaN</td>\n",
       "      <td>NaN</td>\n",
       "      <td>NaN</td>\n",
       "      <td>NaN</td>\n",
       "      <td>NaN</td>\n",
       "      <td>NaN</td>\n",
       "      <td>NaN</td>\n",
       "    </tr>\n",
       "    <tr>\n",
       "      <th>...</th>\n",
       "      <td>...</td>\n",
       "      <td>...</td>\n",
       "      <td>...</td>\n",
       "      <td>...</td>\n",
       "      <td>...</td>\n",
       "      <td>...</td>\n",
       "      <td>...</td>\n",
       "      <td>...</td>\n",
       "      <td>...</td>\n",
       "      <td>...</td>\n",
       "      <td>...</td>\n",
       "      <td>...</td>\n",
       "      <td>...</td>\n",
       "      <td>...</td>\n",
       "      <td>...</td>\n",
       "      <td>...</td>\n",
       "      <td>...</td>\n",
       "      <td>...</td>\n",
       "      <td>...</td>\n",
       "      <td>...</td>\n",
       "      <td>...</td>\n",
       "    </tr>\n",
       "    <tr>\n",
       "      <th>fe2746ac48c0ff728bf9d8475f3f42e8</th>\n",
       "      <td>NaN</td>\n",
       "      <td>NaN</td>\n",
       "      <td>NaN</td>\n",
       "      <td>NaN</td>\n",
       "      <td>NaN</td>\n",
       "      <td>NaN</td>\n",
       "      <td>NaN</td>\n",
       "      <td>NaN</td>\n",
       "      <td>NaN</td>\n",
       "      <td>NaN</td>\n",
       "      <td>...</td>\n",
       "      <td>NaN</td>\n",
       "      <td>NaN</td>\n",
       "      <td>NaN</td>\n",
       "      <td>NaN</td>\n",
       "      <td>NaN</td>\n",
       "      <td>NaN</td>\n",
       "      <td>NaN</td>\n",
       "      <td>NaN</td>\n",
       "      <td>NaN</td>\n",
       "      <td>NaN</td>\n",
       "    </tr>\n",
       "    <tr>\n",
       "      <th>fe899820b2beda4005fac3aa31c54c08</th>\n",
       "      <td>NaN</td>\n",
       "      <td>NaN</td>\n",
       "      <td>NaN</td>\n",
       "      <td>NaN</td>\n",
       "      <td>NaN</td>\n",
       "      <td>NaN</td>\n",
       "      <td>NaN</td>\n",
       "      <td>NaN</td>\n",
       "      <td>NaN</td>\n",
       "      <td>NaN</td>\n",
       "      <td>...</td>\n",
       "      <td>NaN</td>\n",
       "      <td>NaN</td>\n",
       "      <td>NaN</td>\n",
       "      <td>NaN</td>\n",
       "      <td>NaN</td>\n",
       "      <td>NaN</td>\n",
       "      <td>NaN</td>\n",
       "      <td>NaN</td>\n",
       "      <td>NaN</td>\n",
       "      <td>NaN</td>\n",
       "    </tr>\n",
       "    <tr>\n",
       "      <th>fe98878f73553cc022af2a3ef0bb56b4</th>\n",
       "      <td>NaN</td>\n",
       "      <td>NaN</td>\n",
       "      <td>NaN</td>\n",
       "      <td>NaN</td>\n",
       "      <td>NaN</td>\n",
       "      <td>NaN</td>\n",
       "      <td>NaN</td>\n",
       "      <td>NaN</td>\n",
       "      <td>NaN</td>\n",
       "      <td>NaN</td>\n",
       "      <td>...</td>\n",
       "      <td>NaN</td>\n",
       "      <td>NaN</td>\n",
       "      <td>NaN</td>\n",
       "      <td>NaN</td>\n",
       "      <td>NaN</td>\n",
       "      <td>NaN</td>\n",
       "      <td>NaN</td>\n",
       "      <td>NaN</td>\n",
       "      <td>NaN</td>\n",
       "      <td>NaN</td>\n",
       "    </tr>\n",
       "    <tr>\n",
       "      <th>fed1d27323bb1994b8a28d82b1a29fce</th>\n",
       "      <td>NaN</td>\n",
       "      <td>NaN</td>\n",
       "      <td>NaN</td>\n",
       "      <td>NaN</td>\n",
       "      <td>NaN</td>\n",
       "      <td>NaN</td>\n",
       "      <td>NaN</td>\n",
       "      <td>NaN</td>\n",
       "      <td>NaN</td>\n",
       "      <td>NaN</td>\n",
       "      <td>...</td>\n",
       "      <td>NaN</td>\n",
       "      <td>NaN</td>\n",
       "      <td>NaN</td>\n",
       "      <td>NaN</td>\n",
       "      <td>NaN</td>\n",
       "      <td>NaN</td>\n",
       "      <td>NaN</td>\n",
       "      <td>NaN</td>\n",
       "      <td>NaN</td>\n",
       "      <td>NaN</td>\n",
       "    </tr>\n",
       "    <tr>\n",
       "      <th>ff6e627245f1f45e86706531bbff8777</th>\n",
       "      <td>NaN</td>\n",
       "      <td>NaN</td>\n",
       "      <td>NaN</td>\n",
       "      <td>NaN</td>\n",
       "      <td>NaN</td>\n",
       "      <td>NaN</td>\n",
       "      <td>NaN</td>\n",
       "      <td>NaN</td>\n",
       "      <td>NaN</td>\n",
       "      <td>NaN</td>\n",
       "      <td>...</td>\n",
       "      <td>NaN</td>\n",
       "      <td>NaN</td>\n",
       "      <td>NaN</td>\n",
       "      <td>NaN</td>\n",
       "      <td>NaN</td>\n",
       "      <td>NaN</td>\n",
       "      <td>NaN</td>\n",
       "      <td>NaN</td>\n",
       "      <td>NaN</td>\n",
       "      <td>NaN</td>\n",
       "    </tr>\n",
       "  </tbody>\n",
       "</table>\n",
       "<p>1219 rows × 10006 columns</p>\n",
       "</div>"
      ],
      "text/plain": [
       "book_id                           10000600  10001793  10004138  10025007  \\\n",
       "user_id                                                                    \n",
       "0097fcaad4be6976a4e91410cf300b3b       NaN       NaN       NaN       NaN   \n",
       "012515e5802b2e0f42915118c90fa04b       NaN       NaN       NaN       NaN   \n",
       "012aa353140af13109d00ca36cdc0637       NaN       NaN       NaN       NaN   \n",
       "0147285ddc6b8a9ae27f1829a0bac33a       NaN       NaN       NaN       NaN   \n",
       "015cb45454dc70dfc692eb17745fc6c0       NaN       NaN       NaN       NaN   \n",
       "...                                    ...       ...       ...       ...   \n",
       "fe2746ac48c0ff728bf9d8475f3f42e8       NaN       NaN       NaN       NaN   \n",
       "fe899820b2beda4005fac3aa31c54c08       NaN       NaN       NaN       NaN   \n",
       "fe98878f73553cc022af2a3ef0bb56b4       NaN       NaN       NaN       NaN   \n",
       "fed1d27323bb1994b8a28d82b1a29fce       NaN       NaN       NaN       NaN   \n",
       "ff6e627245f1f45e86706531bbff8777       NaN       NaN       NaN       NaN   \n",
       "\n",
       "book_id                           1002520  10025305  1002703  1003291  \\\n",
       "user_id                                                                 \n",
       "0097fcaad4be6976a4e91410cf300b3b      NaN       NaN      NaN      NaN   \n",
       "012515e5802b2e0f42915118c90fa04b      NaN       NaN      NaN      NaN   \n",
       "012aa353140af13109d00ca36cdc0637      NaN       NaN      NaN      NaN   \n",
       "0147285ddc6b8a9ae27f1829a0bac33a      NaN       NaN      NaN      NaN   \n",
       "015cb45454dc70dfc692eb17745fc6c0      NaN       NaN      NaN      NaN   \n",
       "...                                   ...       ...      ...      ...   \n",
       "fe2746ac48c0ff728bf9d8475f3f42e8      NaN       NaN      NaN      NaN   \n",
       "fe899820b2beda4005fac3aa31c54c08      NaN       NaN      NaN      NaN   \n",
       "fe98878f73553cc022af2a3ef0bb56b4      NaN       NaN      NaN      NaN   \n",
       "fed1d27323bb1994b8a28d82b1a29fce      NaN       NaN      NaN      NaN   \n",
       "ff6e627245f1f45e86706531bbff8777      NaN       NaN      NaN      NaN   \n",
       "\n",
       "book_id                           1003318  1003985  ...  9961796  9972838  \\\n",
       "user_id                                             ...                     \n",
       "0097fcaad4be6976a4e91410cf300b3b      NaN      NaN  ...      NaN      NaN   \n",
       "012515e5802b2e0f42915118c90fa04b      NaN      NaN  ...      NaN      NaN   \n",
       "012aa353140af13109d00ca36cdc0637      NaN      NaN  ...      NaN      NaN   \n",
       "0147285ddc6b8a9ae27f1829a0bac33a      NaN      NaN  ...      NaN      NaN   \n",
       "015cb45454dc70dfc692eb17745fc6c0      NaN      NaN  ...      NaN      NaN   \n",
       "...                                   ...      ...  ...      ...      ...   \n",
       "fe2746ac48c0ff728bf9d8475f3f42e8      NaN      NaN  ...      NaN      NaN   \n",
       "fe899820b2beda4005fac3aa31c54c08      NaN      NaN  ...      NaN      NaN   \n",
       "fe98878f73553cc022af2a3ef0bb56b4      NaN      NaN  ...      NaN      NaN   \n",
       "fed1d27323bb1994b8a28d82b1a29fce      NaN      NaN  ...      NaN      NaN   \n",
       "ff6e627245f1f45e86706531bbff8777      NaN      NaN  ...      NaN      NaN   \n",
       "\n",
       "book_id                           9972882  9975679  9978196  9988148  9989273  \\\n",
       "user_id                                                                         \n",
       "0097fcaad4be6976a4e91410cf300b3b      NaN      NaN      NaN      NaN      NaN   \n",
       "012515e5802b2e0f42915118c90fa04b      NaN      NaN      NaN      NaN      NaN   \n",
       "012aa353140af13109d00ca36cdc0637      NaN      NaN      NaN      NaN      NaN   \n",
       "0147285ddc6b8a9ae27f1829a0bac33a      NaN      NaN      NaN      NaN      NaN   \n",
       "015cb45454dc70dfc692eb17745fc6c0      NaN      NaN      NaN      NaN      NaN   \n",
       "...                                   ...      ...      ...      ...      ...   \n",
       "fe2746ac48c0ff728bf9d8475f3f42e8      NaN      NaN      NaN      NaN      NaN   \n",
       "fe899820b2beda4005fac3aa31c54c08      NaN      NaN      NaN      NaN      NaN   \n",
       "fe98878f73553cc022af2a3ef0bb56b4      NaN      NaN      NaN      NaN      NaN   \n",
       "fed1d27323bb1994b8a28d82b1a29fce      NaN      NaN      NaN      NaN      NaN   \n",
       "ff6e627245f1f45e86706531bbff8777      NaN      NaN      NaN      NaN      NaN   \n",
       "\n",
       "book_id                           999346  9994194  9996853  \n",
       "user_id                                                     \n",
       "0097fcaad4be6976a4e91410cf300b3b     NaN      NaN      NaN  \n",
       "012515e5802b2e0f42915118c90fa04b     NaN      NaN      NaN  \n",
       "012aa353140af13109d00ca36cdc0637     NaN      NaN      NaN  \n",
       "0147285ddc6b8a9ae27f1829a0bac33a     NaN      NaN      NaN  \n",
       "015cb45454dc70dfc692eb17745fc6c0     NaN      NaN      NaN  \n",
       "...                                  ...      ...      ...  \n",
       "fe2746ac48c0ff728bf9d8475f3f42e8     NaN      NaN      NaN  \n",
       "fe899820b2beda4005fac3aa31c54c08     NaN      NaN      NaN  \n",
       "fe98878f73553cc022af2a3ef0bb56b4     NaN      NaN      NaN  \n",
       "fed1d27323bb1994b8a28d82b1a29fce     NaN      NaN      NaN  \n",
       "ff6e627245f1f45e86706531bbff8777     NaN      NaN      NaN  \n",
       "\n",
       "[1219 rows x 10006 columns]"
      ]
     },
     "execution_count": 14,
     "metadata": {},
     "output_type": "execute_result"
    }
   ],
   "source": [
    "mat"
   ]
  },
  {
   "cell_type": "code",
   "execution_count": 15,
   "id": "6f2c966c",
   "metadata": {},
   "outputs": [
    {
     "data": {
      "text/plain": [
       "((38217, 10), (4247, 10))"
      ]
     },
     "execution_count": 15,
     "metadata": {},
     "output_type": "execute_result"
    }
   ],
   "source": [
    "# Train/test split\n",
    "train, test = sklearn.model_selection.train_test_split(is_read_df, test_size=0.1, random_state=1111)\n",
    "train.shape, test.shape"
   ]
  },
  {
   "cell_type": "code",
   "execution_count": 16,
   "id": "bd8fe6fc",
   "metadata": {},
   "outputs": [],
   "source": [
    "# Set all test values to nan\n",
    "zipped_test = np.c_[test['user_id'], test['book_id'], test['rating']]\n",
    "test_mask = np.full(mat.shape, False)\n",
    "for i in range(len(zipped_test)):\n",
    "    row_idx = mat.index.get_loc(zipped_test[i][0])\n",
    "    col_idx = mat.columns.get_loc(zipped_test[i][1])\n",
    "    test_mask[row_idx, col_idx] = True\n",
    "test_actuals = np.array(mat)[test_mask] # Save test actuals\n",
    "mat[test_mask] = np.nan"
   ]
  },
  {
   "cell_type": "code",
   "execution_count": 17,
   "id": "afe1f7a7",
   "metadata": {},
   "outputs": [
    {
     "data": {
      "text/plain": [
       "nan"
      ]
     },
     "execution_count": 17,
     "metadata": {},
     "output_type": "execute_result"
    }
   ],
   "source": [
    "mat.at[zipped_test[0][0], zipped_test[0][1]]"
   ]
  },
  {
   "cell_type": "code",
   "execution_count": 18,
   "id": "b7be0a1b",
   "metadata": {},
   "outputs": [
    {
     "data": {
      "text/plain": [
       "0.9968667691919713"
      ]
     },
     "execution_count": 18,
     "metadata": {},
     "output_type": "execute_result"
    }
   ],
   "source": [
    "# Calculate sparsity of data\n",
    "not_null = mat.count().sum()\n",
    "sparsity = 1 - not_null / (mat.shape[0] * mat.shape[1])\n",
    "sparsity"
   ]
  },
  {
   "cell_type": "code",
   "execution_count": 19,
   "id": "752bc837",
   "metadata": {},
   "outputs": [
    {
     "data": {
      "text/plain": [
       "book_id\n",
       "2767052     618\n",
       "6148028     468\n",
       "41865       467\n",
       "7260188     437\n",
       "11870085    329\n",
       "           ... \n",
       "6319120       0\n",
       "147894        0\n",
       "11486357      0\n",
       "904965        0\n",
       "8202129       0\n",
       "Length: 10006, dtype: int64"
      ]
     },
     "execution_count": 19,
     "metadata": {},
     "output_type": "execute_result"
    }
   ],
   "source": [
    "mat.count().sort_values(ascending=False)"
   ]
  },
  {
   "cell_type": "code",
   "execution_count": 57,
   "id": "da73ad3e",
   "metadata": {},
   "outputs": [
    {
     "data": {
      "text/plain": [
       "572"
      ]
     },
     "execution_count": 57,
     "metadata": {},
     "output_type": "execute_result"
    }
   ],
   "source": [
    "# Number of books with 0 ratings\n",
    "(mat.count()==0).sum()"
   ]
  },
  {
   "cell_type": "code",
   "execution_count": 20,
   "id": "34309974",
   "metadata": {},
   "outputs": [
    {
     "name": "stderr",
     "output_type": "stream",
     "text": [
      "<ipython-input-20-9498d0462504>:2: RuntimeWarning: Mean of empty slice\n",
      "  avg_book_rating = np.nanmean(mat, axis=0) # column avg r_j\n"
     ]
    }
   ],
   "source": [
    "# Calculate average rating for each book over users\n",
    "avg_book_rating = np.nanmean(mat, axis=0) # column avg r_j\n",
    "# For empty columns, fill with avg rating\n",
    "np.nan_to_num(avg_book_rating, copy=False, nan=avg_rating)\n",
    "\n",
    "# Fill missing value with the appropriate average for that book\n",
    "filled = np.where(np.isnan(mat), avg_book_rating, mat)"
   ]
  },
  {
   "cell_type": "code",
   "execution_count": 21,
   "id": "86df05d7",
   "metadata": {},
   "outputs": [],
   "source": [
    "# Remove from each user (row) the mean over all books\n",
    "avg_user_rating = np.average(filled, axis=1) # row avg r_i\n",
    "avg_user_rating_col_vec = avg_user_rating.reshape(len(avg_user_rating),1)\n",
    "normalized = filled - avg_user_rating_col_vec"
   ]
  },
  {
   "cell_type": "code",
   "execution_count": 22,
   "id": "67cc7a0d",
   "metadata": {},
   "outputs": [
    {
     "data": {
      "text/plain": [
       "array([[ 0.20996769, -0.79003231,  1.20996769, ..., -1.79003231,\n",
       "         0.20996769,  1.20996769],\n",
       "       [ 0.21098751, -0.78901249,  1.21098751, ..., -1.78901249,\n",
       "         0.21098751,  1.21098751],\n",
       "       [ 0.21053535, -0.78946465,  1.21053535, ..., -1.78946465,\n",
       "         0.21053535,  1.21053535],\n",
       "       ...,\n",
       "       [ 0.20775628, -0.79224372,  1.20775628, ..., -1.79224372,\n",
       "         0.20775628,  1.20775628],\n",
       "       [ 0.21008777, -0.78991223,  1.21008777, ..., -1.78991223,\n",
       "         0.21008777,  1.21008777],\n",
       "       [ 0.2128791 , -0.7871209 ,  1.2128791 , ..., -1.7871209 ,\n",
       "         0.2128791 ,  1.2128791 ]])"
      ]
     },
     "execution_count": 22,
     "metadata": {},
     "output_type": "execute_result"
    }
   ],
   "source": [
    "normalized"
   ]
  },
  {
   "cell_type": "code",
   "execution_count": 23,
   "id": "9ee9260e",
   "metadata": {},
   "outputs": [
    {
     "data": {
      "text/plain": [
       "(1219, 10006)"
      ]
     },
     "execution_count": 23,
     "metadata": {},
     "output_type": "execute_result"
    }
   ],
   "source": [
    "normalized.shape"
   ]
  },
  {
   "cell_type": "code",
   "execution_count": 24,
   "id": "8b22a781",
   "metadata": {},
   "outputs": [],
   "source": [
    "# Perform SVD, decide on a rank k, and calculate a reduced rating matrix to remove noise\n",
    "# Can use sparse matrix algorithms because of special structure\n",
    "# How to choose k: if top few values are big and the rest are small, take the big values. So chose k=11\n",
    "U, S, VT = scipy.sparse.linalg.svds(normalized, k=6) # CHANGE BACK TO k=11"
   ]
  },
  {
   "cell_type": "code",
   "execution_count": 25,
   "id": "45ef5596",
   "metadata": {},
   "outputs": [],
   "source": [
    "#U, S, VT = np.linalg.svd(normalized) #k=10\n",
    "\n",
    "# U = U[:, :9]\n",
    "# S = S[:9]\n",
    "# VT = VT[:9, :]"
   ]
  },
  {
   "cell_type": "code",
   "execution_count": 26,
   "id": "0b8bfa64",
   "metadata": {},
   "outputs": [
    {
     "data": {
      "text/plain": [
       "array([  20.14268633,   21.42003648,   23.61941949,   27.83439699,\n",
       "         41.42732491, 2899.6861076 ])"
      ]
     },
     "execution_count": 26,
     "metadata": {},
     "output_type": "execute_result"
    }
   ],
   "source": [
    "S"
   ]
  },
  {
   "cell_type": "code",
   "execution_count": 27,
   "id": "abd30e6f",
   "metadata": {},
   "outputs": [
    {
     "data": {
      "text/plain": [
       "((1219, 6), (6,), (6, 10006))"
      ]
     },
     "execution_count": 27,
     "metadata": {},
     "output_type": "execute_result"
    }
   ],
   "source": [
    "U.shape, S.shape, VT.shape"
   ]
  },
  {
   "cell_type": "code",
   "execution_count": 28,
   "id": "1ff324eb",
   "metadata": {},
   "outputs": [],
   "source": [
    "reduced_rating = U @ np.diag(S) @ VT"
   ]
  },
  {
   "cell_type": "code",
   "execution_count": 29,
   "id": "1f7b17b4",
   "metadata": {},
   "outputs": [
    {
     "data": {
      "text/plain": [
       "array([[ 0.209946  , -0.79022545,  1.21011744, ..., -1.78836591,\n",
       "         0.209946  ,  1.21011744],\n",
       "       [ 0.20984034, -0.79089135,  1.21057204, ..., -1.79211889,\n",
       "         0.20984034,  1.21057204],\n",
       "       [ 0.21023898, -0.78967036,  1.21014833, ..., -1.7902316 ,\n",
       "         0.21023898,  1.21014833],\n",
       "       ...,\n",
       "       [ 0.20706355, -0.79314628,  1.20727337, ..., -1.78982108,\n",
       "         0.20706355,  1.20727337],\n",
       "       [ 0.21008405, -0.78982354,  1.20999164, ..., -1.79260692,\n",
       "         0.21008405,  1.20999164],\n",
       "       [ 0.21305531, -0.78736422,  1.21347484, ..., -1.79032049,\n",
       "         0.21305531,  1.21347484]])"
      ]
     },
     "execution_count": 29,
     "metadata": {},
     "output_type": "execute_result"
    }
   ],
   "source": [
    "reduced_rating # SHOULD THIS BE >=1? Maybe not, because it's already been reduced"
   ]
  },
  {
   "cell_type": "code",
   "execution_count": 30,
   "id": "c463fc3c",
   "metadata": {},
   "outputs": [
    {
     "data": {
      "text/plain": [
       "(1219, 10006)"
      ]
     },
     "execution_count": 30,
     "metadata": {},
     "output_type": "execute_result"
    }
   ],
   "source": [
    "reduced_rating.shape"
   ]
  },
  {
   "cell_type": "code",
   "execution_count": 31,
   "id": "67a4fd6b",
   "metadata": {},
   "outputs": [],
   "source": [
    "# Calculate matrix product for dimensionality-reduced rating matrix\n",
    "sqrtS = np.diag(np.sqrt(S))\n",
    "meta_on_users = U @ np.transpose(sqrtS)\n",
    "meta_on_items = sqrtS @ VT"
   ]
  },
  {
   "cell_type": "code",
   "execution_count": 32,
   "id": "2306e73c",
   "metadata": {},
   "outputs": [
    {
     "data": {
      "text/plain": [
       "array([[-5.61739006e-04, -2.83784769e-05, -1.09509953e-03, ...,\n",
       "        -1.32870508e-02, -5.61739006e-04, -1.09509953e-03],\n",
       "       [-5.81308604e-04, -1.19601683e-04, -1.04301552e-03, ...,\n",
       "        -1.60017140e-04, -5.81308604e-04, -1.04301552e-03],\n",
       "       [-8.24661904e-03, -6.89397003e-03, -9.59926805e-03, ...,\n",
       "         1.12533209e-02, -8.24661904e-03, -9.59926805e-03],\n",
       "       [ 4.14814558e-03,  2.78095001e-03,  5.51534116e-03, ...,\n",
       "         3.26812328e-03,  4.14814558e-03,  5.51534116e-03],\n",
       "       [ 5.64830007e-03,  5.66838068e-03,  5.62821946e-03, ...,\n",
       "         6.80101783e-03,  5.64830007e-03,  5.62821946e-03],\n",
       "       [ 1.36370300e-01, -5.12004765e-01,  7.84745364e-01, ...,\n",
       "        -1.16038062e+00,  1.36370300e-01,  7.84745364e-01]])"
      ]
     },
     "execution_count": 32,
     "metadata": {},
     "output_type": "execute_result"
    }
   ],
   "source": [
    "meta_on_items"
   ]
  },
  {
   "cell_type": "code",
   "execution_count": 33,
   "id": "4751c964",
   "metadata": {},
   "outputs": [],
   "source": [
    "# # Calculate similarity of 2 books j and f based on the reduced rating matrix\n",
    "# # Similarity is the correlation of 2 movies based on average over users\n",
    "# def similarity(j, f, matrix):\n",
    "#     j_col = matrix[:, j]\n",
    "#     f_col = matrix[:, f]\n",
    "#     numerator = np.sum(np.multiply(j_col, f_col))\n",
    "#     denominator = np.sqrt(np.multiply(np.sum(np.square(j_col)), np.sum(np.square(f_col))))\n",
    "#     return numerator / denominator"
   ]
  },
  {
   "cell_type": "code",
   "execution_count": 34,
   "id": "187fd785",
   "metadata": {},
   "outputs": [],
   "source": [
    "# num_books = reduced_rating.shape[1]\n",
    "# t1 = time()\n",
    "# similarities = np.zeros((num_books, num_books))\n",
    "# # TODO: is there a faster way to do this?\n",
    "# for i in range(num_books):\n",
    "#     for j in range(num_books):\n",
    "#         similarities[i, j] = similarity(i, j, meta_on_items)\n",
    "# t2 = time()"
   ]
  },
  {
   "cell_type": "code",
   "execution_count": 35,
   "id": "3ec459b7",
   "metadata": {},
   "outputs": [],
   "source": [
    "# t2-t1"
   ]
  },
  {
   "cell_type": "code",
   "execution_count": 36,
   "id": "4fdb9ea9",
   "metadata": {},
   "outputs": [],
   "source": [
    "# num_books = reduced_rating.shape[1]\n",
    "# t1 = time()\n",
    "# col_prods = meta_on_items.T.dot(meta_on_items)\n",
    "\n",
    "# similarities2 = np.zeros((num_books, num_books))\n",
    "# # TODO: is there a faster way to do this?\n",
    "# for i in range(num_books):\n",
    "#     for j in range(i, num_books):\n",
    "#         similarities2[i, j] = col_prods[i, j] / np.sqrt(col_prods[i, i] * col_prods[j, j])\n",
    "#         similarities2[j, i] = similarities2[i, j]\n",
    "# t2 = time()"
   ]
  },
  {
   "cell_type": "code",
   "execution_count": 37,
   "id": "e0a782b1",
   "metadata": {},
   "outputs": [],
   "source": [
    "# similarities.shape, t2-t1, np.allclose(similarities, similarities2)"
   ]
  },
  {
   "cell_type": "code",
   "execution_count": 38,
   "id": "e56771a1",
   "metadata": {},
   "outputs": [],
   "source": [
    "num_books = reduced_rating.shape[1]\n",
    "t1 = time()\n",
    "similarities = pw.cosine_similarity(meta_on_items.T, meta_on_items.T)\n",
    "t2 = time()"
   ]
  },
  {
   "cell_type": "code",
   "execution_count": 39,
   "id": "4624735f",
   "metadata": {},
   "outputs": [
    {
     "data": {
      "text/plain": [
       "((10006, 10006), 0.14583039283752441)"
      ]
     },
     "execution_count": 39,
     "metadata": {},
     "output_type": "execute_result"
    }
   ],
   "source": [
    "similarities.shape, t2-t1"
   ]
  },
  {
   "cell_type": "code",
   "execution_count": 40,
   "id": "45ecea6a",
   "metadata": {},
   "outputs": [],
   "source": [
    "# # Without reducing dimensionality\n",
    "# num_books = reduced_rating.shape[1]\n",
    "# t1 = time()\n",
    "# similarities = pw.cosine_similarity(reduced_rating.T, reduced_rating.T)\n",
    "# t2 = time()\n",
    "# similarities.shape, t2-t1"
   ]
  },
  {
   "cell_type": "code",
   "execution_count": 41,
   "id": "4503ef5e",
   "metadata": {},
   "outputs": [],
   "source": [
    "# # TODO: try optimizing\n",
    "# # Calculate prediction of rating by user i of book j, by avging over the ratings of all books by the same user, each weighted according to its similarity to book j\n",
    "# num_users = reduced_rating.shape[0]\n",
    "# predictions = np.zeros((num_users, num_books))\n",
    "\n",
    "# # Isolate the set of items which appear to be the most similar to the active item. Vozalis suggests 10 items is best.\n",
    "# most_similar_idx = np.argsort(similarities, axis=1)[:,-10:]\n",
    "# for a in range(num_users):\n",
    "#     for j in range(num_books):\n",
    "#         numerator = 0\n",
    "#         denominator = 0\n",
    "#         # check that similarities are non-negative\n",
    "#         for k in most_similar_idx[j,:]:\n",
    "#             sim = similarities[j,k]\n",
    "#             if sim < 0:\n",
    "#                 break\n",
    "#             numerator += sim * (reduced_rating[a,k] + avg_user_rating[a])\n",
    "#             denominator += sim\n",
    "#         predictions[a,j] = numerator/denominator"
   ]
  },
  {
   "cell_type": "code",
   "execution_count": 45,
   "id": "48eaaa86",
   "metadata": {},
   "outputs": [
    {
     "data": {
      "text/plain": [
       "150.19122314453125"
      ]
     },
     "execution_count": 45,
     "metadata": {},
     "output_type": "execute_result"
    }
   ],
   "source": [
    "def rearrange_cols(arr, idx):\n",
    "    rows = np.indices(idx.shape)[0]\n",
    "    return arr[rows, idx]\n",
    "\n",
    "# Calculate prediction of rating by user i of book j, by avging over the ratings of all books by the same user, each weighted according to its similarity to book j\n",
    "num_users = reduced_rating.shape[0]\n",
    "predictions = np.zeros((num_users, num_books))\n",
    "\n",
    "# Isolate the set of items which appear to be the most similar to the active item. Vozalis suggests 10 items is best.\n",
    "t1 = time()\n",
    "most_similar_idx = np.argsort(similarities, axis=1)[:,:-11:-1]\n",
    "adjusted_rating = reduced_rating + avg_user_rating[:,np.newaxis]\n",
    "nonneg_sims = np.where(similarities > 0, similarities, 0)\n",
    "sorted_sims = rearrange_cols(nonneg_sims, most_similar_idx)\n",
    "denominator = np.sum(sorted_sims, axis=1)\n",
    "for a in range(num_users):\n",
    "    for j in range(num_books):\n",
    "        numerator = 0\n",
    "        for k in most_similar_idx[j,:]:\n",
    "            numerator += nonneg_sims[j,k] * adjusted_rating[a,k]\n",
    "        predictions[a,j] = numerator/denominator[j]\n",
    "t2 = time()\n",
    "t2-t1"
   ]
  },
  {
   "cell_type": "code",
   "execution_count": 46,
   "id": "c4928039",
   "metadata": {},
   "outputs": [
    {
     "name": "stdout",
     "output_type": "stream",
     "text": [
      "0.9869462914225018 5.101125038034682\n"
     ]
    },
    {
     "data": {
      "text/plain": [
       "array([[3.99997831, 2.99980686, 5.00014976, ..., 2.40107635, 3.99997831,\n",
       "        5.00014976],\n",
       "       [3.99885284, 2.99812114, 4.99958453, ..., 2.39751921, 3.99885284,\n",
       "        4.99958453],\n",
       "       [3.99970363, 2.99979429, 4.99961297, ..., 2.39944588, 3.99970363,\n",
       "        4.99961297],\n",
       "       ...,\n",
       "       [3.99930726, 2.99909744, 4.99951708, ..., 2.40191302, 3.99930726,\n",
       "        4.99951708],\n",
       "       [3.99999627, 3.00008869, 4.99990386, ..., 2.39833161, 3.99999627,\n",
       "        4.99990386],\n",
       "       [4.00017621, 2.99975668, 5.00059574, ..., 2.39715546, 4.00017621,\n",
       "        5.00059574]])"
      ]
     },
     "execution_count": 46,
     "metadata": {},
     "output_type": "execute_result"
    }
   ],
   "source": [
    "print(np.min(predictions), np.max(predictions))\n",
    "predictions"
   ]
  },
  {
   "cell_type": "code",
   "execution_count": 47,
   "id": "7690a4d4",
   "metadata": {},
   "outputs": [
    {
     "data": {
      "text/plain": [
       "(1219, 10006)"
      ]
     },
     "execution_count": 47,
     "metadata": {},
     "output_type": "execute_result"
    }
   ],
   "source": [
    "np.shape(predictions)"
   ]
  },
  {
   "cell_type": "code",
   "execution_count": 48,
   "id": "f4dbc3fb",
   "metadata": {},
   "outputs": [],
   "source": [
    "# Define error function\n",
    "def rmse(predictions, actuals):\n",
    "    return np.sqrt(((predictions - actuals) ** 2).mean())"
   ]
  },
  {
   "cell_type": "code",
   "execution_count": 49,
   "id": "631fe670",
   "metadata": {},
   "outputs": [
    {
     "data": {
      "text/plain": [
       "0.810846407349137"
      ]
     },
     "execution_count": 49,
     "metadata": {},
     "output_type": "execute_result"
    }
   ],
   "source": [
    "# Calculate training error\n",
    "training_mask = np.array(mat.notna())\n",
    "train_predictions = predictions[training_mask]\n",
    "train_actuals = np.array(mat)[training_mask]\n",
    "train_rmse = rmse(train_predictions, train_actuals)\n",
    "train_rmse"
   ]
  },
  {
   "cell_type": "code",
   "execution_count": 50,
   "id": "dbf4ce15",
   "metadata": {},
   "outputs": [
    {
     "data": {
      "text/plain": [
       "(array([3.96640918, 4.44333669, 4.42464842, ..., 3.98759445, 3.61870703,\n",
       "        3.60235035]),\n",
       " array([5., 5., 5., ..., 4., 2., 3.]))"
      ]
     },
     "execution_count": 50,
     "metadata": {},
     "output_type": "execute_result"
    }
   ],
   "source": [
    "train_predictions, train_actuals"
   ]
  },
  {
   "cell_type": "code",
   "execution_count": 51,
   "id": "6dba6635",
   "metadata": {},
   "outputs": [
    {
     "data": {
      "text/plain": [
       "1.0232062453487905"
      ]
     },
     "execution_count": 51,
     "metadata": {},
     "output_type": "execute_result"
    }
   ],
   "source": [
    "# Calculate test error\n",
    "#zipped_test = np.c_[test['user_id'], test['book_id'], test['rating']]\n",
    "test_predictions = predictions[test_mask]\n",
    "test_rmse = rmse(test_predictions, test_actuals)\n",
    "test_rmse"
   ]
  },
  {
   "cell_type": "code",
   "execution_count": 52,
   "id": "2fcc5b1c",
   "metadata": {},
   "outputs": [
    {
     "data": {
      "text/plain": [
       "(array([3.91033426, 3.96774087, 4.02746113, 3.92615906, 3.99885284,\n",
       "        3.68779743, 4.1654636 , 3.97184558, 3.99606243, 3.89449871]),\n",
       " array([5., 5., 5., 5., 4., 4., 4., 5., 5., 5.]))"
      ]
     },
     "execution_count": 52,
     "metadata": {},
     "output_type": "execute_result"
    }
   ],
   "source": [
    "test_predictions[:10], test_actuals[:10]"
   ]
  },
  {
   "cell_type": "code",
   "execution_count": 53,
   "id": "525c5cba",
   "metadata": {},
   "outputs": [
    {
     "data": {
      "text/plain": [
       "(1.0065748449630971, 1.0168112026908493)"
      ]
     },
     "execution_count": 53,
     "metadata": {},
     "output_type": "execute_result"
    }
   ],
   "source": [
    "# Calculate error if just rated everything the avg rating\n",
    "avg_train = np.full(train_actuals.shape, avg_rating)\n",
    "avg_train_rmse = rmse(avg_train, train_actuals)\n",
    "avg_test = np.full(test_actuals.shape, avg_rating)\n",
    "avg_test_rmse = rmse(avg_test, test_actuals)\n",
    "avg_train_rmse, avg_test_rmse"
   ]
  },
  {
   "cell_type": "markdown",
   "id": "2b485a45",
   "metadata": {},
   "source": [
    "# Debugging"
   ]
  },
  {
   "cell_type": "code",
   "execution_count": null,
   "id": "72411437",
   "metadata": {},
   "outputs": [],
   "source": [
    "np.argsort(similarities, axis=0)"
   ]
  },
  {
   "cell_type": "code",
   "execution_count": null,
   "id": "b3773305",
   "metadata": {},
   "outputs": [],
   "source": [
    "testing = np.array([[1,5,8,3,7],[1,2,3,4,5]])\n",
    "sorted_testing = np.argsort(testing, axis=1)\n",
    "sorted_testing[:,-2:]"
   ]
  },
  {
   "cell_type": "code",
   "execution_count": null,
   "id": "9f8d9149",
   "metadata": {},
   "outputs": [],
   "source": [
    "np.all(predictions < 5), np.all(predictions > 1)"
   ]
  },
  {
   "cell_type": "code",
   "execution_count": null,
   "id": "023e9db4",
   "metadata": {},
   "outputs": [],
   "source": [
    "np.all(reduced_rating < 5), np.all(reduced_rating > 1)"
   ]
  },
  {
   "cell_type": "code",
   "execution_count": null,
   "id": "53fc2cad",
   "metadata": {},
   "outputs": [],
   "source": [
    "reduced_rating"
   ]
  },
  {
   "cell_type": "code",
   "execution_count": null,
   "id": "1b0c55b6",
   "metadata": {},
   "outputs": [],
   "source": [
    "avg_user_rating"
   ]
  }
 ],
 "metadata": {
  "kernelspec": {
   "display_name": "Python 3",
   "language": "python",
   "name": "python3"
  },
  "language_info": {
   "codemirror_mode": {
    "name": "ipython",
    "version": 3
   },
   "file_extension": ".py",
   "mimetype": "text/x-python",
   "name": "python",
   "nbconvert_exporter": "python",
   "pygments_lexer": "ipython3",
   "version": "3.8.8"
  }
 },
 "nbformat": 4,
 "nbformat_minor": 5
}
